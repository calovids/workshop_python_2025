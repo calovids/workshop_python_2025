{
 "cells": [
  {
   "cell_type": "markdown",
   "metadata": {},
   "source": [
    "# Pandas for Scientific Data (Animal Tracking) Workshop\n",
    "\n",
    "We will explore key pandas concepts and patterns commonly used in scientific data analysis, using biological examples (like animal observation data). This notebook is structured as a hands-on code-along, so make sure to run the code cells and experiment with the examples.\n",
    "\n",
    "**Topics Covered:**\n",
    "1. **Multi-indexing**: Creating multi-level indices, accessing data, resetting indices.\n",
    "2. **Merging DataFrames**: Combining data with inner, outer, left, and right joins.\n",
    "3. **GroupBy Operations**: Aggregating data by groups (including custom functions).\n",
    "4. **Pivot and Pivot Tables**: Reshaping data from long to wide format.\n",
    "5. **Efficiency Pitfalls**: Why `DataFrame.apply` can be slow.\n",
    "6. **Looping Pitfalls**: Why using Python `for` loops or `iterrows` is inefficient in pandas.\n",
    "7. **Chained Indexing Caution**: Why chained indexing should be avoided and how to do it right.\n",
    "8. **Challenges**: Two end-of-notebook exercises to practice these concepts, with solutions.\n",
    "\n",
    "Let's get started!\n",
    "\n",
    "---\n",
    "\n",
    "## 1. Multi-Indexing in pandas\n",
    "\n",
    "**Multi-indexing** allows a DataFrame to have multiple index (row) levels. This is useful for hierarchical or grouped data (e.g., experiments with multiple conditions, animal trajectories over time, etc.). With multi-index, you can index your data by two or more keys for more complex data relationships.\n",
    "\n",
    "**Key concepts:**\n",
    "- You can create a multi-index by setting multiple columns as the index.\n",
    "- Access data by providing a tuple of index values (or using slice notation for ranges).\n",
    "- Multi-index can be converted back to regular columns with `reset_index()` when needed.\n",
    "\n",
    "Let's see multi-indexing in action with an example dataset of animal observations over multiple days.\n"
   ]
  },
  {
   "cell_type": "code",
   "execution_count": 1,
   "metadata": {},
   "outputs": [
    {
     "name": "stdout",
     "output_type": "stream",
     "text": [
      "Original DataFrame:\n"
     ]
    },
    {
     "data": {
      "application/vnd.microsoft.datawrangler.viewer.v0+json": {
       "columns": [
        {
         "name": "index",
         "rawType": "int64",
         "type": "integer"
        },
        {
         "name": "Animal",
         "rawType": "object",
         "type": "string"
        },
        {
         "name": "Date",
         "rawType": "datetime64[ns]",
         "type": "datetime"
        },
        {
         "name": "Speed",
         "rawType": "int64",
         "type": "integer"
        },
        {
         "name": "Strength",
         "rawType": "int64",
         "type": "integer"
        }
       ],
       "conversionMethod": "pd.DataFrame",
       "ref": "05655a22-80eb-4f85-ab64-54556894fe26",
       "rows": [
        [
         "0",
         "Lion",
         "2021-01-01 00:00:00",
         "10",
         "7"
        ],
        [
         "1",
         "Lion",
         "2021-01-02 00:00:00",
         "12",
         "8"
        ],
        [
         "2",
         "Zebra",
         "2021-01-03 00:00:00",
         "8",
         "6"
        ],
        [
         "3",
         "Zebra",
         "2021-01-04 00:00:00",
         "9",
         "7"
        ],
        [
         "4",
         "Zebra",
         "2021-01-05 00:00:00",
         "7",
         "5"
        ]
       ],
       "shape": {
        "columns": 4,
        "rows": 5
       }
      },
      "text/html": [
       "<div>\n",
       "<style scoped>\n",
       "    .dataframe tbody tr th:only-of-type {\n",
       "        vertical-align: middle;\n",
       "    }\n",
       "\n",
       "    .dataframe tbody tr th {\n",
       "        vertical-align: top;\n",
       "    }\n",
       "\n",
       "    .dataframe thead th {\n",
       "        text-align: right;\n",
       "    }\n",
       "</style>\n",
       "<table border=\"1\" class=\"dataframe\">\n",
       "  <thead>\n",
       "    <tr style=\"text-align: right;\">\n",
       "      <th></th>\n",
       "      <th>Animal</th>\n",
       "      <th>Date</th>\n",
       "      <th>Speed</th>\n",
       "      <th>Strength</th>\n",
       "    </tr>\n",
       "  </thead>\n",
       "  <tbody>\n",
       "    <tr>\n",
       "      <th>0</th>\n",
       "      <td>Lion</td>\n",
       "      <td>2021-01-01</td>\n",
       "      <td>10</td>\n",
       "      <td>7</td>\n",
       "    </tr>\n",
       "    <tr>\n",
       "      <th>1</th>\n",
       "      <td>Lion</td>\n",
       "      <td>2021-01-02</td>\n",
       "      <td>12</td>\n",
       "      <td>8</td>\n",
       "    </tr>\n",
       "    <tr>\n",
       "      <th>2</th>\n",
       "      <td>Zebra</td>\n",
       "      <td>2021-01-03</td>\n",
       "      <td>8</td>\n",
       "      <td>6</td>\n",
       "    </tr>\n",
       "    <tr>\n",
       "      <th>3</th>\n",
       "      <td>Zebra</td>\n",
       "      <td>2021-01-04</td>\n",
       "      <td>9</td>\n",
       "      <td>7</td>\n",
       "    </tr>\n",
       "    <tr>\n",
       "      <th>4</th>\n",
       "      <td>Zebra</td>\n",
       "      <td>2021-01-05</td>\n",
       "      <td>7</td>\n",
       "      <td>5</td>\n",
       "    </tr>\n",
       "  </tbody>\n",
       "</table>\n",
       "</div>"
      ],
      "text/plain": [
       "  Animal       Date  Speed  Strength\n",
       "0   Lion 2021-01-01     10         7\n",
       "1   Lion 2021-01-02     12         8\n",
       "2  Zebra 2021-01-03      8         6\n",
       "3  Zebra 2021-01-04      9         7\n",
       "4  Zebra 2021-01-05      7         5"
      ]
     },
     "metadata": {},
     "output_type": "display_data"
    },
    {
     "name": "stdout",
     "output_type": "stream",
     "text": [
      "\n",
      "DataFrame with Multi-Index (Animal, Date):\n"
     ]
    },
    {
     "data": {
      "application/vnd.microsoft.datawrangler.viewer.v0+json": {
       "columns": [
        {
         "name": "('Animal', 'Date')",
         "rawType": "object",
         "type": "unknown"
        },
        {
         "name": "Speed",
         "rawType": "int64",
         "type": "integer"
        },
        {
         "name": "Strength",
         "rawType": "int64",
         "type": "integer"
        }
       ],
       "conversionMethod": "pd.DataFrame",
       "ref": "8ef2837f-3b8d-44e4-8f6d-6ca42730e071",
       "rows": [
        [
         "('Lion', Timestamp('2021-01-01 00:00:00'))",
         "10",
         "7"
        ],
        [
         "('Lion', Timestamp('2021-01-02 00:00:00'))",
         "12",
         "8"
        ],
        [
         "('Zebra', Timestamp('2021-01-03 00:00:00'))",
         "8",
         "6"
        ],
        [
         "('Zebra', Timestamp('2021-01-04 00:00:00'))",
         "9",
         "7"
        ],
        [
         "('Zebra', Timestamp('2021-01-05 00:00:00'))",
         "7",
         "5"
        ]
       ],
       "shape": {
        "columns": 2,
        "rows": 5
       }
      },
      "text/html": [
       "<div>\n",
       "<style scoped>\n",
       "    .dataframe tbody tr th:only-of-type {\n",
       "        vertical-align: middle;\n",
       "    }\n",
       "\n",
       "    .dataframe tbody tr th {\n",
       "        vertical-align: top;\n",
       "    }\n",
       "\n",
       "    .dataframe thead th {\n",
       "        text-align: right;\n",
       "    }\n",
       "</style>\n",
       "<table border=\"1\" class=\"dataframe\">\n",
       "  <thead>\n",
       "    <tr style=\"text-align: right;\">\n",
       "      <th></th>\n",
       "      <th></th>\n",
       "      <th>Speed</th>\n",
       "      <th>Strength</th>\n",
       "    </tr>\n",
       "    <tr>\n",
       "      <th>Animal</th>\n",
       "      <th>Date</th>\n",
       "      <th></th>\n",
       "      <th></th>\n",
       "    </tr>\n",
       "  </thead>\n",
       "  <tbody>\n",
       "    <tr>\n",
       "      <th rowspan=\"2\" valign=\"top\">Lion</th>\n",
       "      <th>2021-01-01</th>\n",
       "      <td>10</td>\n",
       "      <td>7</td>\n",
       "    </tr>\n",
       "    <tr>\n",
       "      <th>2021-01-02</th>\n",
       "      <td>12</td>\n",
       "      <td>8</td>\n",
       "    </tr>\n",
       "    <tr>\n",
       "      <th rowspan=\"3\" valign=\"top\">Zebra</th>\n",
       "      <th>2021-01-03</th>\n",
       "      <td>8</td>\n",
       "      <td>6</td>\n",
       "    </tr>\n",
       "    <tr>\n",
       "      <th>2021-01-04</th>\n",
       "      <td>9</td>\n",
       "      <td>7</td>\n",
       "    </tr>\n",
       "    <tr>\n",
       "      <th>2021-01-05</th>\n",
       "      <td>7</td>\n",
       "      <td>5</td>\n",
       "    </tr>\n",
       "  </tbody>\n",
       "</table>\n",
       "</div>"
      ],
      "text/plain": [
       "                   Speed  Strength\n",
       "Animal Date                       \n",
       "Lion   2021-01-01     10         7\n",
       "       2021-01-02     12         8\n",
       "Zebra  2021-01-03      8         6\n",
       "       2021-01-04      9         7\n",
       "       2021-01-05      7         5"
      ]
     },
     "metadata": {},
     "output_type": "display_data"
    }
   ],
   "source": [
    "import pandas as pd\n",
    "data = {\n",
    "    'Animal': ['Lion', 'Lion', 'Zebra', 'Zebra', 'Zebra'],\n",
    "    'Date': pd.date_range('2021-01-01', periods=5, freq='D'),\n",
    "    'Speed': [10, 12, 8, 9, 7],      # e.g. speed recorded (m/s)\n",
    "    'Strength': [7, 8, 6, 7, 5]      # e.g. strength score (arbitrary units)\n",
    "}\n",
    "df = pd.DataFrame(data)\n",
    "print(\"Original DataFrame:\")\n",
    "display(df)  # Show the DataFrame in tabular form\n",
    "\n",
    "# Create a multi-index on Animal and Date\n",
    "df_mi = df.set_index(['Animal', 'Date'])\n",
    "print(\"\\nDataFrame with Multi-Index (Animal, Date):\")\n",
    "display(df_mi)"
   ]
  },
  {
   "cell_type": "markdown",
   "metadata": {},
   "source": [
    "## Q: Does Pandas work like numpy? is the new dataframe also altering the original one?"
   ]
  },
  {
   "cell_type": "markdown",
   "metadata": {},
   "source": [
    "Notice that the DataFrame now has a hierarchical index: the first level is **Animal** and the second level is **Date**. Each row is identified by a pair `(Animal, Date)`. The `display(df_mi)` output shows the two index levels on the left.\n",
    "\n",
    "### Accessing data in a Multi-Index DataFrame\n",
    "\n",
    "You can use `.loc` with a tuple to access specific entries or slices in a multi-index DataFrame:\n",
    "- To get all data for a specific animal (all dates for that animal).\n",
    "- To get a specific animal on a specific date.\n",
    "- To get a range or subset of index values (e.g., all animals in a date range, or multiple animals).\n",
    "\n",
    "Let's try some examples.\n"
   ]
  },
  {
   "cell_type": "code",
   "execution_count": 2,
   "metadata": {},
   "outputs": [
    {
     "name": "stdout",
     "output_type": "stream",
     "text": [
      "All observations for Lion:\n"
     ]
    },
    {
     "data": {
      "application/vnd.microsoft.datawrangler.viewer.v0+json": {
       "columns": [
        {
         "name": "Date",
         "rawType": "datetime64[ns]",
         "type": "datetime"
        },
        {
         "name": "Speed",
         "rawType": "int64",
         "type": "integer"
        },
        {
         "name": "Strength",
         "rawType": "int64",
         "type": "integer"
        }
       ],
       "conversionMethod": "pd.DataFrame",
       "ref": "bd75c5b7-44a7-4ce3-8f37-16384bed0934",
       "rows": [
        [
         "2021-01-01 00:00:00",
         "10",
         "7"
        ],
        [
         "2021-01-02 00:00:00",
         "12",
         "8"
        ]
       ],
       "shape": {
        "columns": 2,
        "rows": 2
       }
      },
      "text/html": [
       "<div>\n",
       "<style scoped>\n",
       "    .dataframe tbody tr th:only-of-type {\n",
       "        vertical-align: middle;\n",
       "    }\n",
       "\n",
       "    .dataframe tbody tr th {\n",
       "        vertical-align: top;\n",
       "    }\n",
       "\n",
       "    .dataframe thead th {\n",
       "        text-align: right;\n",
       "    }\n",
       "</style>\n",
       "<table border=\"1\" class=\"dataframe\">\n",
       "  <thead>\n",
       "    <tr style=\"text-align: right;\">\n",
       "      <th></th>\n",
       "      <th>Speed</th>\n",
       "      <th>Strength</th>\n",
       "    </tr>\n",
       "    <tr>\n",
       "      <th>Date</th>\n",
       "      <th></th>\n",
       "      <th></th>\n",
       "    </tr>\n",
       "  </thead>\n",
       "  <tbody>\n",
       "    <tr>\n",
       "      <th>2021-01-01</th>\n",
       "      <td>10</td>\n",
       "      <td>7</td>\n",
       "    </tr>\n",
       "    <tr>\n",
       "      <th>2021-01-02</th>\n",
       "      <td>12</td>\n",
       "      <td>8</td>\n",
       "    </tr>\n",
       "  </tbody>\n",
       "</table>\n",
       "</div>"
      ],
      "text/plain": [
       "            Speed  Strength\n",
       "Date                       \n",
       "2021-01-01     10         7\n",
       "2021-01-02     12         8"
      ]
     },
     "metadata": {},
     "output_type": "display_data"
    },
    {
     "name": "stdout",
     "output_type": "stream",
     "text": [
      "\n",
      "Speed of Zebra on 2021-01-04:\n",
      "Zebra on 2021-01-04 - Speed: 9\n",
      "\n",
      "All observations for Zebra from 2021-01-04 onwards:\n"
     ]
    },
    {
     "data": {
      "application/vnd.microsoft.datawrangler.viewer.v0+json": {
       "columns": [
        {
         "name": "('Animal', 'Date')",
         "rawType": "object",
         "type": "unknown"
        },
        {
         "name": "Speed",
         "rawType": "int64",
         "type": "integer"
        },
        {
         "name": "Strength",
         "rawType": "int64",
         "type": "integer"
        }
       ],
       "conversionMethod": "pd.DataFrame",
       "ref": "33ed901b-b844-44ea-8a3b-cadebf912e95",
       "rows": [
        [
         "('Zebra', Timestamp('2021-01-04 00:00:00'))",
         "9",
         "7"
        ],
        [
         "('Zebra', Timestamp('2021-01-05 00:00:00'))",
         "7",
         "5"
        ]
       ],
       "shape": {
        "columns": 2,
        "rows": 2
       }
      },
      "text/html": [
       "<div>\n",
       "<style scoped>\n",
       "    .dataframe tbody tr th:only-of-type {\n",
       "        vertical-align: middle;\n",
       "    }\n",
       "\n",
       "    .dataframe tbody tr th {\n",
       "        vertical-align: top;\n",
       "    }\n",
       "\n",
       "    .dataframe thead th {\n",
       "        text-align: right;\n",
       "    }\n",
       "</style>\n",
       "<table border=\"1\" class=\"dataframe\">\n",
       "  <thead>\n",
       "    <tr style=\"text-align: right;\">\n",
       "      <th></th>\n",
       "      <th></th>\n",
       "      <th>Speed</th>\n",
       "      <th>Strength</th>\n",
       "    </tr>\n",
       "    <tr>\n",
       "      <th>Animal</th>\n",
       "      <th>Date</th>\n",
       "      <th></th>\n",
       "      <th></th>\n",
       "    </tr>\n",
       "  </thead>\n",
       "  <tbody>\n",
       "    <tr>\n",
       "      <th rowspan=\"2\" valign=\"top\">Zebra</th>\n",
       "      <th>2021-01-04</th>\n",
       "      <td>9</td>\n",
       "      <td>7</td>\n",
       "    </tr>\n",
       "    <tr>\n",
       "      <th>2021-01-05</th>\n",
       "      <td>7</td>\n",
       "      <td>5</td>\n",
       "    </tr>\n",
       "  </tbody>\n",
       "</table>\n",
       "</div>"
      ],
      "text/plain": [
       "                   Speed  Strength\n",
       "Animal Date                       \n",
       "Zebra  2021-01-04      9         7\n",
       "       2021-01-05      7         5"
      ]
     },
     "metadata": {},
     "output_type": "display_data"
    }
   ],
   "source": [
    "# Access all observations for a specific animal:\n",
    "print(\"All observations for Lion:\")\n",
    "display(df_mi.loc['Lion'])\n",
    "\n",
    "# Access a specific animal on a specific date (using a tuple for multi-index):\n",
    "print(\"\\nSpeed of Zebra on 2021-01-04:\")\n",
    "value = df_mi.loc[('Zebra', '2021-01-04'), 'Speed']\n",
    "print(f\"Zebra on 2021-01-04 - Speed: {value}\")\n",
    "\n",
    "# Accessing a range or multiple index values:\n",
    "print(\"\\nAll observations for Zebra from 2021-01-04 onwards:\")\n",
    "display(df_mi.loc[('Zebra', slice('2021-01-04', None)), :])\n"
   ]
  },
  {
   "cell_type": "markdown",
   "metadata": {},
   "source": [
    "In the examples above:\n",
    "- `df_mi.loc['Lion']` returns all rows where the first index level is 'Lion' (all Lion observations).\n",
    "- `df_mi.loc[('Zebra', '2021-01-04'), 'Speed']` returns the Speed value for Zebra on Jan 4, 2021.\n",
    "- We can use `slice` for slicing in a multi-index. For instance, `('Zebra', slice('2021-01-04', None))` selects Zebra for all dates from '2021-01-04' to the end.\n",
    "- There are alternatives to not using `slice`, such as  `pd.IndexSlice`:\n",
    "\n",
    "``` python\n",
    "idx = pd.IndexSlice\n",
    "df_mi.loc[('Zebra', idx['2021-01-04':]), :]\n",
    "\n",
    "```\n",
    "### Resetting the index\n",
    "\n",
    "If you no longer need the multi-index, or want to revert it back to columns, use `reset_index()`. This will turn the index levels back into ordinary columns.\n"
   ]
  },
  {
   "cell_type": "code",
   "execution_count": 3,
   "metadata": {},
   "outputs": [
    {
     "name": "stdout",
     "output_type": "stream",
     "text": [
      "After resetting index:\n"
     ]
    },
    {
     "data": {
      "application/vnd.microsoft.datawrangler.viewer.v0+json": {
       "columns": [
        {
         "name": "index",
         "rawType": "int64",
         "type": "integer"
        },
        {
         "name": "Animal",
         "rawType": "object",
         "type": "string"
        },
        {
         "name": "Date",
         "rawType": "datetime64[ns]",
         "type": "datetime"
        },
        {
         "name": "Speed",
         "rawType": "int64",
         "type": "integer"
        },
        {
         "name": "Strength",
         "rawType": "int64",
         "type": "integer"
        }
       ],
       "conversionMethod": "pd.DataFrame",
       "ref": "872dc3d3-a64c-443f-ae8e-744bddeeeaf1",
       "rows": [
        [
         "0",
         "Lion",
         "2021-01-01 00:00:00",
         "10",
         "7"
        ],
        [
         "1",
         "Lion",
         "2021-01-02 00:00:00",
         "12",
         "8"
        ],
        [
         "2",
         "Zebra",
         "2021-01-03 00:00:00",
         "8",
         "6"
        ],
        [
         "3",
         "Zebra",
         "2021-01-04 00:00:00",
         "9",
         "7"
        ],
        [
         "4",
         "Zebra",
         "2021-01-05 00:00:00",
         "7",
         "5"
        ]
       ],
       "shape": {
        "columns": 4,
        "rows": 5
       }
      },
      "text/html": [
       "<div>\n",
       "<style scoped>\n",
       "    .dataframe tbody tr th:only-of-type {\n",
       "        vertical-align: middle;\n",
       "    }\n",
       "\n",
       "    .dataframe tbody tr th {\n",
       "        vertical-align: top;\n",
       "    }\n",
       "\n",
       "    .dataframe thead th {\n",
       "        text-align: right;\n",
       "    }\n",
       "</style>\n",
       "<table border=\"1\" class=\"dataframe\">\n",
       "  <thead>\n",
       "    <tr style=\"text-align: right;\">\n",
       "      <th></th>\n",
       "      <th>Animal</th>\n",
       "      <th>Date</th>\n",
       "      <th>Speed</th>\n",
       "      <th>Strength</th>\n",
       "    </tr>\n",
       "  </thead>\n",
       "  <tbody>\n",
       "    <tr>\n",
       "      <th>0</th>\n",
       "      <td>Lion</td>\n",
       "      <td>2021-01-01</td>\n",
       "      <td>10</td>\n",
       "      <td>7</td>\n",
       "    </tr>\n",
       "    <tr>\n",
       "      <th>1</th>\n",
       "      <td>Lion</td>\n",
       "      <td>2021-01-02</td>\n",
       "      <td>12</td>\n",
       "      <td>8</td>\n",
       "    </tr>\n",
       "    <tr>\n",
       "      <th>2</th>\n",
       "      <td>Zebra</td>\n",
       "      <td>2021-01-03</td>\n",
       "      <td>8</td>\n",
       "      <td>6</td>\n",
       "    </tr>\n",
       "    <tr>\n",
       "      <th>3</th>\n",
       "      <td>Zebra</td>\n",
       "      <td>2021-01-04</td>\n",
       "      <td>9</td>\n",
       "      <td>7</td>\n",
       "    </tr>\n",
       "    <tr>\n",
       "      <th>4</th>\n",
       "      <td>Zebra</td>\n",
       "      <td>2021-01-05</td>\n",
       "      <td>7</td>\n",
       "      <td>5</td>\n",
       "    </tr>\n",
       "  </tbody>\n",
       "</table>\n",
       "</div>"
      ],
      "text/plain": [
       "  Animal       Date  Speed  Strength\n",
       "0   Lion 2021-01-01     10         7\n",
       "1   Lion 2021-01-02     12         8\n",
       "2  Zebra 2021-01-03      8         6\n",
       "3  Zebra 2021-01-04      9         7\n",
       "4  Zebra 2021-01-05      7         5"
      ]
     },
     "metadata": {},
     "output_type": "display_data"
    }
   ],
   "source": [
    "# Reset the multi-index to get back to a regular DataFrame\n",
    "df_reset = df_mi.reset_index()\n",
    "print(\"After resetting index:\")\n",
    "display(df_reset)\n"
   ]
  },
  {
   "cell_type": "markdown",
   "metadata": {},
   "source": [
    "The DataFrame is back to its original form with `Animal` and `Date` as regular columns.\n",
    "\n",
    "Multi-indexes are powerful for handling hierarchical data, but they can be complex. In many cases, you might use groupby or pivot tables (which we'll cover next) instead of maintaining a multi-index permanently. Still, it's important to know how to work with multi-indexes when they arise (for example, after certain groupby operations or when dealing with multi-dimensional data).\n",
    "\n",
    "---\n",
    "\n",
    "## 2. Merging DataFrames (Joins)\n",
    "\n",
    "Often, you'll have related data split across multiple tables/DataFrames. **Merging** (or **joining**) lets you combine these DataFrames on a common key (or keys), similar to how you would join tables in a database or merge in Excel.\n",
    "\n",
    "Pandas offers the `pd.merge()` function (or `DataFrame.merge` method) to perform joins. The main types of joins are:\n",
    "- **Inner join**: only keep rows with keys present in *both* DataFrames.\n",
    "- **Left join**: keep all rows from the \"left\" DataFrame, and add matching info from the right (non-matching on right become NaN).\n",
    "- **Right join**: keep all rows from the \"right\" DataFrame, and add matching info from the left (non-matching on left become NaN).\n",
    "- **Outer join**: keep all rows from *both* DataFrames, matching where possible (non-matches on either side become NaN).\n",
    "\n",
    "Let's create two DataFrames to demonstrate merging. We'll use a biological example: one table of animal attributes, and another table of observations of those animals.\n"
   ]
  },
  {
   "cell_type": "code",
   "execution_count": 4,
   "metadata": {},
   "outputs": [
    {
     "name": "stdout",
     "output_type": "stream",
     "text": [
      "Animal attributes:\n"
     ]
    },
    {
     "data": {
      "application/vnd.microsoft.datawrangler.viewer.v0+json": {
       "columns": [
        {
         "name": "index",
         "rawType": "int64",
         "type": "integer"
        },
        {
         "name": "Animal",
         "rawType": "object",
         "type": "string"
        },
        {
         "name": "Species",
         "rawType": "object",
         "type": "string"
        },
        {
         "name": "Weight_kg",
         "rawType": "int64",
         "type": "integer"
        }
       ],
       "conversionMethod": "pd.DataFrame",
       "ref": "ee08f07f-4ed5-4fab-b708-6182556b43a5",
       "rows": [
        [
         "0",
         "Lion",
         "Panthera leo",
         "190"
        ],
        [
         "1",
         "Zebra",
         "Equus zebra",
         "300"
        ],
        [
         "2",
         "Elephant",
         "Loxodonta",
         "5400"
        ],
        [
         "3",
         "Tiger",
         "Panthera tigris",
         "220"
        ]
       ],
       "shape": {
        "columns": 3,
        "rows": 4
       }
      },
      "text/html": [
       "<div>\n",
       "<style scoped>\n",
       "    .dataframe tbody tr th:only-of-type {\n",
       "        vertical-align: middle;\n",
       "    }\n",
       "\n",
       "    .dataframe tbody tr th {\n",
       "        vertical-align: top;\n",
       "    }\n",
       "\n",
       "    .dataframe thead th {\n",
       "        text-align: right;\n",
       "    }\n",
       "</style>\n",
       "<table border=\"1\" class=\"dataframe\">\n",
       "  <thead>\n",
       "    <tr style=\"text-align: right;\">\n",
       "      <th></th>\n",
       "      <th>Animal</th>\n",
       "      <th>Species</th>\n",
       "      <th>Weight_kg</th>\n",
       "    </tr>\n",
       "  </thead>\n",
       "  <tbody>\n",
       "    <tr>\n",
       "      <th>0</th>\n",
       "      <td>Lion</td>\n",
       "      <td>Panthera leo</td>\n",
       "      <td>190</td>\n",
       "    </tr>\n",
       "    <tr>\n",
       "      <th>1</th>\n",
       "      <td>Zebra</td>\n",
       "      <td>Equus zebra</td>\n",
       "      <td>300</td>\n",
       "    </tr>\n",
       "    <tr>\n",
       "      <th>2</th>\n",
       "      <td>Elephant</td>\n",
       "      <td>Loxodonta</td>\n",
       "      <td>5400</td>\n",
       "    </tr>\n",
       "    <tr>\n",
       "      <th>3</th>\n",
       "      <td>Tiger</td>\n",
       "      <td>Panthera tigris</td>\n",
       "      <td>220</td>\n",
       "    </tr>\n",
       "  </tbody>\n",
       "</table>\n",
       "</div>"
      ],
      "text/plain": [
       "     Animal          Species  Weight_kg\n",
       "0      Lion     Panthera leo        190\n",
       "1     Zebra      Equus zebra        300\n",
       "2  Elephant        Loxodonta       5400\n",
       "3     Tiger  Panthera tigris        220"
      ]
     },
     "metadata": {},
     "output_type": "display_data"
    },
    {
     "name": "stdout",
     "output_type": "stream",
     "text": [
      "\n",
      "Animal observations:\n"
     ]
    },
    {
     "data": {
      "application/vnd.microsoft.datawrangler.viewer.v0+json": {
       "columns": [
        {
         "name": "index",
         "rawType": "int64",
         "type": "integer"
        },
        {
         "name": "Animal",
         "rawType": "object",
         "type": "string"
        },
        {
         "name": "Year",
         "rawType": "int64",
         "type": "integer"
        },
        {
         "name": "Observations",
         "rawType": "int64",
         "type": "integer"
        }
       ],
       "conversionMethod": "pd.DataFrame",
       "ref": "f613c0ff-9d48-4fe4-b389-5c1c2b2cd090",
       "rows": [
        [
         "0",
         "Lion",
         "2020",
         "5"
        ],
        [
         "1",
         "Lion",
         "2021",
         "3"
        ],
        [
         "2",
         "Zebra",
         "2020",
         "7"
        ],
        [
         "3",
         "Tiger",
         "2020",
         "2"
        ],
        [
         "4",
         "Giraffe",
         "2021",
         "1"
        ]
       ],
       "shape": {
        "columns": 3,
        "rows": 5
       }
      },
      "text/html": [
       "<div>\n",
       "<style scoped>\n",
       "    .dataframe tbody tr th:only-of-type {\n",
       "        vertical-align: middle;\n",
       "    }\n",
       "\n",
       "    .dataframe tbody tr th {\n",
       "        vertical-align: top;\n",
       "    }\n",
       "\n",
       "    .dataframe thead th {\n",
       "        text-align: right;\n",
       "    }\n",
       "</style>\n",
       "<table border=\"1\" class=\"dataframe\">\n",
       "  <thead>\n",
       "    <tr style=\"text-align: right;\">\n",
       "      <th></th>\n",
       "      <th>Animal</th>\n",
       "      <th>Year</th>\n",
       "      <th>Observations</th>\n",
       "    </tr>\n",
       "  </thead>\n",
       "  <tbody>\n",
       "    <tr>\n",
       "      <th>0</th>\n",
       "      <td>Lion</td>\n",
       "      <td>2020</td>\n",
       "      <td>5</td>\n",
       "    </tr>\n",
       "    <tr>\n",
       "      <th>1</th>\n",
       "      <td>Lion</td>\n",
       "      <td>2021</td>\n",
       "      <td>3</td>\n",
       "    </tr>\n",
       "    <tr>\n",
       "      <th>2</th>\n",
       "      <td>Zebra</td>\n",
       "      <td>2020</td>\n",
       "      <td>7</td>\n",
       "    </tr>\n",
       "    <tr>\n",
       "      <th>3</th>\n",
       "      <td>Tiger</td>\n",
       "      <td>2020</td>\n",
       "      <td>2</td>\n",
       "    </tr>\n",
       "    <tr>\n",
       "      <th>4</th>\n",
       "      <td>Giraffe</td>\n",
       "      <td>2021</td>\n",
       "      <td>1</td>\n",
       "    </tr>\n",
       "  </tbody>\n",
       "</table>\n",
       "</div>"
      ],
      "text/plain": [
       "    Animal  Year  Observations\n",
       "0     Lion  2020             5\n",
       "1     Lion  2021             3\n",
       "2    Zebra  2020             7\n",
       "3    Tiger  2020             2\n",
       "4  Giraffe  2021             1"
      ]
     },
     "metadata": {},
     "output_type": "display_data"
    }
   ],
   "source": [
    "# DataFrame 1: Animal attributes\n",
    "df_animals = pd.DataFrame({\n",
    "    'Animal': ['Lion', 'Zebra', 'Elephant', 'Tiger'],\n",
    "    'Species': ['Panthera leo', 'Equus zebra', 'Loxodonta', 'Panthera tigris'],\n",
    "    'Weight_kg': [190, 300, 5400, 220]  # approximate weights for example\n",
    "})\n",
    "print(\"Animal attributes:\")\n",
    "display(df_animals)\n",
    "\n",
    "# DataFrame 2: Observations (e.g., number of sightings in certain years)\n",
    "df_observations = pd.DataFrame({\n",
    "    'Animal': ['Lion', 'Lion', 'Zebra', 'Tiger', 'Giraffe'],\n",
    "    'Year': [2020, 2021, 2020, 2020, 2021],\n",
    "    'Observations': [5, 3, 7, 2, 1]\n",
    "})\n",
    "print(\"\\nAnimal observations:\")\n",
    "display(df_observations)\n"
   ]
  },
  {
   "cell_type": "markdown",
   "metadata": {},
   "source": [
    "In our example:\n",
    "- `df_animals` has unique animal entries (Lion, Zebra, Elephant, Tiger) with species name and weight.\n",
    "- `df_observations` has multiple entries per animal (some repeated 'Lion' for different years, etc.), and even an animal ('Giraffe') that is not in `df_animals`.\n",
    "\n",
    "Now, let's merge these DataFrames on the `\"Animal\"` column:\n",
    "- First, do an **inner join** (only animals present in both tables).\n",
    "- Then, a **left join** of `df_animals` with `df_observations` (keep all animals from `df_animals`).\n",
    "- Finally, an **outer join** to see all animals from both.\n"
   ]
  },
  {
   "cell_type": "code",
   "execution_count": 5,
   "metadata": {},
   "outputs": [
    {
     "name": "stdout",
     "output_type": "stream",
     "text": [
      "Inner join result (animals in both tables):\n"
     ]
    },
    {
     "data": {
      "application/vnd.microsoft.datawrangler.viewer.v0+json": {
       "columns": [
        {
         "name": "index",
         "rawType": "int64",
         "type": "integer"
        },
        {
         "name": "Animal",
         "rawType": "object",
         "type": "string"
        },
        {
         "name": "Species",
         "rawType": "object",
         "type": "string"
        },
        {
         "name": "Weight_kg",
         "rawType": "int64",
         "type": "integer"
        },
        {
         "name": "Year",
         "rawType": "int64",
         "type": "integer"
        },
        {
         "name": "Observations",
         "rawType": "int64",
         "type": "integer"
        }
       ],
       "conversionMethod": "pd.DataFrame",
       "ref": "487ad063-d740-4ddf-b505-45fa3f867457",
       "rows": [
        [
         "0",
         "Lion",
         "Panthera leo",
         "190",
         "2020",
         "5"
        ],
        [
         "1",
         "Lion",
         "Panthera leo",
         "190",
         "2021",
         "3"
        ],
        [
         "2",
         "Zebra",
         "Equus zebra",
         "300",
         "2020",
         "7"
        ],
        [
         "3",
         "Tiger",
         "Panthera tigris",
         "220",
         "2020",
         "2"
        ]
       ],
       "shape": {
        "columns": 5,
        "rows": 4
       }
      },
      "text/html": [
       "<div>\n",
       "<style scoped>\n",
       "    .dataframe tbody tr th:only-of-type {\n",
       "        vertical-align: middle;\n",
       "    }\n",
       "\n",
       "    .dataframe tbody tr th {\n",
       "        vertical-align: top;\n",
       "    }\n",
       "\n",
       "    .dataframe thead th {\n",
       "        text-align: right;\n",
       "    }\n",
       "</style>\n",
       "<table border=\"1\" class=\"dataframe\">\n",
       "  <thead>\n",
       "    <tr style=\"text-align: right;\">\n",
       "      <th></th>\n",
       "      <th>Animal</th>\n",
       "      <th>Species</th>\n",
       "      <th>Weight_kg</th>\n",
       "      <th>Year</th>\n",
       "      <th>Observations</th>\n",
       "    </tr>\n",
       "  </thead>\n",
       "  <tbody>\n",
       "    <tr>\n",
       "      <th>0</th>\n",
       "      <td>Lion</td>\n",
       "      <td>Panthera leo</td>\n",
       "      <td>190</td>\n",
       "      <td>2020</td>\n",
       "      <td>5</td>\n",
       "    </tr>\n",
       "    <tr>\n",
       "      <th>1</th>\n",
       "      <td>Lion</td>\n",
       "      <td>Panthera leo</td>\n",
       "      <td>190</td>\n",
       "      <td>2021</td>\n",
       "      <td>3</td>\n",
       "    </tr>\n",
       "    <tr>\n",
       "      <th>2</th>\n",
       "      <td>Zebra</td>\n",
       "      <td>Equus zebra</td>\n",
       "      <td>300</td>\n",
       "      <td>2020</td>\n",
       "      <td>7</td>\n",
       "    </tr>\n",
       "    <tr>\n",
       "      <th>3</th>\n",
       "      <td>Tiger</td>\n",
       "      <td>Panthera tigris</td>\n",
       "      <td>220</td>\n",
       "      <td>2020</td>\n",
       "      <td>2</td>\n",
       "    </tr>\n",
       "  </tbody>\n",
       "</table>\n",
       "</div>"
      ],
      "text/plain": [
       "  Animal          Species  Weight_kg  Year  Observations\n",
       "0   Lion     Panthera leo        190  2020             5\n",
       "1   Lion     Panthera leo        190  2021             3\n",
       "2  Zebra      Equus zebra        300  2020             7\n",
       "3  Tiger  Panthera tigris        220  2020             2"
      ]
     },
     "metadata": {},
     "output_type": "display_data"
    },
    {
     "name": "stdout",
     "output_type": "stream",
     "text": [
      "\n",
      "Left join result (all animals from df_animals):\n"
     ]
    },
    {
     "data": {
      "application/vnd.microsoft.datawrangler.viewer.v0+json": {
       "columns": [
        {
         "name": "index",
         "rawType": "int64",
         "type": "integer"
        },
        {
         "name": "Animal",
         "rawType": "object",
         "type": "string"
        },
        {
         "name": "Species",
         "rawType": "object",
         "type": "string"
        },
        {
         "name": "Weight_kg",
         "rawType": "int64",
         "type": "integer"
        },
        {
         "name": "Year",
         "rawType": "float64",
         "type": "float"
        },
        {
         "name": "Observations",
         "rawType": "float64",
         "type": "float"
        }
       ],
       "conversionMethod": "pd.DataFrame",
       "ref": "b6134876-5a83-4d4c-ad03-92105974df7e",
       "rows": [
        [
         "0",
         "Lion",
         "Panthera leo",
         "190",
         "2020.0",
         "5.0"
        ],
        [
         "1",
         "Lion",
         "Panthera leo",
         "190",
         "2021.0",
         "3.0"
        ],
        [
         "2",
         "Zebra",
         "Equus zebra",
         "300",
         "2020.0",
         "7.0"
        ],
        [
         "3",
         "Elephant",
         "Loxodonta",
         "5400",
         null,
         null
        ],
        [
         "4",
         "Tiger",
         "Panthera tigris",
         "220",
         "2020.0",
         "2.0"
        ]
       ],
       "shape": {
        "columns": 5,
        "rows": 5
       }
      },
      "text/html": [
       "<div>\n",
       "<style scoped>\n",
       "    .dataframe tbody tr th:only-of-type {\n",
       "        vertical-align: middle;\n",
       "    }\n",
       "\n",
       "    .dataframe tbody tr th {\n",
       "        vertical-align: top;\n",
       "    }\n",
       "\n",
       "    .dataframe thead th {\n",
       "        text-align: right;\n",
       "    }\n",
       "</style>\n",
       "<table border=\"1\" class=\"dataframe\">\n",
       "  <thead>\n",
       "    <tr style=\"text-align: right;\">\n",
       "      <th></th>\n",
       "      <th>Animal</th>\n",
       "      <th>Species</th>\n",
       "      <th>Weight_kg</th>\n",
       "      <th>Year</th>\n",
       "      <th>Observations</th>\n",
       "    </tr>\n",
       "  </thead>\n",
       "  <tbody>\n",
       "    <tr>\n",
       "      <th>0</th>\n",
       "      <td>Lion</td>\n",
       "      <td>Panthera leo</td>\n",
       "      <td>190</td>\n",
       "      <td>2020.0</td>\n",
       "      <td>5.0</td>\n",
       "    </tr>\n",
       "    <tr>\n",
       "      <th>1</th>\n",
       "      <td>Lion</td>\n",
       "      <td>Panthera leo</td>\n",
       "      <td>190</td>\n",
       "      <td>2021.0</td>\n",
       "      <td>3.0</td>\n",
       "    </tr>\n",
       "    <tr>\n",
       "      <th>2</th>\n",
       "      <td>Zebra</td>\n",
       "      <td>Equus zebra</td>\n",
       "      <td>300</td>\n",
       "      <td>2020.0</td>\n",
       "      <td>7.0</td>\n",
       "    </tr>\n",
       "    <tr>\n",
       "      <th>3</th>\n",
       "      <td>Elephant</td>\n",
       "      <td>Loxodonta</td>\n",
       "      <td>5400</td>\n",
       "      <td>NaN</td>\n",
       "      <td>NaN</td>\n",
       "    </tr>\n",
       "    <tr>\n",
       "      <th>4</th>\n",
       "      <td>Tiger</td>\n",
       "      <td>Panthera tigris</td>\n",
       "      <td>220</td>\n",
       "      <td>2020.0</td>\n",
       "      <td>2.0</td>\n",
       "    </tr>\n",
       "  </tbody>\n",
       "</table>\n",
       "</div>"
      ],
      "text/plain": [
       "     Animal          Species  Weight_kg    Year  Observations\n",
       "0      Lion     Panthera leo        190  2020.0           5.0\n",
       "1      Lion     Panthera leo        190  2021.0           3.0\n",
       "2     Zebra      Equus zebra        300  2020.0           7.0\n",
       "3  Elephant        Loxodonta       5400     NaN           NaN\n",
       "4     Tiger  Panthera tigris        220  2020.0           2.0"
      ]
     },
     "metadata": {},
     "output_type": "display_data"
    },
    {
     "name": "stdout",
     "output_type": "stream",
     "text": [
      "\n",
      "Outer join result (all animals from both tables):\n"
     ]
    },
    {
     "data": {
      "application/vnd.microsoft.datawrangler.viewer.v0+json": {
       "columns": [
        {
         "name": "index",
         "rawType": "int64",
         "type": "integer"
        },
        {
         "name": "Animal",
         "rawType": "object",
         "type": "string"
        },
        {
         "name": "Species",
         "rawType": "object",
         "type": "unknown"
        },
        {
         "name": "Weight_kg",
         "rawType": "float64",
         "type": "float"
        },
        {
         "name": "Year",
         "rawType": "float64",
         "type": "float"
        },
        {
         "name": "Observations",
         "rawType": "float64",
         "type": "float"
        }
       ],
       "conversionMethod": "pd.DataFrame",
       "ref": "32e050cc-fd47-4fc9-b106-d0a0027a0a6d",
       "rows": [
        [
         "0",
         "Elephant",
         "Loxodonta",
         "5400.0",
         null,
         null
        ],
        [
         "1",
         "Giraffe",
         null,
         null,
         "2021.0",
         "1.0"
        ],
        [
         "2",
         "Lion",
         "Panthera leo",
         "190.0",
         "2020.0",
         "5.0"
        ],
        [
         "3",
         "Lion",
         "Panthera leo",
         "190.0",
         "2021.0",
         "3.0"
        ],
        [
         "4",
         "Tiger",
         "Panthera tigris",
         "220.0",
         "2020.0",
         "2.0"
        ],
        [
         "5",
         "Zebra",
         "Equus zebra",
         "300.0",
         "2020.0",
         "7.0"
        ]
       ],
       "shape": {
        "columns": 5,
        "rows": 6
       }
      },
      "text/html": [
       "<div>\n",
       "<style scoped>\n",
       "    .dataframe tbody tr th:only-of-type {\n",
       "        vertical-align: middle;\n",
       "    }\n",
       "\n",
       "    .dataframe tbody tr th {\n",
       "        vertical-align: top;\n",
       "    }\n",
       "\n",
       "    .dataframe thead th {\n",
       "        text-align: right;\n",
       "    }\n",
       "</style>\n",
       "<table border=\"1\" class=\"dataframe\">\n",
       "  <thead>\n",
       "    <tr style=\"text-align: right;\">\n",
       "      <th></th>\n",
       "      <th>Animal</th>\n",
       "      <th>Species</th>\n",
       "      <th>Weight_kg</th>\n",
       "      <th>Year</th>\n",
       "      <th>Observations</th>\n",
       "    </tr>\n",
       "  </thead>\n",
       "  <tbody>\n",
       "    <tr>\n",
       "      <th>0</th>\n",
       "      <td>Elephant</td>\n",
       "      <td>Loxodonta</td>\n",
       "      <td>5400.0</td>\n",
       "      <td>NaN</td>\n",
       "      <td>NaN</td>\n",
       "    </tr>\n",
       "    <tr>\n",
       "      <th>1</th>\n",
       "      <td>Giraffe</td>\n",
       "      <td>NaN</td>\n",
       "      <td>NaN</td>\n",
       "      <td>2021.0</td>\n",
       "      <td>1.0</td>\n",
       "    </tr>\n",
       "    <tr>\n",
       "      <th>2</th>\n",
       "      <td>Lion</td>\n",
       "      <td>Panthera leo</td>\n",
       "      <td>190.0</td>\n",
       "      <td>2020.0</td>\n",
       "      <td>5.0</td>\n",
       "    </tr>\n",
       "    <tr>\n",
       "      <th>3</th>\n",
       "      <td>Lion</td>\n",
       "      <td>Panthera leo</td>\n",
       "      <td>190.0</td>\n",
       "      <td>2021.0</td>\n",
       "      <td>3.0</td>\n",
       "    </tr>\n",
       "    <tr>\n",
       "      <th>4</th>\n",
       "      <td>Tiger</td>\n",
       "      <td>Panthera tigris</td>\n",
       "      <td>220.0</td>\n",
       "      <td>2020.0</td>\n",
       "      <td>2.0</td>\n",
       "    </tr>\n",
       "    <tr>\n",
       "      <th>5</th>\n",
       "      <td>Zebra</td>\n",
       "      <td>Equus zebra</td>\n",
       "      <td>300.0</td>\n",
       "      <td>2020.0</td>\n",
       "      <td>7.0</td>\n",
       "    </tr>\n",
       "  </tbody>\n",
       "</table>\n",
       "</div>"
      ],
      "text/plain": [
       "     Animal          Species  Weight_kg    Year  Observations\n",
       "0  Elephant        Loxodonta     5400.0     NaN           NaN\n",
       "1   Giraffe              NaN        NaN  2021.0           1.0\n",
       "2      Lion     Panthera leo      190.0  2020.0           5.0\n",
       "3      Lion     Panthera leo      190.0  2021.0           3.0\n",
       "4     Tiger  Panthera tigris      220.0  2020.0           2.0\n",
       "5     Zebra      Equus zebra      300.0  2020.0           7.0"
      ]
     },
     "metadata": {},
     "output_type": "display_data"
    }
   ],
   "source": [
    "# Inner join: only animals that appear in both DataFrames\n",
    "inner_merged = pd.merge(df_animals, df_observations, on='Animal', how='inner')\n",
    "print(\"Inner join result (animals in both tables):\")\n",
    "display(inner_merged)\n",
    "\n",
    "# Left join: all animals from df_animals, add observations if available\n",
    "left_merged = pd.merge(df_animals, df_observations, on='Animal', how='left')\n",
    "print(\"\\nLeft join result (all animals from df_animals):\")\n",
    "display(left_merged)\n",
    "\n",
    "# Outer join: all animals from both DataFrames\n",
    "outer_merged = pd.merge(df_animals, df_observations, on='Animal', how='outer')\n",
    "print(\"\\nOuter join result (all animals from both tables):\")\n",
    "display(outer_merged)\n"
   ]
  },
  {
   "cell_type": "markdown",
   "metadata": {},
   "source": [
    "Let's interpret the results:\n",
    "- **Inner join**: We got Lion, Zebra, Tiger (Elephant was missing observations, Giraffe missing attributes, so they dropped). Only animals present in both data sets are included.\n",
    "- **Left join**: We kept all animals from the left (`df_animals`): Lion, Zebra, Elephant, Tiger. Giraffe (only in observations) is not included. Elephant has NaN for Year and Observations since it had no matching entry.\n",
    "- **Outer join**: We got all animals from both: Lion, Zebra, Elephant, Tiger, Giraffe. Where information was missing on one side, we see NaN (e.g., Elephant has NaN for observations, Giraffe has NaN for species and weight).\n",
    "\n",
    "You can similarly do a right join (`how='right'`), which would keep all from the right DataFrame (`df_observations`) instead.\n",
    "\n",
    "Merging is a crucial tool for combining data. Next, we'll see how to summarize and aggregate data using groupby.\n",
    "\n",
    "---\n",
    "\n",
    "## 3. GroupBy Operations (Aggregation and Custom Functions)\n",
    "\n",
    "**GroupBy** allows you to split the DataFrame into groups based on some criteria, apply an aggregation or transformation to each group, and then combine the results. This follows the \"split-apply-combine\" paradigm:\n",
    "- **Split** the data into groups (by one or more keys).\n",
    "- **Apply** a function to each group (e.g., sum, mean, custom function).\n",
    "- **Combine** the results into a new DataFrame/Series.\n",
    "\n",
    "This is useful in scientific data for computing statistics per group (e.g., average measurements per species, counts per category, etc.).\n",
    "\n",
    "Let's use the `outer_merged` DataFrame from above (which has animals, their attributes, and observations) to demonstrate groupby. We will:\n",
    "- Group by Species and calculate the total and average observations for each species.\n",
    "- Group by Year to see how many observations were recorded each year (regardless of animal).\n",
    "- Show how to apply a custom aggregation function.\n",
    "\n",
    "First, recall our `outer_merged` data:\n"
   ]
  },
  {
   "cell_type": "code",
   "execution_count": 6,
   "metadata": {},
   "outputs": [
    {
     "name": "stdout",
     "output_type": "stream",
     "text": [
      "Combined data (outer_merged):\n"
     ]
    },
    {
     "data": {
      "application/vnd.microsoft.datawrangler.viewer.v0+json": {
       "columns": [
        {
         "name": "index",
         "rawType": "int64",
         "type": "integer"
        },
        {
         "name": "Animal",
         "rawType": "object",
         "type": "string"
        },
        {
         "name": "Species",
         "rawType": "object",
         "type": "unknown"
        },
        {
         "name": "Weight_kg",
         "rawType": "float64",
         "type": "float"
        },
        {
         "name": "Year",
         "rawType": "float64",
         "type": "float"
        },
        {
         "name": "Observations",
         "rawType": "float64",
         "type": "float"
        }
       ],
       "conversionMethod": "pd.DataFrame",
       "ref": "3fd45d04-944d-49b8-9150-134aefdd2b61",
       "rows": [
        [
         "0",
         "Elephant",
         "Loxodonta",
         "5400.0",
         null,
         null
        ],
        [
         "1",
         "Giraffe",
         null,
         null,
         "2021.0",
         "1.0"
        ],
        [
         "2",
         "Lion",
         "Panthera leo",
         "190.0",
         "2020.0",
         "5.0"
        ],
        [
         "3",
         "Lion",
         "Panthera leo",
         "190.0",
         "2021.0",
         "3.0"
        ],
        [
         "4",
         "Tiger",
         "Panthera tigris",
         "220.0",
         "2020.0",
         "2.0"
        ],
        [
         "5",
         "Zebra",
         "Equus zebra",
         "300.0",
         "2020.0",
         "7.0"
        ]
       ],
       "shape": {
        "columns": 5,
        "rows": 6
       }
      },
      "text/html": [
       "<div>\n",
       "<style scoped>\n",
       "    .dataframe tbody tr th:only-of-type {\n",
       "        vertical-align: middle;\n",
       "    }\n",
       "\n",
       "    .dataframe tbody tr th {\n",
       "        vertical-align: top;\n",
       "    }\n",
       "\n",
       "    .dataframe thead th {\n",
       "        text-align: right;\n",
       "    }\n",
       "</style>\n",
       "<table border=\"1\" class=\"dataframe\">\n",
       "  <thead>\n",
       "    <tr style=\"text-align: right;\">\n",
       "      <th></th>\n",
       "      <th>Animal</th>\n",
       "      <th>Species</th>\n",
       "      <th>Weight_kg</th>\n",
       "      <th>Year</th>\n",
       "      <th>Observations</th>\n",
       "    </tr>\n",
       "  </thead>\n",
       "  <tbody>\n",
       "    <tr>\n",
       "      <th>0</th>\n",
       "      <td>Elephant</td>\n",
       "      <td>Loxodonta</td>\n",
       "      <td>5400.0</td>\n",
       "      <td>NaN</td>\n",
       "      <td>NaN</td>\n",
       "    </tr>\n",
       "    <tr>\n",
       "      <th>1</th>\n",
       "      <td>Giraffe</td>\n",
       "      <td>NaN</td>\n",
       "      <td>NaN</td>\n",
       "      <td>2021.0</td>\n",
       "      <td>1.0</td>\n",
       "    </tr>\n",
       "    <tr>\n",
       "      <th>2</th>\n",
       "      <td>Lion</td>\n",
       "      <td>Panthera leo</td>\n",
       "      <td>190.0</td>\n",
       "      <td>2020.0</td>\n",
       "      <td>5.0</td>\n",
       "    </tr>\n",
       "    <tr>\n",
       "      <th>3</th>\n",
       "      <td>Lion</td>\n",
       "      <td>Panthera leo</td>\n",
       "      <td>190.0</td>\n",
       "      <td>2021.0</td>\n",
       "      <td>3.0</td>\n",
       "    </tr>\n",
       "    <tr>\n",
       "      <th>4</th>\n",
       "      <td>Tiger</td>\n",
       "      <td>Panthera tigris</td>\n",
       "      <td>220.0</td>\n",
       "      <td>2020.0</td>\n",
       "      <td>2.0</td>\n",
       "    </tr>\n",
       "    <tr>\n",
       "      <th>5</th>\n",
       "      <td>Zebra</td>\n",
       "      <td>Equus zebra</td>\n",
       "      <td>300.0</td>\n",
       "      <td>2020.0</td>\n",
       "      <td>7.0</td>\n",
       "    </tr>\n",
       "  </tbody>\n",
       "</table>\n",
       "</div>"
      ],
      "text/plain": [
       "     Animal          Species  Weight_kg    Year  Observations\n",
       "0  Elephant        Loxodonta     5400.0     NaN           NaN\n",
       "1   Giraffe              NaN        NaN  2021.0           1.0\n",
       "2      Lion     Panthera leo      190.0  2020.0           5.0\n",
       "3      Lion     Panthera leo      190.0  2021.0           3.0\n",
       "4     Tiger  Panthera tigris      220.0  2020.0           2.0\n",
       "5     Zebra      Equus zebra      300.0  2020.0           7.0"
      ]
     },
     "metadata": {},
     "output_type": "display_data"
    }
   ],
   "source": [
    "print(\"Combined data (outer_merged):\")\n",
    "display(outer_merged)\n"
   ]
  },
  {
   "cell_type": "markdown",
   "metadata": {},
   "source": [
    "Now, group the data by **Species** (the species name) and aggregate the Observations:\n",
    "- We'll calculate the **total observations** (`sum`) per species.\n",
    "- Also the **average observations** (`mean`) per species (though with our small dataset, take care with NaNs).\n",
    "\n",
    "We'll use the `.groupby()` method and then `.agg()` to specify multiple aggregations.\n"
   ]
  },
  {
   "cell_type": "code",
   "execution_count": 7,
   "metadata": {},
   "outputs": [
    {
     "name": "stdout",
     "output_type": "stream",
     "text": [
      "Total and average observations per Species:\n"
     ]
    },
    {
     "data": {
      "application/vnd.microsoft.datawrangler.viewer.v0+json": {
       "columns": [
        {
         "name": "Species",
         "rawType": "object",
         "type": "string"
        },
        {
         "name": "sum",
         "rawType": "float64",
         "type": "float"
        },
        {
         "name": "mean",
         "rawType": "float64",
         "type": "float"
        }
       ],
       "conversionMethod": "pd.DataFrame",
       "ref": "7ff848b7-dfd2-451f-b9ed-4d82e148e731",
       "rows": [
        [
         "Equus zebra",
         "7.0",
         "7.0"
        ],
        [
         "Loxodonta",
         "0.0",
         null
        ],
        [
         "Panthera leo",
         "8.0",
         "4.0"
        ],
        [
         "Panthera tigris",
         "2.0",
         "2.0"
        ]
       ],
       "shape": {
        "columns": 2,
        "rows": 4
       }
      },
      "text/html": [
       "<div>\n",
       "<style scoped>\n",
       "    .dataframe tbody tr th:only-of-type {\n",
       "        vertical-align: middle;\n",
       "    }\n",
       "\n",
       "    .dataframe tbody tr th {\n",
       "        vertical-align: top;\n",
       "    }\n",
       "\n",
       "    .dataframe thead th {\n",
       "        text-align: right;\n",
       "    }\n",
       "</style>\n",
       "<table border=\"1\" class=\"dataframe\">\n",
       "  <thead>\n",
       "    <tr style=\"text-align: right;\">\n",
       "      <th></th>\n",
       "      <th>sum</th>\n",
       "      <th>mean</th>\n",
       "    </tr>\n",
       "    <tr>\n",
       "      <th>Species</th>\n",
       "      <th></th>\n",
       "      <th></th>\n",
       "    </tr>\n",
       "  </thead>\n",
       "  <tbody>\n",
       "    <tr>\n",
       "      <th>Equus zebra</th>\n",
       "      <td>7.0</td>\n",
       "      <td>7.0</td>\n",
       "    </tr>\n",
       "    <tr>\n",
       "      <th>Loxodonta</th>\n",
       "      <td>0.0</td>\n",
       "      <td>NaN</td>\n",
       "    </tr>\n",
       "    <tr>\n",
       "      <th>Panthera leo</th>\n",
       "      <td>8.0</td>\n",
       "      <td>4.0</td>\n",
       "    </tr>\n",
       "    <tr>\n",
       "      <th>Panthera tigris</th>\n",
       "      <td>2.0</td>\n",
       "      <td>2.0</td>\n",
       "    </tr>\n",
       "  </tbody>\n",
       "</table>\n",
       "</div>"
      ],
      "text/plain": [
       "                 sum  mean\n",
       "Species                   \n",
       "Equus zebra      7.0   7.0\n",
       "Loxodonta        0.0   NaN\n",
       "Panthera leo     8.0   4.0\n",
       "Panthera tigris  2.0   2.0"
      ]
     },
     "metadata": {},
     "output_type": "display_data"
    }
   ],
   "source": [
    "# Group by Species, aggregate observation count\n",
    "species_grouped = outer_merged.groupby('Species')['Observations'].agg(['sum', 'mean'])\n",
    "print(\"Total and average observations per Species:\")\n",
    "display(species_grouped)\n"
   ]
  },
  {
   "cell_type": "markdown",
   "metadata": {},
   "source": [
    "We see the sum and mean of observations for each species:\n",
    "- For Panthera leo (Lion) etc.\n",
    "\n",
    "Note: The mean for some species might be based on fewer data points if some years were missing.\n",
    "\n",
    "Next, let's group by **Year** to see the total observations in each year across all animals. This can be done similarly:\n"
   ]
  },
  {
   "cell_type": "code",
   "execution_count": 8,
   "metadata": {},
   "outputs": [
    {
     "name": "stdout",
     "output_type": "stream",
     "text": [
      "Total observations per Year:\n"
     ]
    },
    {
     "data": {
      "text/plain": [
       "Year\n",
       "2020.0    14.0\n",
       "2021.0     4.0\n",
       "Name: Observations, dtype: float64"
      ]
     },
     "metadata": {},
     "output_type": "display_data"
    }
   ],
   "source": [
    "# Group by Year, sum the observations in each year\n",
    "yearly_obs = outer_merged.groupby('Year')['Observations'].sum()\n",
    "print(\"Total observations per Year:\")\n",
    "display(yearly_obs)\n"
   ]
  },
  {
   "cell_type": "markdown",
   "metadata": {},
   "source": [
    "The result is a Series indexed by Year with the total observations for that year.\n",
    "\n",
    "### GroupBy with custom functions\n",
    "\n",
    "You are not limited to built-in aggregations like sum or mean. You can apply custom functions. For example, let's create a custom function to calculate the **range** of observations (max - min) for each group. We will group by Species again for this:\n"
   ]
  },
  {
   "cell_type": "code",
   "execution_count": 9,
   "metadata": {},
   "outputs": [
    {
     "name": "stdout",
     "output_type": "stream",
     "text": [
      "Range of observations (max-min) per Species:\n"
     ]
    },
    {
     "data": {
      "text/plain": [
       "Species\n",
       "Equus zebra        0.0\n",
       "Loxodonta          NaN\n",
       "Panthera leo       2.0\n",
       "Panthera tigris    0.0\n",
       "Name: Observations, dtype: float64"
      ]
     },
     "metadata": {},
     "output_type": "display_data"
    }
   ],
   "source": [
    "# Define a custom aggregation function: range (max - min)\n",
    "def range_func(x):\n",
    "    return x.max() - x.min()\n",
    "\n",
    "# Group by Species, apply custom range function to Observations\n",
    "obs_range = outer_merged.groupby('Species')['Observations'].agg(range_func)\n",
    "print(\"Range of observations (max-min) per Species:\")\n",
    "display(obs_range)\n"
   ]
  },
  {
   "cell_type": "markdown",
   "metadata": {},
   "source": [
    "The custom function was applied to each species' Observations:\n",
    "- For species with only one observation entry, the range is 0.\n",
    "- For those with multiple, it shows the difference between max and min observations.\n",
    "\n",
    "You can also pass multiple functions at once:\n",
    "```python\n",
    "outer_merged.groupby('Species')['Observations'].agg(['sum', 'mean', range_func])\n"
   ]
  },
  {
   "cell_type": "markdown",
   "metadata": {},
   "source": [
    "## 4. Pivot and Pivot Tables (Reshaping Data)\n",
    "\n",
    "Sometimes you'll need to reshape data from a \"long\" format (rows are individual observations) to a \"wide\" format (columns represent categories). Pandas provides:\n",
    "\n",
    "`df.pivot()` for simple reshaping when each index/column pair has a single value.\n",
    "\n",
    "`df.pivot_table()` for situations where you have duplicate entries for an index/column pair and need to aggregate (or if you want to apply an aggregation while pivoting).\n",
    "\n",
    "Think of pivoting like creating a spreadsheet pivot table:\n",
    "\n",
    "You choose an index (rows),\n",
    "\n",
    "a set of columns,\n",
    "\n",
    "and values to fill the table.\n",
    "\n",
    "Let's create an example. Suppose we conducted two types of measurements (speed and strength) for each animal and want to compare them side by side. We can start with a long-format DataFrame and then pivot it.\n",
    "\n",
    "Example long-format data: Animal, Metric, and Value."
   ]
  },
  {
   "cell_type": "code",
   "execution_count": 10,
   "metadata": {},
   "outputs": [
    {
     "name": "stdout",
     "output_type": "stream",
     "text": [
      "Long-format data:\n"
     ]
    },
    {
     "data": {
      "application/vnd.microsoft.datawrangler.viewer.v0+json": {
       "columns": [
        {
         "name": "index",
         "rawType": "int64",
         "type": "integer"
        },
        {
         "name": "Animal",
         "rawType": "object",
         "type": "string"
        },
        {
         "name": "Metric",
         "rawType": "object",
         "type": "string"
        },
        {
         "name": "Value",
         "rawType": "int64",
         "type": "integer"
        }
       ],
       "conversionMethod": "pd.DataFrame",
       "ref": "9f0c2491-6755-4e27-9939-6c20cacec358",
       "rows": [
        [
         "0",
         "Lion",
         "Speed",
         "12"
        ],
        [
         "1",
         "Lion",
         "Strength",
         "8"
        ],
        [
         "2",
         "Zebra",
         "Speed",
         "9"
        ],
        [
         "3",
         "Zebra",
         "Strength",
         "6"
        ]
       ],
       "shape": {
        "columns": 3,
        "rows": 4
       }
      },
      "text/html": [
       "<div>\n",
       "<style scoped>\n",
       "    .dataframe tbody tr th:only-of-type {\n",
       "        vertical-align: middle;\n",
       "    }\n",
       "\n",
       "    .dataframe tbody tr th {\n",
       "        vertical-align: top;\n",
       "    }\n",
       "\n",
       "    .dataframe thead th {\n",
       "        text-align: right;\n",
       "    }\n",
       "</style>\n",
       "<table border=\"1\" class=\"dataframe\">\n",
       "  <thead>\n",
       "    <tr style=\"text-align: right;\">\n",
       "      <th></th>\n",
       "      <th>Animal</th>\n",
       "      <th>Metric</th>\n",
       "      <th>Value</th>\n",
       "    </tr>\n",
       "  </thead>\n",
       "  <tbody>\n",
       "    <tr>\n",
       "      <th>0</th>\n",
       "      <td>Lion</td>\n",
       "      <td>Speed</td>\n",
       "      <td>12</td>\n",
       "    </tr>\n",
       "    <tr>\n",
       "      <th>1</th>\n",
       "      <td>Lion</td>\n",
       "      <td>Strength</td>\n",
       "      <td>8</td>\n",
       "    </tr>\n",
       "    <tr>\n",
       "      <th>2</th>\n",
       "      <td>Zebra</td>\n",
       "      <td>Speed</td>\n",
       "      <td>9</td>\n",
       "    </tr>\n",
       "    <tr>\n",
       "      <th>3</th>\n",
       "      <td>Zebra</td>\n",
       "      <td>Strength</td>\n",
       "      <td>6</td>\n",
       "    </tr>\n",
       "  </tbody>\n",
       "</table>\n",
       "</div>"
      ],
      "text/plain": [
       "  Animal    Metric  Value\n",
       "0   Lion     Speed     12\n",
       "1   Lion  Strength      8\n",
       "2  Zebra     Speed      9\n",
       "3  Zebra  Strength      6"
      ]
     },
     "metadata": {},
     "output_type": "display_data"
    },
    {
     "name": "stdout",
     "output_type": "stream",
     "text": [
      "\n",
      "Pivoted wide-format data (Animal x Metric):\n"
     ]
    },
    {
     "data": {
      "application/vnd.microsoft.datawrangler.viewer.v0+json": {
       "columns": [
        {
         "name": "Animal",
         "rawType": "object",
         "type": "string"
        },
        {
         "name": "Speed",
         "rawType": "int64",
         "type": "integer"
        },
        {
         "name": "Strength",
         "rawType": "int64",
         "type": "integer"
        }
       ],
       "conversionMethod": "pd.DataFrame",
       "ref": "bdeb36c6-160b-4bcf-a4e2-a027401f3a80",
       "rows": [
        [
         "Lion",
         "12",
         "8"
        ],
        [
         "Zebra",
         "9",
         "6"
        ]
       ],
       "shape": {
        "columns": 2,
        "rows": 2
       }
      },
      "text/html": [
       "<div>\n",
       "<style scoped>\n",
       "    .dataframe tbody tr th:only-of-type {\n",
       "        vertical-align: middle;\n",
       "    }\n",
       "\n",
       "    .dataframe tbody tr th {\n",
       "        vertical-align: top;\n",
       "    }\n",
       "\n",
       "    .dataframe thead th {\n",
       "        text-align: right;\n",
       "    }\n",
       "</style>\n",
       "<table border=\"1\" class=\"dataframe\">\n",
       "  <thead>\n",
       "    <tr style=\"text-align: right;\">\n",
       "      <th>Metric</th>\n",
       "      <th>Speed</th>\n",
       "      <th>Strength</th>\n",
       "    </tr>\n",
       "    <tr>\n",
       "      <th>Animal</th>\n",
       "      <th></th>\n",
       "      <th></th>\n",
       "    </tr>\n",
       "  </thead>\n",
       "  <tbody>\n",
       "    <tr>\n",
       "      <th>Lion</th>\n",
       "      <td>12</td>\n",
       "      <td>8</td>\n",
       "    </tr>\n",
       "    <tr>\n",
       "      <th>Zebra</th>\n",
       "      <td>9</td>\n",
       "      <td>6</td>\n",
       "    </tr>\n",
       "  </tbody>\n",
       "</table>\n",
       "</div>"
      ],
      "text/plain": [
       "Metric  Speed  Strength\n",
       "Animal                 \n",
       "Lion       12         8\n",
       "Zebra       9         6"
      ]
     },
     "metadata": {},
     "output_type": "display_data"
    }
   ],
   "source": [
    "# Long format data: each animal has multiple metric measurements\n",
    "df_long = pd.DataFrame({\n",
    "    'Animal': ['Lion', 'Lion', 'Zebra', 'Zebra'],\n",
    "    'Metric': ['Speed', 'Strength', 'Speed', 'Strength'],\n",
    "    'Value': [12, 8, 9, 6]\n",
    "})\n",
    "print(\"Long-format data:\")\n",
    "display(df_long)\n",
    "\n",
    "# Pivot this data so that each animal is a row, metrics are columns\n",
    "df_wide = df_long.pivot(index='Animal', columns='Metric', values='Value')\n",
    "print(\"\\nPivoted wide-format data (Animal x Metric):\")\n",
    "display(df_wide)\n",
    "\n"
   ]
  },
  {
   "cell_type": "markdown",
   "metadata": {},
   "source": [
    "We pivoted the long data:\n",
    "- **index** = Animal (so each animal becomes a row index)\n",
    "- **columns** = Metric (we get a \"Speed\" column and a \"Strength\" column)\n",
    "- **values** = Value (the values to place in the table)\n",
    "\n",
    "The result `df_wide` has animals as rows, and two columns (Speed, Strength) with the corresponding values. Lion's speed 12, strength 8, etc.\n",
    "\n",
    "This worked because in `df_long`, each (Animal, Metric) pair had exactly one value. If there were multiple values for a given Animal and Metric (i.e., duplicates), `pivot()` would not know what to do and would raise an error.\n",
    "\n",
    "For those cases, or when you want to aggregate while pivoting, use `pivot_table`. Let's simulate a scenario with duplicate entries. \n",
    "\n",
    "**Example**: Suppose we have yearly observation counts for species (with potentially multiple counts per species per year, maybe from different observation sources). We'll create a DataFrame with duplicates and use a pivot table to summarize.\n"
   ]
  },
  {
   "cell_type": "code",
   "execution_count": 12,
   "metadata": {},
   "outputs": [
    {
     "name": "stdout",
     "output_type": "stream",
     "text": [
      "Species count data (long format with duplicates):\n"
     ]
    },
    {
     "data": {
      "application/vnd.microsoft.datawrangler.viewer.v0+json": {
       "columns": [
        {
         "name": "index",
         "rawType": "int64",
         "type": "integer"
        },
        {
         "name": "Species",
         "rawType": "object",
         "type": "string"
        },
        {
         "name": "Year",
         "rawType": "int64",
         "type": "integer"
        },
        {
         "name": "Count",
         "rawType": "int64",
         "type": "integer"
        }
       ],
       "conversionMethod": "pd.DataFrame",
       "ref": "d8136f80-c063-4b47-80d1-caed15e2d077",
       "rows": [
        [
         "0",
         "Lion",
         "2020",
         "3"
        ],
        [
         "1",
         "Lion",
         "2020",
         "2"
        ],
        [
         "2",
         "Zebra",
         "2020",
         "4"
        ],
        [
         "3",
         "Zebra",
         "2021",
         "5"
        ],
        [
         "4",
         "Zebra",
         "2021",
         "2"
        ],
        [
         "5",
         "Elephant",
         "2021",
         "1"
        ]
       ],
       "shape": {
        "columns": 3,
        "rows": 6
       }
      },
      "text/html": [
       "<div>\n",
       "<style scoped>\n",
       "    .dataframe tbody tr th:only-of-type {\n",
       "        vertical-align: middle;\n",
       "    }\n",
       "\n",
       "    .dataframe tbody tr th {\n",
       "        vertical-align: top;\n",
       "    }\n",
       "\n",
       "    .dataframe thead th {\n",
       "        text-align: right;\n",
       "    }\n",
       "</style>\n",
       "<table border=\"1\" class=\"dataframe\">\n",
       "  <thead>\n",
       "    <tr style=\"text-align: right;\">\n",
       "      <th></th>\n",
       "      <th>Species</th>\n",
       "      <th>Year</th>\n",
       "      <th>Count</th>\n",
       "    </tr>\n",
       "  </thead>\n",
       "  <tbody>\n",
       "    <tr>\n",
       "      <th>0</th>\n",
       "      <td>Lion</td>\n",
       "      <td>2020</td>\n",
       "      <td>3</td>\n",
       "    </tr>\n",
       "    <tr>\n",
       "      <th>1</th>\n",
       "      <td>Lion</td>\n",
       "      <td>2020</td>\n",
       "      <td>2</td>\n",
       "    </tr>\n",
       "    <tr>\n",
       "      <th>2</th>\n",
       "      <td>Zebra</td>\n",
       "      <td>2020</td>\n",
       "      <td>4</td>\n",
       "    </tr>\n",
       "    <tr>\n",
       "      <th>3</th>\n",
       "      <td>Zebra</td>\n",
       "      <td>2021</td>\n",
       "      <td>5</td>\n",
       "    </tr>\n",
       "    <tr>\n",
       "      <th>4</th>\n",
       "      <td>Zebra</td>\n",
       "      <td>2021</td>\n",
       "      <td>2</td>\n",
       "    </tr>\n",
       "    <tr>\n",
       "      <th>5</th>\n",
       "      <td>Elephant</td>\n",
       "      <td>2021</td>\n",
       "      <td>1</td>\n",
       "    </tr>\n",
       "  </tbody>\n",
       "</table>\n",
       "</div>"
      ],
      "text/plain": [
       "    Species  Year  Count\n",
       "0      Lion  2020      3\n",
       "1      Lion  2020      2\n",
       "2     Zebra  2020      4\n",
       "3     Zebra  2021      5\n",
       "4     Zebra  2021      2\n",
       "5  Elephant  2021      1"
      ]
     },
     "metadata": {},
     "output_type": "display_data"
    },
    {
     "name": "stdout",
     "output_type": "stream",
     "text": [
      "\n",
      "Pivot table (total counts per Species per Year):\n"
     ]
    },
    {
     "data": {
      "application/vnd.microsoft.datawrangler.viewer.v0+json": {
       "columns": [
        {
         "name": "Species",
         "rawType": "object",
         "type": "string"
        },
        {
         "name": "2020",
         "rawType": "int64",
         "type": "integer"
        },
        {
         "name": "2021",
         "rawType": "int64",
         "type": "integer"
        }
       ],
       "conversionMethod": "pd.DataFrame",
       "ref": "1bb53f8c-c048-4ccf-830a-1bc2f5645920",
       "rows": [
        [
         "Elephant",
         "-1",
         "1"
        ],
        [
         "Lion",
         "5",
         "-1"
        ],
        [
         "Zebra",
         "4",
         "7"
        ]
       ],
       "shape": {
        "columns": 2,
        "rows": 3
       }
      },
      "text/html": [
       "<div>\n",
       "<style scoped>\n",
       "    .dataframe tbody tr th:only-of-type {\n",
       "        vertical-align: middle;\n",
       "    }\n",
       "\n",
       "    .dataframe tbody tr th {\n",
       "        vertical-align: top;\n",
       "    }\n",
       "\n",
       "    .dataframe thead th {\n",
       "        text-align: right;\n",
       "    }\n",
       "</style>\n",
       "<table border=\"1\" class=\"dataframe\">\n",
       "  <thead>\n",
       "    <tr style=\"text-align: right;\">\n",
       "      <th>Year</th>\n",
       "      <th>2020</th>\n",
       "      <th>2021</th>\n",
       "    </tr>\n",
       "    <tr>\n",
       "      <th>Species</th>\n",
       "      <th></th>\n",
       "      <th></th>\n",
       "    </tr>\n",
       "  </thead>\n",
       "  <tbody>\n",
       "    <tr>\n",
       "      <th>Elephant</th>\n",
       "      <td>-1</td>\n",
       "      <td>1</td>\n",
       "    </tr>\n",
       "    <tr>\n",
       "      <th>Lion</th>\n",
       "      <td>5</td>\n",
       "      <td>-1</td>\n",
       "    </tr>\n",
       "    <tr>\n",
       "      <th>Zebra</th>\n",
       "      <td>4</td>\n",
       "      <td>7</td>\n",
       "    </tr>\n",
       "  </tbody>\n",
       "</table>\n",
       "</div>"
      ],
      "text/plain": [
       "Year      2020  2021\n",
       "Species             \n",
       "Elephant    -1     1\n",
       "Lion         5    -1\n",
       "Zebra        4     7"
      ]
     },
     "metadata": {},
     "output_type": "display_data"
    }
   ],
   "source": [
    "# Data with potential duplicates: Species observations per Year from different sources\n",
    "df_counts = pd.DataFrame({\n",
    "    'Species': ['Lion', 'Lion', 'Zebra', 'Zebra', 'Zebra', 'Elephant'],\n",
    "    'Year':    [2020, 2020, 2020, 2021, 2021, 2021],\n",
    "    'Count':   [3, 2, 4, 5, 2, 1]   # e.g., two Lion entries in 2020, two Zebra entries in 2021\n",
    "})\n",
    "print(\"Species count data (long format with duplicates):\")\n",
    "display(df_counts)\n",
    "\n",
    "# Attempting to pivot this directly would fail because of duplicate Species-Year pairs.\n",
    "# Instead, use pivot_table to aggregate the counts.\n",
    "species_year_table = df_counts.pivot_table(index='Species', columns='Year', \n",
    "                                          values='Count', aggfunc='sum', fill_value=-1)\n",
    "print(\"\\nPivot table (total counts per Species per Year):\")\n",
    "display(species_year_table)\n"
   ]
  },
  {
   "cell_type": "markdown",
   "metadata": {},
   "source": [
    "We used `pivot_table` with `aggfunc='sum'` to handle duplicate entries by summing them:\n",
    "- Lion in 2020 had two entries (3 and 2), which got summed to 5.\n",
    "- Zebra in 2021 had two entries (5 and 2), summed to 7.\n",
    "- The table shows 0 for combinations where there were no counts (we used `fill_value=0` to replace NaN with 0).\n",
    "\n",
    "Pivot tables are a convenient way to reshape and aggregate data in one go. \n",
    "\n",
    "**Recap:**\n",
    "- Use `pivot` when each index/column pair has a single value.\n",
    "- Use `pivot_table` when you have duplicates or want to apply an aggregation (mean, sum, etc.) during the reshape.\n",
    "\n",
    "---\n",
    "\n",
    "## 5. Efficiency Matters: Avoid `DataFrame.apply` for Row-wise Operations\n",
    "\n",
    "A common beginner misconception is to use `df.apply()` for operations on each row, thinking it's vectorized. In reality, `DataFrame.apply` with `axis=1` (row-wise) will call your function for each row in Python, which can be slow for large DataFrames.\n",
    "\n",
    "Pandas (and NumPy underneath) is optimized for **vectorized operations**: operations applied on entire columns (arrays) at once, in C speed. Using a Python loop (explicitly or via `apply` or `iterrows`) breaks this vectorization and can be hundreds of times slower.\n",
    "\n",
    "**Example:** Suppose we have two columns and want to compute a new column as their sum. We'll compare a vectorized approach to an `apply` approach.\n"
   ]
  },
  {
   "cell_type": "code",
   "execution_count": 13,
   "metadata": {},
   "outputs": [
    {
     "name": "stdout",
     "output_type": "stream",
     "text": [
      "Time using apply: 0.0450 seconds\n",
      "Time using vectorized operation: 0.0003 seconds\n",
      "Results equal? True\n"
     ]
    }
   ],
   "source": [
    "import numpy as np\n",
    "# Create a DataFrame with 10000 rows for demonstration\n",
    "N = 10000\n",
    "df_perf = pd.DataFrame({\n",
    "    'x': np.random.rand(N),\n",
    "    'y': np.random.rand(N)\n",
    "})\n",
    "\n",
    "# Approach 1: Using apply (row by row computation)\n",
    "import time\n",
    "start = time.time()\n",
    "df_perf['sum_apply'] = df_perf.apply(lambda row: row['x'] + row['y'], axis=1)\n",
    "end = time.time()\n",
    "apply_time = end - start\n",
    "\n",
    "# Approach 2: Vectorized operation\n",
    "start = time.time()\n",
    "df_perf['sum_vectorized'] = df_perf['x'] + df_perf['y']\n",
    "end = time.time()\n",
    "vec_time = end - start\n",
    "\n",
    "print(f\"Time using apply: {apply_time:.4f} seconds\")\n",
    "print(f\"Time using vectorized operation: {vec_time:.4f} seconds\")\n",
    "\n",
    "# Verify that results are the same\n",
    "print(\"Results equal?\", df_perf['sum_apply'].equals(df_perf['sum_vectorized']))\n"
   ]
  },
  {
   "cell_type": "markdown",
   "metadata": {},
   "source": [
    "The output shows how much time each approach took. On a typical run, the apply method is **significantly slower** (even tens of times slower) than the vectorized operation, especially as N grows larger. Yet both methods produce the same result (and we verified the results are equal).\n",
    "\n",
    "For a small DataFrame you might not notice, but for large datasets this difference is huge. **Rule of thumb:** whenever possible, use vectorized operations (column-wise arithmetic, built-in pandas methods) instead of row-wise Python code with `apply`.\n",
    "\n",
    "`df.apply` is not evil—it can be useful for certain column-wise operations or when you truly need to apply a custom function across rows. But always consider if there's a direct pandas or NumPy vectorized way first.\n",
    "\n",
    "---\n",
    "\n",
    "## 6. Efficiency Matters: Avoid Loops (`for` or `iterrows`) for DataFrames\n",
    "\n",
    "Similarly to using `apply`, explicitly iterating over rows with a `for` loop or using `DataFrame.iterrows()` is very slow for large DataFrames. Each iteration is pure Python overhead, and `iterrows()` in particular creates a Series for each row (which is additional overhead and may lead to type coercion issues).\n",
    "\n",
    "**Why `iterrows`/loops are slow:**\n",
    "- pandas/NumPy operations run in optimized C code.\n",
    "- A Python loop processes one row at a time in Python, missing out on those optimizations.\n",
    "- `iterrows()` returns copies of data in each row, not a view, which can be inefficient.\n",
    "\n",
    "Let's demonstrate with the same DataFrame `df_perf` by summing columns using a loop vs. vectorized.\n"
   ]
  },
  {
   "cell_type": "code",
   "execution_count": 14,
   "metadata": {},
   "outputs": [
    {
     "name": "stdout",
     "output_type": "stream",
     "text": [
      "Time using iterrows loop: 0.2157 seconds\n",
      "Time using vectorized (from above): 0.0003 seconds\n",
      "Results equal? True\n"
     ]
    }
   ],
   "source": [
    "# Using iterrows in a loop to sum x and y\n",
    "start = time.time()\n",
    "sums = []\n",
    "for idx, row in df_perf.iterrows():\n",
    "    sums.append(row['x'] + row['y'])\n",
    "df_perf['sum_loop'] = sums\n",
    "end = time.time()\n",
    "loop_time = end - start\n",
    "\n",
    "print(f\"Time using iterrows loop: {loop_time:.4f} seconds\")\n",
    "print(f\"Time using vectorized (from above): {vec_time:.4f} seconds\")\n",
    "print(\"Results equal?\", df_perf['sum_loop'].equals(df_perf['sum_vectorized']))\n"
   ]
  },
  {
   "cell_type": "markdown",
   "metadata": {},
   "source": [
    "Even with just 10k rows, the loop is much slower than the vectorized approach. For larger data (100k or 1 million rows), the difference can be dramatic (minutes vs seconds).\n",
    "\n",
    "**Bottom line:** Use pandas vectorized operations or methods (like `.sum()`, `.mean()`, column arithmetic, etc.) whenever possible. If you need to iterate, consider alternatives like:\n",
    "- `DataFrame.itertuples()` (faster than `iterrows`, returns namedtuples) when you must loop in Python.\n",
    "- Use NumPy arrays (access via `df['col'].to_numpy()`) for low-level loops if absolutely necessary.\n",
    "- But best is to rethink the problem in a vectorized way.\n",
    "\n",
    "---\n",
    "\n",
    "## 7. Chained Indexing Warning: Avoid Chained Assignments\n",
    "\n",
    "Another common pitfall is **chained indexing**, which means accessing or assigning to a DataFrame using multiple indexing operations in one go (like `df[mask]['col'] = value`). This can lead to the dreaded `SettingWithCopyWarning` in pandas, or even silently not do what you expect.\n",
    "\n",
    "**What is chained indexing?**  \n",
    "It's when you index into a DataFrame, and then index the result again, e.g.:\n",
    "```python\n",
    "df[df['Animal'] == 'Lion']['Speed'] = 5\n",
    "```\n",
    "\n",
    "In this example, df[df['Animal'] == 'Lion'] creates a new DataFrame (a copy of part of the data). Then ['Speed'] = 5 tries to set values on that new object, not the original df. This may either do nothing to df or raise a warning. Pandas warns you because this kind of operation is ambiguous (sometimes it might work on a view of the original data, other times on a copy).\n",
    "\n",
    "How to avoid it:\n",
    "\n",
    "- Use single-step indexing with .loc for setting values, which ensures pandas sets on the original DataFrame.\n",
    "- Alternatively, break it into two steps with an explicit temporary variable if needed (first filtering, then setting on the filtered copy – but in that case, use that copy knowingly)."
   ]
  },
  {
   "cell_type": "code",
   "execution_count": 17,
   "metadata": {},
   "outputs": [
    {
     "name": "stdout",
     "output_type": "stream",
     "text": [
      "Before chained assignment:\n"
     ]
    },
    {
     "data": {
      "application/vnd.microsoft.datawrangler.viewer.v0+json": {
       "columns": [
        {
         "name": "index",
         "rawType": "int64",
         "type": "integer"
        },
        {
         "name": "Animal",
         "rawType": "object",
         "type": "string"
        },
        {
         "name": "Speed",
         "rawType": "int64",
         "type": "integer"
        }
       ],
       "conversionMethod": "pd.DataFrame",
       "ref": "b8eca105-fe39-431e-a10d-6476ca567570",
       "rows": [
        [
         "0",
         "Lion",
         "10"
        ],
        [
         "1",
         "Zebra",
         "12"
        ],
        [
         "2",
         "Lion",
         "11"
        ],
        [
         "3",
         "Zebra",
         "9"
        ]
       ],
       "shape": {
        "columns": 2,
        "rows": 4
       }
      },
      "text/html": [
       "<div>\n",
       "<style scoped>\n",
       "    .dataframe tbody tr th:only-of-type {\n",
       "        vertical-align: middle;\n",
       "    }\n",
       "\n",
       "    .dataframe tbody tr th {\n",
       "        vertical-align: top;\n",
       "    }\n",
       "\n",
       "    .dataframe thead th {\n",
       "        text-align: right;\n",
       "    }\n",
       "</style>\n",
       "<table border=\"1\" class=\"dataframe\">\n",
       "  <thead>\n",
       "    <tr style=\"text-align: right;\">\n",
       "      <th></th>\n",
       "      <th>Animal</th>\n",
       "      <th>Speed</th>\n",
       "    </tr>\n",
       "  </thead>\n",
       "  <tbody>\n",
       "    <tr>\n",
       "      <th>0</th>\n",
       "      <td>Lion</td>\n",
       "      <td>10</td>\n",
       "    </tr>\n",
       "    <tr>\n",
       "      <th>1</th>\n",
       "      <td>Zebra</td>\n",
       "      <td>12</td>\n",
       "    </tr>\n",
       "    <tr>\n",
       "      <th>2</th>\n",
       "      <td>Lion</td>\n",
       "      <td>11</td>\n",
       "    </tr>\n",
       "    <tr>\n",
       "      <th>3</th>\n",
       "      <td>Zebra</td>\n",
       "      <td>9</td>\n",
       "    </tr>\n",
       "  </tbody>\n",
       "</table>\n",
       "</div>"
      ],
      "text/plain": [
       "  Animal  Speed\n",
       "0   Lion     10\n",
       "1  Zebra     12\n",
       "2   Lion     11\n",
       "3  Zebra      9"
      ]
     },
     "metadata": {},
     "output_type": "display_data"
    },
    {
     "name": "stdout",
     "output_type": "stream",
     "text": [
      "Warning or Error caught: SettingWithCopyWarning: \n",
      "A value is trying to be set on a copy of a slice from a DataFrame.\n",
      "Try using .loc[row_indexer,col_indexer] = value instead\n",
      "\n",
      "See the caveats in the documentation: https://pandas.pydata.org/pandas-docs/stable/user_guide/indexing.html#returning-a-view-versus-a-copy\n",
      "\n",
      "After .loc assignment (set Speed=0 for all Lions):\n"
     ]
    },
    {
     "data": {
      "application/vnd.microsoft.datawrangler.viewer.v0+json": {
       "columns": [
        {
         "name": "index",
         "rawType": "int64",
         "type": "integer"
        },
        {
         "name": "Animal",
         "rawType": "object",
         "type": "string"
        },
        {
         "name": "Speed",
         "rawType": "int64",
         "type": "integer"
        }
       ],
       "conversionMethod": "pd.DataFrame",
       "ref": "a1235014-c653-4045-9b66-d4ed1d00d660",
       "rows": [
        [
         "0",
         "Lion",
         "0"
        ],
        [
         "1",
         "Zebra",
         "12"
        ],
        [
         "2",
         "Lion",
         "0"
        ],
        [
         "3",
         "Zebra",
         "9"
        ]
       ],
       "shape": {
        "columns": 2,
        "rows": 4
       }
      },
      "text/html": [
       "<div>\n",
       "<style scoped>\n",
       "    .dataframe tbody tr th:only-of-type {\n",
       "        vertical-align: middle;\n",
       "    }\n",
       "\n",
       "    .dataframe tbody tr th {\n",
       "        vertical-align: top;\n",
       "    }\n",
       "\n",
       "    .dataframe thead th {\n",
       "        text-align: right;\n",
       "    }\n",
       "</style>\n",
       "<table border=\"1\" class=\"dataframe\">\n",
       "  <thead>\n",
       "    <tr style=\"text-align: right;\">\n",
       "      <th></th>\n",
       "      <th>Animal</th>\n",
       "      <th>Speed</th>\n",
       "    </tr>\n",
       "  </thead>\n",
       "  <tbody>\n",
       "    <tr>\n",
       "      <th>0</th>\n",
       "      <td>Lion</td>\n",
       "      <td>0</td>\n",
       "    </tr>\n",
       "    <tr>\n",
       "      <th>1</th>\n",
       "      <td>Zebra</td>\n",
       "      <td>12</td>\n",
       "    </tr>\n",
       "    <tr>\n",
       "      <th>2</th>\n",
       "      <td>Lion</td>\n",
       "      <td>0</td>\n",
       "    </tr>\n",
       "    <tr>\n",
       "      <th>3</th>\n",
       "      <td>Zebra</td>\n",
       "      <td>9</td>\n",
       "    </tr>\n",
       "  </tbody>\n",
       "</table>\n",
       "</div>"
      ],
      "text/plain": [
       "  Animal  Speed\n",
       "0   Lion      0\n",
       "1  Zebra     12\n",
       "2   Lion      0\n",
       "3  Zebra      9"
      ]
     },
     "metadata": {},
     "output_type": "display_data"
    },
    {
     "data": {
      "text/plain": [
       "0    0\n",
       "2    0\n",
       "Name: Speed, dtype: int64"
      ]
     },
     "metadata": {},
     "output_type": "display_data"
    }
   ],
   "source": [
    "\n",
    "# Create a simple DataFrame for demonstration\n",
    "df_temp = pd.DataFrame({\n",
    "    'Animal': ['Lion', 'Zebra', 'Lion', 'Zebra'],\n",
    "    'Speed': [10, 12, 11, 9]\n",
    "})\n",
    "print(\"Before chained assignment:\")\n",
    "display(df_temp)\n",
    "\n",
    "# Attempt a chained indexing assignment (this might produce a warning)\n",
    "import warnings\n",
    "warnings.filterwarnings('error')  # To turn SettingWithCopyWarning into an error for demonstration\n",
    "try:\n",
    "    df_temp[df_temp['Animal'] == 'Lion']['Speed'] = 0  # Trying to set Speed=0 for all Lions (incorrect way)\n",
    "except Warning as w:\n",
    "    print(f\"Warning or Error caught: {type(w).__name__}: {w}\")\n",
    "\n",
    "# Proper way: use .loc for conditional assignment\n",
    "df_temp.loc[df_temp['Animal'] == 'Lion', 'Speed'] = 0\n",
    "print(\"\\nAfter .loc assignment (set Speed=0 for all Lions):\")\n",
    "display(df_temp)\n",
    "display(df_temp.loc[df_temp['Animal'] == 'Lion', 'Speed'])"
   ]
  },
  {
   "cell_type": "markdown",
   "metadata": {},
   "source": [
    "In the example:\n",
    "- The chained indexing attempt raised a warning/error (as expected) because it was a two-step setting.\n",
    "- Using `.loc` in one step (`df_temp.loc[condition, 'Speed'] = 0`) correctly modified the original DataFrame.\n",
    "\n",
    "When you see a `SettingWithCopyWarning`, it usually means you're doing chained indexing. Always prefer `.loc` for setting values based on conditions or index labels.\n",
    "\n",
    "---\n",
    "\n",
    "Now that we've covered these core pandas concepts (multi-indexing, merging, groupby, pivoting, and writing efficient pandas code), it's time to practice with a couple of challenges!\n",
    "\n",
    "## Challenge 1: Combining Techniques (Merge, GroupBy, Pivot)\n",
    "\n",
    "**Scenario:** You have two datasets:\n",
    "- One contains information about individual animals (their species, etc.).\n",
    "- Another contains yearly observations of those animals.\n",
    "\n",
    "Your task is to **merge** these datasets and then **summarize** the observations by species and year.\n",
    "\n",
    "**Steps to perform:**\n",
    "1. **Merge** the two DataFrames on the animal identifier (e.g., \"Animal\" name) to get a combined dataset with species and yearly observations.\n",
    "2. Use **groupby** (or directly pivot_table) to calculate the total observations per Species for each Year.\n",
    "3. **Pivot** the result so that Species are rows and Years are columns (so we can easily see a table of species vs year observations). Fill missing combinations with 0.\n",
    "4. (Bonus) Try doing it in one step with `pivot_table` for comparison.\n",
    "\n",
    "We've actually prepared example data for you below. Fill in the code where needed to perform the tasks.\n"
   ]
  },
  {
   "cell_type": "code",
   "execution_count": 20,
   "metadata": {},
   "outputs": [
    {
     "name": "stdout",
     "output_type": "stream",
     "text": [
      "Animal info:\n"
     ]
    },
    {
     "data": {
      "application/vnd.microsoft.datawrangler.viewer.v0+json": {
       "columns": [
        {
         "name": "index",
         "rawType": "int64",
         "type": "integer"
        },
        {
         "name": "Animal",
         "rawType": "object",
         "type": "string"
        },
        {
         "name": "Species",
         "rawType": "object",
         "type": "string"
        }
       ],
       "conversionMethod": "pd.DataFrame",
       "ref": "b8d21303-6451-41e8-b455-179b206878c7",
       "rows": [
        [
         "0",
         "A001",
         "Lion"
        ],
        [
         "1",
         "A002",
         "Lion"
        ],
        [
         "2",
         "A003",
         "Zebra"
        ],
        [
         "3",
         "A004",
         "Elephant"
        ]
       ],
       "shape": {
        "columns": 2,
        "rows": 4
       }
      },
      "text/html": [
       "<div>\n",
       "<style scoped>\n",
       "    .dataframe tbody tr th:only-of-type {\n",
       "        vertical-align: middle;\n",
       "    }\n",
       "\n",
       "    .dataframe tbody tr th {\n",
       "        vertical-align: top;\n",
       "    }\n",
       "\n",
       "    .dataframe thead th {\n",
       "        text-align: right;\n",
       "    }\n",
       "</style>\n",
       "<table border=\"1\" class=\"dataframe\">\n",
       "  <thead>\n",
       "    <tr style=\"text-align: right;\">\n",
       "      <th></th>\n",
       "      <th>Animal</th>\n",
       "      <th>Species</th>\n",
       "    </tr>\n",
       "  </thead>\n",
       "  <tbody>\n",
       "    <tr>\n",
       "      <th>0</th>\n",
       "      <td>A001</td>\n",
       "      <td>Lion</td>\n",
       "    </tr>\n",
       "    <tr>\n",
       "      <th>1</th>\n",
       "      <td>A002</td>\n",
       "      <td>Lion</td>\n",
       "    </tr>\n",
       "    <tr>\n",
       "      <th>2</th>\n",
       "      <td>A003</td>\n",
       "      <td>Zebra</td>\n",
       "    </tr>\n",
       "    <tr>\n",
       "      <th>3</th>\n",
       "      <td>A004</td>\n",
       "      <td>Elephant</td>\n",
       "    </tr>\n",
       "  </tbody>\n",
       "</table>\n",
       "</div>"
      ],
      "text/plain": [
       "  Animal   Species\n",
       "0   A001      Lion\n",
       "1   A002      Lion\n",
       "2   A003     Zebra\n",
       "3   A004  Elephant"
      ]
     },
     "metadata": {},
     "output_type": "display_data"
    },
    {
     "name": "stdout",
     "output_type": "stream",
     "text": [
      "Yearly observations:\n"
     ]
    },
    {
     "data": {
      "application/vnd.microsoft.datawrangler.viewer.v0+json": {
       "columns": [
        {
         "name": "index",
         "rawType": "int64",
         "type": "integer"
        },
        {
         "name": "Animal",
         "rawType": "object",
         "type": "string"
        },
        {
         "name": "Year",
         "rawType": "int64",
         "type": "integer"
        },
        {
         "name": "Observations",
         "rawType": "int64",
         "type": "integer"
        }
       ],
       "conversionMethod": "pd.DataFrame",
       "ref": "9e7941b0-40a9-4c69-869a-456ab7f740e4",
       "rows": [
        [
         "0",
         "A001",
         "2020",
         "5"
        ],
        [
         "1",
         "A001",
         "2021",
         "3"
        ],
        [
         "2",
         "A002",
         "2020",
         "2"
        ],
        [
         "3",
         "A003",
         "2020",
         "4"
        ],
        [
         "4",
         "A003",
         "2021",
         "7"
        ],
        [
         "5",
         "A004",
         "2021",
         "1"
        ]
       ],
       "shape": {
        "columns": 3,
        "rows": 6
       }
      },
      "text/html": [
       "<div>\n",
       "<style scoped>\n",
       "    .dataframe tbody tr th:only-of-type {\n",
       "        vertical-align: middle;\n",
       "    }\n",
       "\n",
       "    .dataframe tbody tr th {\n",
       "        vertical-align: top;\n",
       "    }\n",
       "\n",
       "    .dataframe thead th {\n",
       "        text-align: right;\n",
       "    }\n",
       "</style>\n",
       "<table border=\"1\" class=\"dataframe\">\n",
       "  <thead>\n",
       "    <tr style=\"text-align: right;\">\n",
       "      <th></th>\n",
       "      <th>Animal</th>\n",
       "      <th>Year</th>\n",
       "      <th>Observations</th>\n",
       "    </tr>\n",
       "  </thead>\n",
       "  <tbody>\n",
       "    <tr>\n",
       "      <th>0</th>\n",
       "      <td>A001</td>\n",
       "      <td>2020</td>\n",
       "      <td>5</td>\n",
       "    </tr>\n",
       "    <tr>\n",
       "      <th>1</th>\n",
       "      <td>A001</td>\n",
       "      <td>2021</td>\n",
       "      <td>3</td>\n",
       "    </tr>\n",
       "    <tr>\n",
       "      <th>2</th>\n",
       "      <td>A002</td>\n",
       "      <td>2020</td>\n",
       "      <td>2</td>\n",
       "    </tr>\n",
       "    <tr>\n",
       "      <th>3</th>\n",
       "      <td>A003</td>\n",
       "      <td>2020</td>\n",
       "      <td>4</td>\n",
       "    </tr>\n",
       "    <tr>\n",
       "      <th>4</th>\n",
       "      <td>A003</td>\n",
       "      <td>2021</td>\n",
       "      <td>7</td>\n",
       "    </tr>\n",
       "    <tr>\n",
       "      <th>5</th>\n",
       "      <td>A004</td>\n",
       "      <td>2021</td>\n",
       "      <td>1</td>\n",
       "    </tr>\n",
       "  </tbody>\n",
       "</table>\n",
       "</div>"
      ],
      "text/plain": [
       "  Animal  Year  Observations\n",
       "0   A001  2020             5\n",
       "1   A001  2021             3\n",
       "2   A002  2020             2\n",
       "3   A003  2020             4\n",
       "4   A003  2021             7\n",
       "5   A004  2021             1"
      ]
     },
     "metadata": {},
     "output_type": "display_data"
    },
    {
     "name": "stdout",
     "output_type": "stream",
     "text": [
      "\n",
      "Merged DataFrame:\n"
     ]
    },
    {
     "data": {
      "application/vnd.microsoft.datawrangler.viewer.v0+json": {
       "columns": [
        {
         "name": "index",
         "rawType": "int64",
         "type": "integer"
        },
        {
         "name": "Animal",
         "rawType": "object",
         "type": "string"
        },
        {
         "name": "Species",
         "rawType": "object",
         "type": "string"
        },
        {
         "name": "Year",
         "rawType": "int64",
         "type": "integer"
        },
        {
         "name": "Observations",
         "rawType": "int64",
         "type": "integer"
        }
       ],
       "conversionMethod": "pd.DataFrame",
       "ref": "96a0dce7-daf4-4be4-ac70-e475b754ac1f",
       "rows": [
        [
         "0",
         "A001",
         "Lion",
         "2020",
         "5"
        ],
        [
         "1",
         "A001",
         "Lion",
         "2021",
         "3"
        ],
        [
         "2",
         "A002",
         "Lion",
         "2020",
         "2"
        ],
        [
         "3",
         "A003",
         "Zebra",
         "2020",
         "4"
        ],
        [
         "4",
         "A003",
         "Zebra",
         "2021",
         "7"
        ],
        [
         "5",
         "A004",
         "Elephant",
         "2021",
         "1"
        ]
       ],
       "shape": {
        "columns": 4,
        "rows": 6
       }
      },
      "text/html": [
       "<div>\n",
       "<style scoped>\n",
       "    .dataframe tbody tr th:only-of-type {\n",
       "        vertical-align: middle;\n",
       "    }\n",
       "\n",
       "    .dataframe tbody tr th {\n",
       "        vertical-align: top;\n",
       "    }\n",
       "\n",
       "    .dataframe thead th {\n",
       "        text-align: right;\n",
       "    }\n",
       "</style>\n",
       "<table border=\"1\" class=\"dataframe\">\n",
       "  <thead>\n",
       "    <tr style=\"text-align: right;\">\n",
       "      <th></th>\n",
       "      <th>Animal</th>\n",
       "      <th>Species</th>\n",
       "      <th>Year</th>\n",
       "      <th>Observations</th>\n",
       "    </tr>\n",
       "  </thead>\n",
       "  <tbody>\n",
       "    <tr>\n",
       "      <th>0</th>\n",
       "      <td>A001</td>\n",
       "      <td>Lion</td>\n",
       "      <td>2020</td>\n",
       "      <td>5</td>\n",
       "    </tr>\n",
       "    <tr>\n",
       "      <th>1</th>\n",
       "      <td>A001</td>\n",
       "      <td>Lion</td>\n",
       "      <td>2021</td>\n",
       "      <td>3</td>\n",
       "    </tr>\n",
       "    <tr>\n",
       "      <th>2</th>\n",
       "      <td>A002</td>\n",
       "      <td>Lion</td>\n",
       "      <td>2020</td>\n",
       "      <td>2</td>\n",
       "    </tr>\n",
       "    <tr>\n",
       "      <th>3</th>\n",
       "      <td>A003</td>\n",
       "      <td>Zebra</td>\n",
       "      <td>2020</td>\n",
       "      <td>4</td>\n",
       "    </tr>\n",
       "    <tr>\n",
       "      <th>4</th>\n",
       "      <td>A003</td>\n",
       "      <td>Zebra</td>\n",
       "      <td>2021</td>\n",
       "      <td>7</td>\n",
       "    </tr>\n",
       "    <tr>\n",
       "      <th>5</th>\n",
       "      <td>A004</td>\n",
       "      <td>Elephant</td>\n",
       "      <td>2021</td>\n",
       "      <td>1</td>\n",
       "    </tr>\n",
       "  </tbody>\n",
       "</table>\n",
       "</div>"
      ],
      "text/plain": [
       "  Animal   Species  Year  Observations\n",
       "0   A001      Lion  2020             5\n",
       "1   A001      Lion  2021             3\n",
       "2   A002      Lion  2020             2\n",
       "3   A003     Zebra  2020             4\n",
       "4   A003     Zebra  2021             7\n",
       "5   A004  Elephant  2021             1"
      ]
     },
     "metadata": {},
     "output_type": "display_data"
    },
    {
     "name": "stdout",
     "output_type": "stream",
     "text": [
      "\n",
      "Total Observations by Species and Year (GroupBy result):\n"
     ]
    },
    {
     "data": {
      "text/plain": [
       "Species   Year\n",
       "Elephant  2021    1\n",
       "Lion      2020    7\n",
       "          2021    3\n",
       "Zebra     2020    4\n",
       "          2021    7\n",
       "Name: Observations, dtype: int64"
      ]
     },
     "metadata": {},
     "output_type": "display_data"
    },
    {
     "name": "stdout",
     "output_type": "stream",
     "text": [
      "\n",
      "After resetting index (Species, Year are columns):\n"
     ]
    },
    {
     "data": {
      "application/vnd.microsoft.datawrangler.viewer.v0+json": {
       "columns": [
        {
         "name": "index",
         "rawType": "int64",
         "type": "integer"
        },
        {
         "name": "Species",
         "rawType": "object",
         "type": "string"
        },
        {
         "name": "Year",
         "rawType": "int64",
         "type": "integer"
        },
        {
         "name": "Observations",
         "rawType": "int64",
         "type": "integer"
        }
       ],
       "conversionMethod": "pd.DataFrame",
       "ref": "f756df86-b5bc-447c-99f4-35a036a2ec0b",
       "rows": [
        [
         "0",
         "Elephant",
         "2021",
         "1"
        ],
        [
         "1",
         "Lion",
         "2020",
         "7"
        ],
        [
         "2",
         "Lion",
         "2021",
         "3"
        ],
        [
         "3",
         "Zebra",
         "2020",
         "4"
        ],
        [
         "4",
         "Zebra",
         "2021",
         "7"
        ]
       ],
       "shape": {
        "columns": 3,
        "rows": 5
       }
      },
      "text/html": [
       "<div>\n",
       "<style scoped>\n",
       "    .dataframe tbody tr th:only-of-type {\n",
       "        vertical-align: middle;\n",
       "    }\n",
       "\n",
       "    .dataframe tbody tr th {\n",
       "        vertical-align: top;\n",
       "    }\n",
       "\n",
       "    .dataframe thead th {\n",
       "        text-align: right;\n",
       "    }\n",
       "</style>\n",
       "<table border=\"1\" class=\"dataframe\">\n",
       "  <thead>\n",
       "    <tr style=\"text-align: right;\">\n",
       "      <th></th>\n",
       "      <th>Species</th>\n",
       "      <th>Year</th>\n",
       "      <th>Observations</th>\n",
       "    </tr>\n",
       "  </thead>\n",
       "  <tbody>\n",
       "    <tr>\n",
       "      <th>0</th>\n",
       "      <td>Elephant</td>\n",
       "      <td>2021</td>\n",
       "      <td>1</td>\n",
       "    </tr>\n",
       "    <tr>\n",
       "      <th>1</th>\n",
       "      <td>Lion</td>\n",
       "      <td>2020</td>\n",
       "      <td>7</td>\n",
       "    </tr>\n",
       "    <tr>\n",
       "      <th>2</th>\n",
       "      <td>Lion</td>\n",
       "      <td>2021</td>\n",
       "      <td>3</td>\n",
       "    </tr>\n",
       "    <tr>\n",
       "      <th>3</th>\n",
       "      <td>Zebra</td>\n",
       "      <td>2020</td>\n",
       "      <td>4</td>\n",
       "    </tr>\n",
       "    <tr>\n",
       "      <th>4</th>\n",
       "      <td>Zebra</td>\n",
       "      <td>2021</td>\n",
       "      <td>7</td>\n",
       "    </tr>\n",
       "  </tbody>\n",
       "</table>\n",
       "</div>"
      ],
      "text/plain": [
       "    Species  Year  Observations\n",
       "0  Elephant  2021             1\n",
       "1      Lion  2020             7\n",
       "2      Lion  2021             3\n",
       "3     Zebra  2020             4\n",
       "4     Zebra  2021             7"
      ]
     },
     "metadata": {},
     "output_type": "display_data"
    },
    {
     "name": "stdout",
     "output_type": "stream",
     "text": [
      "\n",
      "Pivoted table (Species x Year):\n"
     ]
    },
    {
     "data": {
      "application/vnd.microsoft.datawrangler.viewer.v0+json": {
       "columns": [
        {
         "name": "Species",
         "rawType": "object",
         "type": "string"
        },
        {
         "name": "2020",
         "rawType": "float64",
         "type": "float"
        },
        {
         "name": "2021",
         "rawType": "float64",
         "type": "float"
        }
       ],
       "conversionMethod": "pd.DataFrame",
       "ref": "8c273bdd-2b5e-4996-9535-e87886dbc3d3",
       "rows": [
        [
         "Elephant",
         "0.0",
         "1.0"
        ],
        [
         "Lion",
         "7.0",
         "3.0"
        ],
        [
         "Zebra",
         "4.0",
         "7.0"
        ]
       ],
       "shape": {
        "columns": 2,
        "rows": 3
       }
      },
      "text/html": [
       "<div>\n",
       "<style scoped>\n",
       "    .dataframe tbody tr th:only-of-type {\n",
       "        vertical-align: middle;\n",
       "    }\n",
       "\n",
       "    .dataframe tbody tr th {\n",
       "        vertical-align: top;\n",
       "    }\n",
       "\n",
       "    .dataframe thead th {\n",
       "        text-align: right;\n",
       "    }\n",
       "</style>\n",
       "<table border=\"1\" class=\"dataframe\">\n",
       "  <thead>\n",
       "    <tr style=\"text-align: right;\">\n",
       "      <th>Year</th>\n",
       "      <th>2020</th>\n",
       "      <th>2021</th>\n",
       "    </tr>\n",
       "    <tr>\n",
       "      <th>Species</th>\n",
       "      <th></th>\n",
       "      <th></th>\n",
       "    </tr>\n",
       "  </thead>\n",
       "  <tbody>\n",
       "    <tr>\n",
       "      <th>Elephant</th>\n",
       "      <td>0.0</td>\n",
       "      <td>1.0</td>\n",
       "    </tr>\n",
       "    <tr>\n",
       "      <th>Lion</th>\n",
       "      <td>7.0</td>\n",
       "      <td>3.0</td>\n",
       "    </tr>\n",
       "    <tr>\n",
       "      <th>Zebra</th>\n",
       "      <td>4.0</td>\n",
       "      <td>7.0</td>\n",
       "    </tr>\n",
       "  </tbody>\n",
       "</table>\n",
       "</div>"
      ],
      "text/plain": [
       "Year      2020  2021\n",
       "Species             \n",
       "Elephant   0.0   1.0\n",
       "Lion       7.0   3.0\n",
       "Zebra      4.0   7.0"
      ]
     },
     "metadata": {},
     "output_type": "display_data"
    },
    {
     "name": "stdout",
     "output_type": "stream",
     "text": [
      "\n",
      "Pivot table (one-step) result, should match the above:\n"
     ]
    },
    {
     "data": {
      "application/vnd.microsoft.datawrangler.viewer.v0+json": {
       "columns": [
        {
         "name": "Species",
         "rawType": "object",
         "type": "string"
        },
        {
         "name": "2020",
         "rawType": "int64",
         "type": "integer"
        },
        {
         "name": "2021",
         "rawType": "int64",
         "type": "integer"
        }
       ],
       "conversionMethod": "pd.DataFrame",
       "ref": "e45e4b50-6313-4e49-940e-dcde16f6c6c2",
       "rows": [
        [
         "Elephant",
         "0",
         "1"
        ],
        [
         "Lion",
         "7",
         "3"
        ],
        [
         "Zebra",
         "4",
         "7"
        ]
       ],
       "shape": {
        "columns": 2,
        "rows": 3
       }
      },
      "text/html": [
       "<div>\n",
       "<style scoped>\n",
       "    .dataframe tbody tr th:only-of-type {\n",
       "        vertical-align: middle;\n",
       "    }\n",
       "\n",
       "    .dataframe tbody tr th {\n",
       "        vertical-align: top;\n",
       "    }\n",
       "\n",
       "    .dataframe thead th {\n",
       "        text-align: right;\n",
       "    }\n",
       "</style>\n",
       "<table border=\"1\" class=\"dataframe\">\n",
       "  <thead>\n",
       "    <tr style=\"text-align: right;\">\n",
       "      <th>Year</th>\n",
       "      <th>2020</th>\n",
       "      <th>2021</th>\n",
       "    </tr>\n",
       "    <tr>\n",
       "      <th>Species</th>\n",
       "      <th></th>\n",
       "      <th></th>\n",
       "    </tr>\n",
       "  </thead>\n",
       "  <tbody>\n",
       "    <tr>\n",
       "      <th>Elephant</th>\n",
       "      <td>0</td>\n",
       "      <td>1</td>\n",
       "    </tr>\n",
       "    <tr>\n",
       "      <th>Lion</th>\n",
       "      <td>7</td>\n",
       "      <td>3</td>\n",
       "    </tr>\n",
       "    <tr>\n",
       "      <th>Zebra</th>\n",
       "      <td>4</td>\n",
       "      <td>7</td>\n",
       "    </tr>\n",
       "  </tbody>\n",
       "</table>\n",
       "</div>"
      ],
      "text/plain": [
       "Year      2020  2021\n",
       "Species             \n",
       "Elephant     0     1\n",
       "Lion         7     3\n",
       "Zebra        4     7"
      ]
     },
     "metadata": {},
     "output_type": "display_data"
    }
   ],
   "source": [
    "# Challenge 1 Data\n",
    "df_info = pd.DataFrame({\n",
    "    'Animal': ['A001', 'A002', 'A003', 'A004'],\n",
    "    'Species': ['Lion', 'Lion', 'Zebra', 'Elephant']\n",
    "})\n",
    "df_obs = pd.DataFrame({\n",
    "    'Animal': ['A001', 'A001', 'A002', 'A003', 'A003', 'A004'],\n",
    "    'Year':   [2020,   2021,   2020,   2020,   2021,   2021],\n",
    "    'Observations': [5, 3, 2, 4, 7, 1]\n",
    "})\n",
    "print(\"Animal info:\")\n",
    "display(df_info)\n",
    "print(\"Yearly observations:\")\n",
    "display(df_obs)\n",
    "\n",
    "# 1. Merge the data on 'Animal'\n",
    "df_merged = pd.merge(df_info, df_obs, on='Animal', how='inner')\n",
    "print(\"\\nMerged DataFrame:\")\n",
    "display(df_merged)\n",
    "\n",
    "# 2. Group by Species and Year, summing the observations\n",
    "species_year_grouped = df_merged.groupby(['Species', 'Year'])['Observations'].sum()\n",
    "print(\"\\nTotal Observations by Species and Year (GroupBy result):\")\n",
    "display(species_year_grouped)\n",
    "\n",
    "# (Optional) reset index to see it clearly as columns\n",
    "species_year_df = species_year_grouped.reset_index()\n",
    "print(\"\\nAfter resetting index (Species, Year are columns):\")\n",
    "display(species_year_df)\n",
    "\n",
    "# 3. Pivot the grouped data so that Species are index and Year are columns\n",
    "species_year_pivot = species_year_df.pivot(index='Species', columns='Year', values='Observations').fillna(0)\n",
    "print(\"\\nPivoted table (Species x Year):\")\n",
    "display(species_year_pivot)\n",
    "\n",
    "# 4. Alternatively, one-step pivot_table (for verification)\n",
    "species_year_pivot2 = df_merged.pivot_table(index='Species', columns='Year', values='Observations',\n",
    "                                           aggfunc='sum', fill_value=0)\n",
    "print(\"\\nPivot table (one-step) result, should match the above:\")\n",
    "display(species_year_pivot2)\n"
   ]
  },
  {
   "cell_type": "code",
   "execution_count": null,
   "metadata": {},
   "outputs": [],
   "source": [
    "\n",
    "# 2. Group by Species and Year, summing the observations\n",
    "species_year_grouped = df_merged.groupby(['Species', 'Year'])['Observations'].sum()\n",
    "print(\"\\nTotal Observations by Species and Year (GroupBy result):\")\n",
    "display(species_year_grouped)\n",
    "\n",
    "# (Optional) reset index to see it clearly as columns\n",
    "species_year_df = species_year_grouped.reset_index()\n",
    "print(\"\\nAfter resetting index (Species, Year are columns):\")\n",
    "display(species_year_df)\n",
    "\n",
    "# 3. Pivot the grouped data so that Species are index and Year are columns\n",
    "species_year_pivot = species_year_df.pivot(index='Species', columns='Year', values='Observations').fillna(0)\n",
    "print(\"\\nPivoted table (Species x Year):\")\n",
    "display(species_year_pivot)\n",
    "\n",
    "# 4. Alternatively, one-step pivot_table (for verification)\n",
    "species_year_pivot2 = df_merged.pivot_table(index='Species', columns='Year', values='Observations',\n",
    "                                           aggfunc='sum', fill_value=0)\n",
    "print(\"\\nPivot table (one-step) result, should match the above:\")\n",
    "display(species_year_pivot2)\n"
   ]
  },
  {
   "cell_type": "markdown",
   "metadata": {},
   "source": [
    "**Expected outcome:**\n",
    "- The merged DataFrame (`df_merged`) should contain each observation entry with its species.\n",
    "- The groupby result (`species_year_grouped`) should show totals like: Elephant 2020 = 0 (none), Elephant 2021 = 1, Lion 2020 = 7 (A001 5 + A002 2), Lion 2021 = 3, Zebra 2020 = 4, Zebra 2021 = 7.\n",
    "- The pivoted table will have Species as rows (Elephant, Lion, Zebra) and columns for Year 2020, 2021 with those totals. For example, Lion row would be [2020: 7, 2021: 3], Zebra [2020:4, 2021:7], Elephant [2020:0, 2021:1].\n",
    "\n",
    "Great job! Now you have combined merging, grouping, and pivoting to derive a summary table.\n",
    "\n",
    "## Challenge 2: Writing Efficient Pandas Code\n",
    "\n",
    "In this challenge, you'll refactor some inefficient code into an idiomatic pandas solution.\n",
    "\n",
    "**Scenario:** We have a DataFrame of individuals with their weight (in kilograms) and height (in meters). We want to compute a new column for Body Mass Index (BMI = weight / height^2).\n",
    "\n",
    "The initial code is written in a slow way using `.apply`. Your task is to rewrite it without using `.apply` or any explicit loops, i.e., using vectorized operations.\n",
    "\n",
    "**Steps:**\n",
    "1. Run the provided code to see the result and confirm the correct BMI calculation.\n",
    "2. Implement a vectorized solution to calculate the BMI and verify it matches the apply method.\n"
   ]
  },
  {
   "cell_type": "code",
   "execution_count": 21,
   "metadata": {},
   "outputs": [
    {
     "name": "stdout",
     "output_type": "stream",
     "text": [
      "Health DataFrame:\n"
     ]
    },
    {
     "data": {
      "application/vnd.microsoft.datawrangler.viewer.v0+json": {
       "columns": [
        {
         "name": "index",
         "rawType": "int64",
         "type": "integer"
        },
        {
         "name": "Weight_kg",
         "rawType": "int64",
         "type": "integer"
        },
        {
         "name": "Height_m",
         "rawType": "float64",
         "type": "float"
        }
       ],
       "conversionMethod": "pd.DataFrame",
       "ref": "f5ad04c9-fc90-4702-aa31-998ad6fa85bc",
       "rows": [
        [
         "0",
         "70",
         "1.75"
        ],
        [
         "1",
         "80",
         "1.8"
        ],
        [
         "2",
         "60",
         "1.6"
        ],
        [
         "3",
         "90",
         "1.9"
        ]
       ],
       "shape": {
        "columns": 2,
        "rows": 4
       }
      },
      "text/html": [
       "<div>\n",
       "<style scoped>\n",
       "    .dataframe tbody tr th:only-of-type {\n",
       "        vertical-align: middle;\n",
       "    }\n",
       "\n",
       "    .dataframe tbody tr th {\n",
       "        vertical-align: top;\n",
       "    }\n",
       "\n",
       "    .dataframe thead th {\n",
       "        text-align: right;\n",
       "    }\n",
       "</style>\n",
       "<table border=\"1\" class=\"dataframe\">\n",
       "  <thead>\n",
       "    <tr style=\"text-align: right;\">\n",
       "      <th></th>\n",
       "      <th>Weight_kg</th>\n",
       "      <th>Height_m</th>\n",
       "    </tr>\n",
       "  </thead>\n",
       "  <tbody>\n",
       "    <tr>\n",
       "      <th>0</th>\n",
       "      <td>70</td>\n",
       "      <td>1.75</td>\n",
       "    </tr>\n",
       "    <tr>\n",
       "      <th>1</th>\n",
       "      <td>80</td>\n",
       "      <td>1.80</td>\n",
       "    </tr>\n",
       "    <tr>\n",
       "      <th>2</th>\n",
       "      <td>60</td>\n",
       "      <td>1.60</td>\n",
       "    </tr>\n",
       "    <tr>\n",
       "      <th>3</th>\n",
       "      <td>90</td>\n",
       "      <td>1.90</td>\n",
       "    </tr>\n",
       "  </tbody>\n",
       "</table>\n",
       "</div>"
      ],
      "text/plain": [
       "   Weight_kg  Height_m\n",
       "0         70      1.75\n",
       "1         80      1.80\n",
       "2         60      1.60\n",
       "3         90      1.90"
      ]
     },
     "metadata": {},
     "output_type": "display_data"
    },
    {
     "name": "stdout",
     "output_type": "stream",
     "text": [
      "\n",
      "After apply (BMI_apply):\n"
     ]
    },
    {
     "data": {
      "application/vnd.microsoft.datawrangler.viewer.v0+json": {
       "columns": [
        {
         "name": "index",
         "rawType": "int64",
         "type": "integer"
        },
        {
         "name": "Weight_kg",
         "rawType": "int64",
         "type": "integer"
        },
        {
         "name": "Height_m",
         "rawType": "float64",
         "type": "float"
        },
        {
         "name": "BMI_apply",
         "rawType": "float64",
         "type": "float"
        }
       ],
       "conversionMethod": "pd.DataFrame",
       "ref": "4112207f-8031-422b-bddb-efc3d0fca1c2",
       "rows": [
        [
         "0",
         "70",
         "1.75",
         "22.857142857142858"
        ],
        [
         "1",
         "80",
         "1.8",
         "24.691358024691358"
        ],
        [
         "2",
         "60",
         "1.6",
         "23.437499999999996"
        ],
        [
         "3",
         "90",
         "1.9",
         "24.930747922437675"
        ]
       ],
       "shape": {
        "columns": 3,
        "rows": 4
       }
      },
      "text/html": [
       "<div>\n",
       "<style scoped>\n",
       "    .dataframe tbody tr th:only-of-type {\n",
       "        vertical-align: middle;\n",
       "    }\n",
       "\n",
       "    .dataframe tbody tr th {\n",
       "        vertical-align: top;\n",
       "    }\n",
       "\n",
       "    .dataframe thead th {\n",
       "        text-align: right;\n",
       "    }\n",
       "</style>\n",
       "<table border=\"1\" class=\"dataframe\">\n",
       "  <thead>\n",
       "    <tr style=\"text-align: right;\">\n",
       "      <th></th>\n",
       "      <th>Weight_kg</th>\n",
       "      <th>Height_m</th>\n",
       "      <th>BMI_apply</th>\n",
       "    </tr>\n",
       "  </thead>\n",
       "  <tbody>\n",
       "    <tr>\n",
       "      <th>0</th>\n",
       "      <td>70</td>\n",
       "      <td>1.75</td>\n",
       "      <td>22.857143</td>\n",
       "    </tr>\n",
       "    <tr>\n",
       "      <th>1</th>\n",
       "      <td>80</td>\n",
       "      <td>1.80</td>\n",
       "      <td>24.691358</td>\n",
       "    </tr>\n",
       "    <tr>\n",
       "      <th>2</th>\n",
       "      <td>60</td>\n",
       "      <td>1.60</td>\n",
       "      <td>23.437500</td>\n",
       "    </tr>\n",
       "    <tr>\n",
       "      <th>3</th>\n",
       "      <td>90</td>\n",
       "      <td>1.90</td>\n",
       "      <td>24.930748</td>\n",
       "    </tr>\n",
       "  </tbody>\n",
       "</table>\n",
       "</div>"
      ],
      "text/plain": [
       "   Weight_kg  Height_m  BMI_apply\n",
       "0         70      1.75  22.857143\n",
       "1         80      1.80  24.691358\n",
       "2         60      1.60  23.437500\n",
       "3         90      1.90  24.930748"
      ]
     },
     "metadata": {},
     "output_type": "display_data"
    },
    {
     "name": "stdout",
     "output_type": "stream",
     "text": [
      "\n",
      "After vectorized computation (BMI_vectorized):\n"
     ]
    },
    {
     "data": {
      "application/vnd.microsoft.datawrangler.viewer.v0+json": {
       "columns": [
        {
         "name": "index",
         "rawType": "int64",
         "type": "integer"
        },
        {
         "name": "Weight_kg",
         "rawType": "int64",
         "type": "integer"
        },
        {
         "name": "Height_m",
         "rawType": "float64",
         "type": "float"
        },
        {
         "name": "BMI_apply",
         "rawType": "float64",
         "type": "float"
        },
        {
         "name": "BMI_vectorized",
         "rawType": "float64",
         "type": "float"
        }
       ],
       "conversionMethod": "pd.DataFrame",
       "ref": "8c7d066f-57f4-401b-b9a7-13838ea858b8",
       "rows": [
        [
         "0",
         "70",
         "1.75",
         "22.857142857142858",
         "22.857142857142858"
        ],
        [
         "1",
         "80",
         "1.8",
         "24.691358024691358",
         "24.691358024691358"
        ],
        [
         "2",
         "60",
         "1.6",
         "23.437499999999996",
         "23.437499999999996"
        ],
        [
         "3",
         "90",
         "1.9",
         "24.930747922437675",
         "24.930747922437675"
        ]
       ],
       "shape": {
        "columns": 4,
        "rows": 4
       }
      },
      "text/html": [
       "<div>\n",
       "<style scoped>\n",
       "    .dataframe tbody tr th:only-of-type {\n",
       "        vertical-align: middle;\n",
       "    }\n",
       "\n",
       "    .dataframe tbody tr th {\n",
       "        vertical-align: top;\n",
       "    }\n",
       "\n",
       "    .dataframe thead th {\n",
       "        text-align: right;\n",
       "    }\n",
       "</style>\n",
       "<table border=\"1\" class=\"dataframe\">\n",
       "  <thead>\n",
       "    <tr style=\"text-align: right;\">\n",
       "      <th></th>\n",
       "      <th>Weight_kg</th>\n",
       "      <th>Height_m</th>\n",
       "      <th>BMI_apply</th>\n",
       "      <th>BMI_vectorized</th>\n",
       "    </tr>\n",
       "  </thead>\n",
       "  <tbody>\n",
       "    <tr>\n",
       "      <th>0</th>\n",
       "      <td>70</td>\n",
       "      <td>1.75</td>\n",
       "      <td>22.857143</td>\n",
       "      <td>22.857143</td>\n",
       "    </tr>\n",
       "    <tr>\n",
       "      <th>1</th>\n",
       "      <td>80</td>\n",
       "      <td>1.80</td>\n",
       "      <td>24.691358</td>\n",
       "      <td>24.691358</td>\n",
       "    </tr>\n",
       "    <tr>\n",
       "      <th>2</th>\n",
       "      <td>60</td>\n",
       "      <td>1.60</td>\n",
       "      <td>23.437500</td>\n",
       "      <td>23.437500</td>\n",
       "    </tr>\n",
       "    <tr>\n",
       "      <th>3</th>\n",
       "      <td>90</td>\n",
       "      <td>1.90</td>\n",
       "      <td>24.930748</td>\n",
       "      <td>24.930748</td>\n",
       "    </tr>\n",
       "  </tbody>\n",
       "</table>\n",
       "</div>"
      ],
      "text/plain": [
       "   Weight_kg  Height_m  BMI_apply  BMI_vectorized\n",
       "0         70      1.75  22.857143       22.857143\n",
       "1         80      1.80  24.691358       24.691358\n",
       "2         60      1.60  23.437500       23.437500\n",
       "3         90      1.90  24.930748       24.930748"
      ]
     },
     "metadata": {},
     "output_type": "display_data"
    },
    {
     "name": "stdout",
     "output_type": "stream",
     "text": [
      "Difference between BMI_apply and BMI_vectorized:\n",
      "0    0.0\n",
      "1    0.0\n",
      "2    0.0\n",
      "3    0.0\n",
      "dtype: float64\n"
     ]
    }
   ],
   "source": [
    "# Challenge 2 Data\n",
    "df_health = pd.DataFrame({\n",
    "    'Weight_kg': [70, 80, 60, 90],   # weight of 4 individuals\n",
    "    'Height_m': [1.75, 1.8, 1.6, 1.9]  # height of 4 individuals\n",
    "})\n",
    "print(\"Health DataFrame:\")\n",
    "display(df_health)\n",
    "\n",
    "# Inefficient approach: using apply to compute BMI for each row\n",
    "df_health['BMI_apply'] = df_health.apply(lambda row: row['Weight_kg'] / (row['Height_m'] ** 2), axis=1)\n",
    "print(\"\\nAfter apply (BMI_apply):\")\n",
    "display(df_health)\n",
    "\n",
    "# 2. Efficient vectorized approach: compute BMI without apply (fill in this line)\n",
    "df_health['BMI_vectorized'] = df_health['Weight_kg'] / (df_health['Height_m'] ** 2)\n",
    "\n",
    "print(\"\\nAfter vectorized computation (BMI_vectorized):\")\n",
    "display(df_health)\n",
    "\n",
    "# Check that both BMI columns are the same\n",
    "print(\"Difference between BMI_apply and BMI_vectorized:\")\n",
    "print(df_health['BMI_apply'] - df_health['BMI_vectorized'])\n"
   ]
  },
  {
   "cell_type": "markdown",
   "metadata": {},
   "source": [
    "**Expected outcome:**\n",
    "- The `BMI_vectorized` column should match the `BMI_apply` column exactly for all rows.\n",
    "- The difference printed at the end should be all zeros (or very close to zero, considering floating-point precision).\n",
    "\n",
    "By replacing the apply with a direct arithmetic operation on columns, we've made the code shorter and much faster (imagine if this DataFrame had thousands of rows—the vectorized version would shine in comparison)."
   ]
  },
  {
   "cell_type": "markdown",
   "metadata": {},
   "source": [
    "## After workshop additions\n",
    "\n",
    "After the workshop I realized that some examples were still missing. Below is an example to directly compare with the Final challenge: How to calculate speed in a vectorial way efficiently. So we have a generator of artificial dataset (very similar to the one shared for Module8), and then examples on how to calculate some slightly more complex examples."
   ]
  },
  {
   "cell_type": "code",
   "execution_count": 4,
   "metadata": {},
   "outputs": [
    {
     "name": "stdout",
     "output_type": "stream",
     "text": [
      "    Exp  Time         x         y  Trial\n",
      "0     1  0.00  2.097732  0.875986      1\n",
      "1     1  0.01  0.779201  1.287465      1\n",
      "2     1  0.02  0.879223  2.351964      1\n",
      "3     1  0.03  0.882486  0.329577      1\n",
      "4     1  0.04  1.050083  1.484458      1\n",
      "5     1  0.05  1.464422  1.138246      1\n",
      "6     1  0.06  1.705584  1.315245      1\n",
      "7     1  0.07  0.566259  0.078917      1\n",
      "8     1  0.08  0.908349  0.834346      1\n",
      "9     1  0.09  1.058417  0.824615      1\n",
      "10    1  0.10  1.250015  1.168489      1\n",
      "11    1  0.11  0.515955  0.955114      1\n"
     ]
    }
   ],
   "source": [
    "import pandas as pd\n",
    "import numpy as np\n",
    "\n",
    "# Parameters\n",
    "n_experiments = 20 #for similar size as the real data, use 1200\n",
    "FPS=100\n",
    "trials_per_experiment = np.random.randint(low=1,\n",
    "                        high=4+1,\n",
    "                        size=n_experiments)\n",
    "   # e.g. Exp1 has 3 trials, Exp2 has 4, Exp3 has 2\n",
    "frames_per_trial = 60000                # number of time points per trial\n",
    "\n",
    "# Container for each trial’s DataFrame\n",
    "all_trials = []\n",
    "trial_counter = 1\n",
    "\n",
    "for exp_id, n_trials in zip(range(1, n_experiments + 1), trials_per_experiment):\n",
    "    for _ in range(n_trials):\n",
    "        # Time resets to 0 for each experiment\n",
    "        time = np.arange(frames_per_trial)/FPS\n",
    "        # Trial number runs cumulatively across experiments\n",
    "        exp = np.full(frames_per_trial, exp_id)\n",
    "        trial = np.full(frames_per_trial, trial_counter)\n",
    "        # Simulated x,y coordinates (replace with your own model or distribution)\n",
    "        x = np.random.normal(loc=trial, scale=0.5*exp_id, size=frames_per_trial)\n",
    "        y = np.random.normal(loc=trial, scale=0.5*exp_id, size=frames_per_trial)\n",
    "\n",
    "        \n",
    "        # Build a small DataFrame for this trial\n",
    "        df_trial = pd.DataFrame({\n",
    "            'Exp': exp,\n",
    "            'Time': time,\n",
    "            'x': x,\n",
    "            'y': y,\n",
    "            'Trial': trial\n",
    "        })\n",
    "        \n",
    "        all_trials.append(df_trial)\n",
    "        trial_counter += 1\n",
    "\n",
    "# Concatenate all trials into one DataFrame\n",
    "df = pd.concat(all_trials, ignore_index=True)\n",
    "\n",
    "# Show the first few rows\n",
    "print(df.head(12))\n",
    "df.to_parquet(\"Artificial.parquet\", engine=\"pyarrow\", compression=\"snappy\", index=False)\n"
   ]
  },
  {
   "cell_type": "markdown",
   "metadata": {},
   "source": [
    "### Calculating speed in a vectorial way and not polluting your data\n",
    "\n",
    "One could naively just calculate the speed by using a shift in the whole dataset, but that would mix the final and starting positions of different fish and different trials together. To avoid that we can use group by. Considering how our dataset was create above, grouping by only by trial would be sufficient, but for plotting it is interesting to already group it by Fish (Exp) as well."
   ]
  },
  {
   "cell_type": "code",
   "execution_count": 5,
   "metadata": {},
   "outputs": [
    {
     "data": {
      "image/png": "[encoded data removed]",
      "text/plain": [
       "<Figure size 800x600 with 1 Axes>"
      ]
     },
     "metadata": {},
     "output_type": "display_data"
    }
   ],
   "source": [
    "window=14\n",
    "FPS=100\n",
    "import matplotlib.pyplot as plt\n",
    "df['x_future'] = df.groupby(['Exp', 'Trial'])['x'].shift(-window)\n",
    "df['y_future'] = df.groupby(['Exp', 'Trial'])['y'].shift(-window)\n",
    "\n",
    "# Compute differences in positions (dx and dy)\n",
    "df['dx'] = df['x_future'] - df['x']\n",
    "df['dy'] = df['y_future'] - df['y']\n",
    "\n",
    "# Calculate the displacement vector magnitude.\n",
    "df['displacement'] = (df['dx']**2 + df['dy']**2)**0.5\n",
    "# Compute speed using the formula:\n",
    "df['speedNew'] = FPS*df['displacement'] / window\n",
    "\n",
    "\n",
    "groups = df.groupby('Exp')['speedNew']\n",
    "data = [grp.dropna().values for _, grp in groups]\n",
    "labels = [str(exp) for exp, _ in groups]\n",
    "\n",
    "# Plot\n",
    "plt.figure(figsize=(8, 6))\n",
    "plt.boxplot(data, tick_labels=labels)\n",
    "plt.xlabel('Experiment (Exp)')\n",
    "plt.ylabel('Speed')\n",
    "plt.title('Boxplot of Speed by Experiment')\n",
    "plt.show()\n"
   ]
  },
  {
   "cell_type": "markdown",
   "metadata": {},
   "source": [
    "Note that as per our definition the speed increases with the number of fish.\n",
    "\n",
    "Below we have a similar example to show how the average position of the fish is dependent on the trial number:"
   ]
  },
  {
   "cell_type": "code",
   "execution_count": 8,
   "metadata": {},
   "outputs": [
    {
     "data": {
      "image/png": "[encoded data removed]",
      "text/plain": [
       "<Figure size 1000x600 with 1 Axes>"
      ]
     },
     "metadata": {},
     "output_type": "display_data"
    }
   ],
   "source": [
    "# 1. Filter to only Exp 1 and Exp 4\n",
    "df_sub = df[df['Exp'].isin([1,10, 15])]\n",
    "\n",
    "# 2. Group by Exp and Trial, then collect the x‐positions\n",
    "grouped = df_sub.groupby(['Exp', 'Trial'])['x']\n",
    "\n",
    "# 3. Build the data and labels for the boxplot\n",
    "data   = [grp.dropna().values for _, grp in grouped]\n",
    "labels = [f\"Exp{exp}-Tr{trial}\" for (exp, trial), _ in grouped]\n",
    "\n",
    "# 4. Plot\n",
    "plt.figure(figsize=(10, 6))\n",
    "plt.boxplot(data, tick_labels=labels, showfliers=False)\n",
    "plt.xticks(rotation=45, ha='right')\n",
    "plt.xlabel('Experiment–Trial')\n",
    "plt.ylabel('x Position')\n",
    "plt.title('Distribution of x Positions by Exp & Trial')\n",
    "plt.tight_layout()\n",
    "plt.show()\n"
   ]
  }
 ],
 "metadata": {
  "kernelspec": {
   "display_name": "base",
   "language": "python",
   "name": "python3"
  },
  "language_info": {
   "codemirror_mode": {
    "name": "ipython",
    "version": 3
   },
   "file_extension": ".py",
   "mimetype": "text/x-python",
   "name": "python",
   "nbconvert_exporter": "python",
   "pygments_lexer": "ipython3",
   "version": "3.12.10"
  }
 },
 "nbformat": 4,
 "nbformat_minor": 2
}
