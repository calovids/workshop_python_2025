{
 "cells": [
  {
   "cell_type": "markdown",
   "metadata": {},
   "source": [
    "# NumPy for Scientific Computing\n",
    "\n",
    "- How to create and manipulate NumPy arrays.\n",
    "- Differences between Python lists and NumPy arrays.\n",
    "- Vectorized operations versus loops.\n",
    "- Best practices for high-performance code.\n",
    "\n",
    "Let's get started!\n"
   ]
  },
  {
   "cell_type": "markdown",
   "metadata": {},
   "source": [
    "## First, let's import NumPy and create some basic arrays."
   ]
  },
  {
   "cell_type": "code",
   "execution_count": 5,
   "metadata": {},
   "outputs": [
    {
     "name": "stdout",
     "output_type": "stream",
     "text": [
      "arr1 = [1 2 3 4]\n",
      "Shape of arr1: (4,)\n",
      "Data type of arr1: int64\n",
      "\n",
      "arr2 =\n",
      " [[1 2 3]\n",
      " [4 5 6]]\n",
      "Shape of arr2: (2, 3)\n",
      "Data type of arr2: int64\n",
      "\n",
      "arr3 (all zeros) =\n",
      " [[0. 0. 0.]\n",
      " [0. 0. 0.]]\n",
      "\n",
      "arr4 (even numbers 0-8) = [0 2 4 6 8]\n"
     ]
    }
   ],
   "source": [
    "import numpy as np\n",
    "\n",
    "# Create a 1D array (vector) from a Python list\n",
    "arr1 = np.array([1, 2, 3, 4])\n",
    "print(\"arr1 =\", arr1)\n",
    "print(\"Shape of arr1:\", arr1.shape)\n",
    "print(\"Data type of arr1:\", arr1.dtype)\n",
    "\n",
    "# Create a 2D array (matrix) from a list of lists\n",
    "arr2 = np.array([[1, 2, 3], \n",
    "                 [4, 5, 6]])\n",
    "print(\"\\narr2 =\\n\", arr2)\n",
    "print(\"Shape of arr2:\", arr2.shape)\n",
    "print(\"Data type of arr2:\", arr2.dtype)\n",
    "\n",
    "# Create an array of all zeros with a given shape\n",
    "arr3 = np.zeros((2, 3))\n",
    "print(\"\\narr3 (all zeros) =\\n\", arr3)\n",
    "\n",
    "# Create an array of evenly spaced values (like range) \n",
    "arr4 = np.arange(0, 10, 2)  # 0 to 8 with step 2\n",
    "print(\"\\narr4 (even numbers 0-8) =\", arr4)\n"
   ]
  },
  {
   "cell_type": "markdown",
   "metadata": {},
   "source": [
    "## Python lists and NumPy arrays might look similar, but they behave very differently for arithmetic operations."
   ]
  },
  {
   "cell_type": "code",
   "execution_count": 6,
   "metadata": {},
   "outputs": [
    {
     "name": "stdout",
     "output_type": "stream",
     "text": [
      "py_list * 2 = [1, 2, 3, 4, 1, 2, 3, 4]\n",
      "np_array * 2 = [2 4 6 8]\n",
      "py_list + py_list = [1, 2, 3, 4, 1, 2, 3, 4]\n",
      "np_array + np_array = [2 4 6 8]\n",
      "py_list + 3 raises an error: can only concatenate list (not \"int\") to list\n",
      "np_array + 3 = [4 5 6 7]\n"
     ]
    }
   ],
   "source": [
    "# Python list vs NumPy array operations\n",
    "py_list = [1, 2, 3, 4]\n",
    "np_array = np.array([1, 2, 3, 4])\n",
    "\n",
    "print(\"py_list * 2 =\", py_list * 2)      # List repetition\n",
    "print(\"np_array * 2 =\", np_array * 2)    # Element-wise multiplication\n",
    "\n",
    "print(\"py_list + py_list =\", py_list + py_list)   # List concatenation\n",
    "print(\"np_array + np_array =\", np_array + np_array)  # Element-wise addition\n",
    "\n",
    "# Note: Adding a scalar to a list is not allowed (it throws an error),\n",
    "# but adding a scalar to a NumPy array works via broadcasting:\n",
    "try:\n",
    "    result = py_list + 3\n",
    "except Exception as e:\n",
    "    print(\"py_list + 3 raises an error:\", e)\n",
    "print(\"np_array + 3 =\", np_array + 3)  # Adds 3 to each element of the array\n"
   ]
  },
  {
   "cell_type": "markdown",
   "metadata": {},
   "source": [
    "## NumPy provides many universal functions (ufuncs) that operate element-wise. We can also use broadcasting to work with arrays of different shapes."
   ]
  },
  {
   "cell_type": "code",
   "execution_count": 7,
   "metadata": {},
   "outputs": [
    {
     "name": "stdout",
     "output_type": "stream",
     "text": [
      "arr = [1 2 3 4 5]\n",
      "arr * 3 = [ 3  6  9 12 15]\n",
      "arr ** 2 = [ 1  4  9 16 25]\n",
      "np.sqrt(arr) = [1.         1.41421356 1.73205081 2.         2.23606798]\n",
      "sum of arr = 15\n",
      "mean of arr = 3.0\n",
      "\n",
      "matrix =\n",
      " [[1 2 3]\n",
      " [4 5 6]]\n",
      "Sum of all elements = 21\n",
      "Sum by columns = [5 7 9]\n",
      "Sum by rows = [ 6 15]\n"
     ]
    }
   ],
   "source": [
    "# Element-wise operations and math functions\n",
    "arr = np.array([1, 2, 3, 4, 5])\n",
    "print(\"arr =\", arr)\n",
    "print(\"arr * 3 =\", arr * 3)          # multiply each element by 3\n",
    "print(\"arr ** 2 =\", arr ** 2)        # square of each element (same as np.square(arr))\n",
    "print(\"np.sqrt(arr) =\", np.sqrt(arr))  # square root of each element\n",
    "\n",
    "# Aggregation functions\n",
    "print(\"sum of arr =\", np.sum(arr))      # total of all elements\n",
    "print(\"mean of arr =\", np.mean(arr))    # average of elements\n",
    "\n",
    "# Multi-dimensional array aggregation with axis\n",
    "matrix = np.array([[1, 2, 3],\n",
    "                   [4, 5, 6]])\n",
    "print(\"\\nmatrix =\\n\", matrix)\n",
    "print(\"Sum of all elements =\", np.sum(matrix))\n",
    "print(\"Sum by columns =\", np.sum(matrix, axis=0))  # sum of each column\n",
    "print(\"Sum by rows =\", np.sum(matrix, axis=1))     # sum of each row\n"
   ]
  },
  {
   "cell_type": "markdown",
   "metadata": {},
   "source": [
    "## Learn how to index and slice arrays:\n",
    "\n",
    "- Access individual elements in 1D and 2D arrays\n",
    "- Use slicing to extract subarrays\n",
    "- Apply boolean indexing to filter arrays\n",
    "- Understand the difference between a view and a copy\n",
    "\n",
    "Run the accompanying code cell to experiment with these techniques.\n"
   ]
  },
  {
   "cell_type": "code",
   "execution_count": 8,
   "metadata": {},
   "outputs": [
    {
     "name": "stdout",
     "output_type": "stream",
     "text": [
      "vec (shape (3,)): [10 20 30]\n",
      "mat (shape (4, 1)):\n",
      "[[1]\n",
      " [2]\n",
      " [3]\n",
      " [4]]\n",
      "result (shape (4, 3)):\n",
      "[[11 21 31]\n",
      " [12 22 32]\n",
      " [13 23 33]\n",
      " [14 24 34]]\n"
     ]
    }
   ],
   "source": [
    "# Broadcasting example: add a 1D array to each row of a 2D array\n",
    "vec = np.array([10, 20, 30])        # shape (3,)\n",
    "mat = np.array([[1], [2], [3], [4]])  # shape (4,1) - a column vector with 4 rows\n",
    "#but a better way to create a shape (4,1) is doing:\n",
    "mat = np.array([1, 2, 3, 4]).reshape(-1, 1)\n",
    "#the reshape command above is doing a tranformation to the array to make it a column vector, -1 means \"as many rows as needed\" and 1 means \"1 column\"\n",
    "result = mat + vec  # vec is broadcast to shape (4,3) to add to mat\n",
    "print(\"vec (shape {}): {}\".format(vec.shape, vec))\n",
    "print(\"mat (shape {}):\\n{}\".format(mat.shape, mat))\n",
    "print(\"result (shape {}):\\n{}\".format(result.shape, result))\n"
   ]
  },
  {
   "cell_type": "markdown",
   "metadata": {},
   "source": [
    "## Learn how to index and slice arrays:\n",
    "\n",
    "- Access individual elements in 1D and 2D arrays\n",
    "- Use slicing to extract subarrays\n",
    "- Apply boolean indexing to filter arrays\n",
    "- Understand the difference between a view and a copy\n",
    "\n",
    "Run the accompanying code cell to experiment with these techniques.\n"
   ]
  },
  {
   "cell_type": "code",
   "execution_count": null,
   "metadata": {},
   "outputs": [],
   "source": [
    "# 1D array indexing and slicing\n",
    "arr = np.array([10, 11, 12, 13, 14, 15])\n",
    "print(\"arr =\", arr)\n",
    "print(\"arr[0] =\", arr[0])      # first element\n",
    "print(\"arr[-1] =\", arr[-1])    # last element\n",
    "print(\"arr[2:5] =\", arr[2:5])  # slice from index 2 to 4 (inclusive)\n",
    "\n",
    "# Modify a slice (this will affect the original array!)\n",
    "sub_arr = arr[2:5]    # this is a view of arr\n",
    "sub_arr[:] = 99       # set all elements in the view to 99\n",
    "print(\"After modifying sub_arr, arr =\", arr)\n",
    "\n",
    "# If we need to preserve original, we should copy before modifying\n",
    "arr_copy = arr.copy()\n",
    "arr_copy[0:3] = [7, 7, 7]\n",
    "print(\"arr_copy after modification =\", arr_copy)\n",
    "print(\"Original arr remains =\", arr)\n",
    "\n",
    "# 2D array indexing\n",
    "mat = np.array([[5, 6, 7],\n",
    "                [8, 9, 10],\n",
    "                [11, 12, 13]])\n",
    "print(\"\\nmat =\\n\", mat)\n",
    "print(\"mat[0, 2] =\", mat[0, 2])     # element at first row, third column (7)\n",
    "print(\"mat[1] (2nd row) =\", mat[1]) # second row (index 1), as a 1D array\n",
    "print(\"mat[:, 1] =\", mat[:, 1])    # second column (all rows in col 1)\n",
    "print(\"mat[0:2, 1:3] =\\n\", mat[0:2, 1:3])  # submatrix: first 2 rows, cols 1-2\n",
    "\n",
    "# Boolean indexing (masking)\n",
    "vals = np.array([3, -1, 2, -4, 5, -6])\n",
    "print(\"\\nvals =\", vals)\n",
    "mask = vals < 0\n",
    "print(\"mask for vals < 0 ->\", mask)\n",
    "print(\"vals[mask] =\", vals[mask])   # filter only the negative values\n"
   ]
  },
  {
   "cell_type": "markdown",
   "metadata": {},
   "source": [
    "### We can use boolean indexing to modify elements that meet a condition\n",
    "\n",
    "For example, set all negative values to 0\n",
    "\n"
   ]
  },
  {
   "cell_type": "code",
   "execution_count": null,
   "metadata": {},
   "outputs": [],
   "source": [
    "#add a mask to modify the negative values of the array and then print\n",
    "print(vals)"
   ]
  },
  {
   "cell_type": "markdown",
   "metadata": {},
   "source": [
    "### Indexing cheat-sheet"
   ]
  },
  {
   "cell_type": "code",
   "execution_count": null,
   "metadata": {},
   "outputs": [],
   "source": [
    "# Most Useful Examples of NumPy Array Slicing\n",
    "import numpy as np\n",
    "\n",
    "# 1D Array\n",
    "arr1d = np.array([10, 11, 12, 13, 14, 15])\n",
    "print(\"1D array:\", arr1d)\n",
    "\n",
    "# --- BASIC SLICING ---\n",
    "print(\"\\n--- BASIC SLICING ---\")\n",
    "print(\"arr1d[0]:\", arr1d[0])           # first element\n",
    "print(\"arr1d[-1]:\", arr1d[-1])         # last element\n",
    "print(\"arr1d[1:4]:\", arr1d[1:4])       # slice from index 1 to 3\n",
    "print(\"arr1d[:3]:\", arr1d[:3])         # slice from start to index 2\n",
    "print(\"arr1d[3:]:\", arr1d[3:])         # slice from index 3 to the end\n",
    "print(\"arr1d[::2]:\", arr1d[::2])       # slice every 2 steps\n",
    "\n",
    "# 2D Array\n",
    "arr2d = np.array([\n",
    "    [ 1,  2,  3,  4],\n",
    "    [10, 20, 30, 40],\n",
    "    [11, 21, 31, 41],\n",
    "    [12, 22, 32, 42]\n",
    "])\n",
    "print(\"\\n2D array:\\n\", arr2d)\n",
    "\n",
    "# --- ROW & COLUMN SLICING ---\n",
    "print(\"\\n--- ROW & COLUMN SLICING ---\")\n",
    "print(\"arr2d[0, 0]:\", arr2d[0, 0])         # element at first row, first column\n",
    "print(\"arr2d[1]:\", arr2d[1])             # second row (index 1) as a 1D array\n",
    "print(\"arr2d[:, 1]:\", arr2d[:, 1])       # all rows, second column\n",
    "print(\"arr2d[1:3, 1:3]:\\n\", arr2d[1:3, 1:3])  # subarray from rows 1..2, cols 1..2\n",
    "print(\"arr2d[::2, ::2]:\\n\", arr2d[::2, ::2])  # every 2nd row & col (0,2)\n",
    "\n",
    "# --- SLICING WITH NEGATIVE INDICES ---\n",
    "print(\"\\n--- SLICING WITH NEGATIVE INDICES ---\")\n",
    "print(\"arr2d[-1]:\", arr2d[-1])           # last row\n",
    "print(\"arr2d[:, -1]:\", arr2d[:, -1])     # last column\n",
    "print(\"arr2d[-2:, -2:]:\\n\", arr2d[-2:, -2:])  # bottom-right 2x2 corner\n",
    "\n",
    "# 3D Array\n",
    "arr3d = np.arange(2*3*4).reshape(2, 3, 4)\n",
    "print(\"\\n3D array (shape = {}):\\n\".format(arr3d.shape), arr3d)\n",
    "\n",
    "# --- 3D SLICING ---\n",
    "print(\"\\n--- 3D SLICING ---\")\n",
    "print(\"arr3d[0, 1, 2]:\", arr3d[0, 1, 2])     # single element\n",
    "print(\"arr3d[0, 1:, 2:]:\\n\", arr3d[0, 1:, 2:])  # sub-block\n",
    "print(\"arr3d[:, :2, ::2]:\\n\", arr3d[:, :2, ::2]) # multiple slices across dimensions\n",
    "\n",
    "# --- BOOLEAN INDEXING ---\n",
    "# Slicing can also be done using boolean masks (often called boolean indexing).\n",
    "# For example, filter all values in arr2d that are greater than 20:\n",
    "mask = arr2d > 20\n",
    "print(\"\\n--- BOOLEAN INDEXING ---\")\n",
    "print(\"Mask (arr2d > 20):\\n\", mask)\n",
    "print(\"arr2d[mask]:\", arr2d[mask])   # elements where mask is True\n",
    "\n",
    "# --- VIEW VS COPY ---\n",
    "# Remember: Slicing usually returns a \"view\" (not a full copy).\n",
    "# If you modify the slice, the original array is also modified.\n",
    "sub_view = arr1d[1:4]\n",
    "print(\"\\n--- VIEW VS COPY ---\")\n",
    "print(\"sub_view before:\", sub_view)\n",
    "sub_view[:] = 99\n",
    "print(\"sub_view after:\", sub_view)\n",
    "print(\"arr1d after modifying sub_view:\", arr1d)\n",
    "\n",
    "# If you need an independent copy, do:\n",
    "arr1d_copy = arr1d[1:4].copy()\n",
    "arr1d_copy[:] = 7\n",
    "print(\"\\narr1d_copy (independent):\", arr1d_copy)\n",
    "print(\"arr1d remains unchanged:\", arr1d)\n"
   ]
  },
  {
   "cell_type": "markdown",
   "metadata": {},
   "source": [
    "## Comparing performances\n",
    "\n",
    "- Summing array elements with a Python loop vs. using the vectorized `np.sum`\n",
    "- Demonstrates the efficiency of NumPy’s built‑in functions with `%timeit`\n",
    "\n",
    "Run the code cell to observe the performance difference."
   ]
  },
  {
   "cell_type": "code",
   "execution_count": null,
   "metadata": {},
   "outputs": [],
   "source": [
    "import numpy as np\n",
    "\n",
    "# Create a large array of 1 million random numbers\n",
    "N = 1000000\n",
    "data = np.random.rand(N)\n",
    "\n",
    "def python_loop_sum(data):\n",
    "    total = 0.0\n",
    "    for x in data:\n",
    "        total += x\n",
    "    return total\n",
    "\n",
    "def numpy_vectorized_sum(data):\n",
    "    return np.sum(data)\n",
    "\n",
    "# Verify that both methods produce the same result\n",
    "total_loop = python_loop_sum(data)\n",
    "total_numpy = numpy_vectorized_sum(data)\n",
    "print(\"Sum via loop:\", total_loop)\n",
    "print(\"Sum via NumPy:\", total_numpy)\n",
    "print(\"Difference:\", abs(total_loop - total_numpy))\n",
    "\n",
    "# Timing using %timeit\n",
    "print(\"\\nTiming results:\")\n",
    "\n",
    "print(\"Python loop sum:\")\n",
    "%timeit python_loop_sum(data)\n",
    "\n",
    "print(\"NumPy vectorized sum:\")\n",
    "%timeit numpy_vectorized_sum(data)\n"
   ]
  },
  {
   "cell_type": "markdown",
   "metadata": {},
   "source": [
    "## Numpy functions are quite optimized, code using them becomes faster and cleaner!"
   ]
  },
  {
   "cell_type": "code",
   "execution_count": null,
   "metadata": {},
   "outputs": [],
   "source": [
    "import numpy as np\n",
    "\n",
    "N = 1000000\n",
    "B = np.random.rand(N) + 0.1  # Add 0.1 to avoid zeros in B.\n",
    "B[::10] = 0.0  # Introduce zeros in B every 10 elements.\n",
    "#print(B)\n",
    "A_res = np.zeros_like(B)\n",
    "B_res = np.zeros_like(B)\n",
    "\n",
    "#print(np.power(B, 2, out=A_res, where=(B!=0)))\n",
    "\n",
    "%timeit -r 20 -n 100  np.power(B, 2, out=A_res, where=(B!=0))\n",
    "%timeit -r 20 -n 100  B_res[(B!=0)]=B[(B!=0)]**2\n",
    "\n",
    "# Uncomment to see the results, but change n to a much smaller number\n",
    "#print(\"A_res:\\n\", A_res)\n",
    "#print(\"B_res:\\n\", B_res)"
   ]
  },
  {
   "cell_type": "markdown",
   "metadata": {},
   "source": [
    "### Common misconception in numpy, find the mistake"
   ]
  },
  {
   "cell_type": "code",
   "execution_count": null,
   "metadata": {},
   "outputs": [],
   "source": [
    "import numpy as np\n",
    "\n",
    "# Prepopulate V with NaNs\n",
    "V = np.full(5, np.nan)\n",
    "A = np.array([2, 0, 5, 0, 10])\n",
    "condition = A != 0\n",
    "\n",
    "V = np.divide(10, A, where=condition)\n",
    "print(\"Incorrect approach, V becomes:\", V)\n",
    "\n"
   ]
  },
  {
   "cell_type": "code",
   "execution_count": null,
   "metadata": {},
   "outputs": [],
   "source": [
    "# Prepopulate V with NaNs\n",
    "V = np.full(5, np.nan)\n",
    "A = np.array([2, 0, 5, 0, 10])\n",
    "condition = A != 0\n",
    "#np.power\n",
    "print(\"Correct approach, V becomes:\", V)"
   ]
  },
  {
   "cell_type": "markdown",
   "metadata": {},
   "source": [
    "### Why do we see an error message anyway?\n",
    "\n",
    "using ufuncs is a compromize on more efficient than slicing, but calculating all values anyway."
   ]
  },
  {
   "cell_type": "code",
   "execution_count": null,
   "metadata": {},
   "outputs": [],
   "source": [
    "import numpy as np\n",
    "\n",
    "# Create large arrays for the timing comparison.\n",
    "N = 1000000\n",
    "A = np.random.rand(N) + 0.1  # Add 0.1 to avoid zeros in A.\n",
    "B = np.random.rand(N) + 0.1  # Add 0.1 to avoid zeros in B.\n",
    "print(\"Min B:\", B.min(), \"Max B:\", B.max())\n",
    "B[::1000] = 0.0  # Introduce zeros in B every 1000 elements.\n",
    "print(\"Number of zeros in B:\", np.count_nonzero(B == 0))\n",
    "print(\"Min B:\", B.min(), \"Max B:\", B.max())\n",
    "\n",
    "\n",
    "# -----------------------------------\n",
    "# Method 1: Using np.divide with out and where\n",
    "# Prepopulate output array with NaNs.\n",
    "V_npdivide = np.full_like(A, np.nan)\n",
    "#np.divide(A, B, out=V_npdivide, where=(B != 0))\n",
    "#print(V_npdivide)\n",
    "%timeit -r 20 -n 100  np.divide(A, B, out=V_npdivide, where=(B != 0))\n",
    "\n",
    "# -----------------------------------\n",
    "# Method 2: Using normal math operations with a mask.\n",
    "def masked_divide(A, B):\n",
    "    V_mask = A\n",
    "    mask = (B != 0)                    # Create mask to avoid division by zero.    \n",
    "    C=A[mask] / B[mask]   # Compute division only where safe.\n",
    "    V_mask[mask] = C\n",
    "    return V_mask\n",
    "\n",
    "#V_mask=masked_divide(A, B)\n",
    "#print(A)\n",
    "\n",
    "%timeit -r 20 -n 100 masked_divide(A, B)\n"
   ]
  },
  {
   "cell_type": "markdown",
   "metadata": {},
   "source": [
    "### There is a common mal pracctice in the code above, can you find it?"
   ]
  }
 ],
 "metadata": {
  "kernelspec": {
   "display_name": "base",
   "language": "python",
   "name": "python3"
  },
  "language_info": {
   "codemirror_mode": {
    "name": "ipython",
    "version": 3
   },
   "file_extension": ".py",
   "mimetype": "text/x-python",
   "name": "python",
   "nbconvert_exporter": "python",
   "pygments_lexer": "ipython3",
   "version": "3.12.9"
  }
 },
 "nbformat": 4,
 "nbformat_minor": 2
}
