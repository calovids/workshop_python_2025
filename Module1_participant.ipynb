{
 "cells": [
  {
   "cell_type": "markdown",
   "metadata": {},
   "source": [
    "# Debugging and Profiling Workshop in VS Code\n",
    "\n",
    "Welcome to the workshop! In this notebook, we'll explore techniques for debugging and profiling Python code using VS Code. You'll learn to use built-in tools such as `breakpoint()`, `%timeit`, `cProfile`, and `%prun`, as well as VS Code-specific features like conditional breakpoints and logpoints.\n",
    "\n",
    "Make sure you're running this notebook in a VS Code dev container with Jupyter support, and that you have the Python and Jupyter extensions installed.\n"
   ]
  },
  {
   "cell_type": "markdown",
   "metadata": {},
   "source": [
    "## Timeit\n",
    "\n",
    "`timeit` is a quick tool for fast and simple checks"
   ]
  },
  {
   "cell_type": "code",
   "execution_count": null,
   "metadata": {},
   "outputs": [],
   "source": [
    "import timeit\n",
    "# Compare two methods to calculate sum of squares\n",
    "def sum_squares_loop(n):\n",
    "    total = 0\n",
    "    for i in range(n):\n",
    "        total += i ** 2\n",
    "    return total\n",
    "\n",
    "def sum_squares_comp(n):\n",
    "    return sum([i ** 2 for i in range(n)])\n",
    "\n",
    "# Using %timeit to compare performance\n",
    "print(\"Timing sum_squares_loop:\")\n",
    "%timeit sum_squares_loop(10000)\n",
    "\n",
    "print(\"\\nTiming sum_squares_comp:\")\n",
    "%timeit sum_squares_comp(10000)\n",
    "\n",
    "# Experiment with different ranges or implementations to see how performance varies.\n",
    "\n"
   ]
  },
  {
   "cell_type": "markdown",
   "metadata": {},
   "source": [
    "### `timeit` parameters\n",
    "Using `timeit` with different number of runs (`-r`) or loops (`-n`) enable us to get more accurate results\n",
    "\n",
    "The `-r` flag specifies the number of runs, and the `-n` flag specifies the number of loops per run. Each `run` will execute the specified amount of loops\n",
    "\n",
    "#### What do you think is the difference between runs and loops?"
   ]
  },
  {
   "cell_type": "code",
   "execution_count": null,
   "metadata": {},
   "outputs": [],
   "source": [
    "#Use timeit with different number of runs to get more accurate results\n",
    "print(\"\\nTiming sum_squares_loop:\")\n",
    "%timeit -r 10 sum_squares_loop(10000) \n",
    "#You can also use timeit with different number of loops to get more accurate results\n",
    "print(\"\\nTiming sum_squares_comp:\")\n",
    "%timeit -r 5 -n 2000 sum_squares_comp(10000)\n"
   ]
  },
  {
   "cell_type": "markdown",
   "metadata": {},
   "source": [
    "#### R: Runs are the number of times the code is executed, and loops are the number of iterations per run.\n",
    "\n",
    "`%timeit -r X -n Y`:\n",
    "\n",
    "- In each run (repeat), the code is executed Y times.\n",
    "- You then obtain a vector of X total times—one for each run.\n",
    "- %timeit reports the best (minimum) total time divided by Y, which gives the best average time per loop.\n"
   ]
  },
  {
   "cell_type": "markdown",
   "metadata": {},
   "source": [
    "### To be able to store results in variables one should use `timeit.timeit` and/or `timeit.repeat`"
   ]
  },
  {
   "cell_type": "code",
   "execution_count": null,
   "metadata": {},
   "outputs": [],
   "source": [
    "print(\"\\nTiming sum_squares_comp:\")\n",
    "%timeit -r 40 -n 1000 sum_squares_loop(5000) \n",
    "#is the same as\n",
    "runs=40\n",
    "repeats=1000\n",
    "times = timeit.repeat(stmt='sum_squares_comp(5000)', globals=globals(), number=runs, repeat=repeats)\n",
    "best = min(times) / runs*1e6\n",
    "print(f\"{best:.2f} µs per loop\")"
   ]
  },
  {
   "cell_type": "markdown",
   "metadata": {},
   "source": [
    "## `cProfile`\n",
    "\n",
    "A very common profiler in Python is `cProfile`. In this cell, we profile a function that generates and sorts a list of random numbers using `cProfile`. The output shows how many function calls were made, along with timing details for each call.\n"
   ]
  },
  {
   "cell_type": "code",
   "execution_count": null,
   "metadata": {},
   "outputs": [],
   "source": [
    "import random\n",
    "import cProfile\n",
    "\n",
    "def sort_numbers(n):\n",
    "    # Generate a list of n random numbers\n",
    "    data = [random.random() for _ in range(n)]\n",
    "    # Sort the list\n",
    "    data.sort()\n",
    "    return data\n",
    "\n",
    "print(\"Profiling sort_numbers with cProfile:\")\n",
    "cProfile.run('sort_numbers(100000)')"
   ]
  },
  {
   "cell_type": "markdown",
   "metadata": {},
   "source": [
    "## Detailed Profiling with `%prun`\n",
    "\n",
    "As you can see `cProfile` by itself is not super useful.\n",
    "\n",
    "Using `%prun` allows you to profile a function directly in the Jupyter Notebook. This cell profiles `sort_numbers` for a larger input size, providing detailed timing information ordered by internal time."
   ]
  },
  {
   "cell_type": "code",
   "execution_count": null,
   "metadata": {},
   "outputs": [],
   "source": [
    "print(\"\\nProfiling sort_numbers with %prun:\")\n",
    "%prun sort_numbers(10000000)\n",
    "\n",
    "# Study the profiling output and note which functions take the most time."
   ]
  },
  {
   "cell_type": "markdown",
   "metadata": {},
   "source": [
    "## Advanced Profiling with PyInstrument\n",
    "\n",
    "In this cell, we use **PyInstrument** to profile the performance of our `sort_numbers` function on a large dataset. PyInstrument is a statistical profiler that samples your program’s execution and generates a clear, hierarchical report of where time is spent in your code.\n",
    "\n",
    "- **Profiler Setup:**  \n",
    "  - The profiler is imported from `pyinstrument` and started using `profiler.start()`.\n",
    "- **Profiling Output:**  \n",
    "  - After executing the function, the profiler is stopped and the profiling report is printed.\n",
    "\n",
    "This cell is designed to help you understand performance bottlenecks in your code by visualizing a hierarchical call tree of function execution times.\n"
   ]
  },
  {
   "cell_type": "code",
   "execution_count": null,
   "metadata": {},
   "outputs": [],
   "source": [
    "from pyinstrument import Profiler\n",
    "\n",
    "profiler = Profiler()\n",
    "profiler.start()\n",
    "\n",
    "def sort_numbers(n):\n",
    "    # Generate a list of n random numbers\n",
    "    data = [random.random() for _ in range(n)]\n",
    "    # Sort the list\n",
    "    data.sort()\n",
    "    return data\n",
    "\n",
    "\n",
    "sort_numbers(10000000)\n",
    "\n",
    "profiler.stop()\n",
    "profiler.print()\n",
    "\n",
    "# Study the profiling output and note which functions take the most time."
   ]
  },
  {
   "cell_type": "markdown",
   "metadata": {},
   "source": [
    "### Small challenge\n",
    "\n",
    "Sort is the slowest part of this, but this code is definitely not efficient, how to make it better?"
   ]
  },
  {
   "cell_type": "code",
   "execution_count": null,
   "metadata": {},
   "outputs": [],
   "source": [
    "from pyinstrument import Profiler\n",
    "\n",
    "profiler = Profiler()\n",
    "profiler.start()\n",
    "\n",
    "def sort_numbers(n):\n",
    "    # Generate a list of n random numbers\n",
    "    data = [random.random() for _ in range(n)]\n",
    "    # Sort the list\n",
    "    data.sort()\n",
    "    return data\n",
    "\n",
    "data1=sort_numbers    (10000000)\n",
    "\n",
    "profiler.stop()\n",
    "profiler.print()\n",
    "# Study the profiling output and note which functions take the most time."
   ]
  },
  {
   "cell_type": "markdown",
   "metadata": {},
   "source": [
    "### A more complex example"
   ]
  },
  {
   "cell_type": "code",
   "execution_count": null,
   "metadata": {},
   "outputs": [],
   "source": [
    "import math\n",
    "import random\n",
    "\n",
    "def compute_statistics(data):\n",
    "    \"\"\"\n",
    "    Compute basic statistics (mean and variance) for a list of numbers.\n",
    "    This function iterates over the data twice:\n",
    "      - Once to calculate the mean.\n",
    "      - Once more to compute the variance.\n",
    "    \"\"\"\n",
    "    n = len(data)\n",
    "    mean_val = sum(data) / n\n",
    "    variance = sum((x - mean_val) ** 2 for x in data) / n\n",
    "    return mean_val, variance\n",
    "\n",
    "def transform_data(n):\n",
    "    \"\"\"\n",
    "    Generate a list of n random numbers and apply a transformation:\n",
    "    each random number x is transformed by calculating math.sqrt(x) * math.sin(x).\n",
    "    This function calls:\n",
    "      - random.random() for each element.\n",
    "      - math.sqrt() and math.sin() for the transformation.\n",
    "    \"\"\"\n",
    "    # Generate n random numbers\n",
    "    data = [random.random() for _ in range(n)]\n",
    "    # Transform the data using math operations\n",
    "    transformed = [math.sqrt(x) * math.sin(x) for x in data]\n",
    "    return transformed\n",
    "\n",
    "def process_data(n):\n",
    "    \"\"\"\n",
    "    Process data by first transforming it and then computing its statistics.\n",
    "    This function builds a dependency tree:\n",
    "      process_data -> transform_data -> (random.random, math.sqrt, math.sin)\n",
    "                      -> compute_statistics -> (sum, generator expressions)\n",
    "    \"\"\"\n",
    "    transformed = transform_data(n)\n",
    "    stats = compute_statistics(transformed)\n",
    "    return stats\n",
    "\n",
    "def main(n, iterations=5):\n",
    "    \"\"\"\n",
    "    Run process_data several times, collecting statistics each time.\n",
    "    This loop simulates repeated data processing.\n",
    "    \"\"\"\n",
    "    results = []\n",
    "    for i in range(iterations):\n",
    "        stats = process_data(n)\n",
    "        results.append(stats)\n",
    "    return results\n",
    "\n",
    "\n",
    "    \n",
    "profiler = Profiler()\n",
    "profiler.start()\n",
    "main(1000000)\n",
    "profiler.stop()\n",
    "profiler.print()\n"
   ]
  },
  {
   "cell_type": "markdown",
   "metadata": {},
   "source": [
    "### This is a function that calculates the sum of all prime numbers, it doesn't perform very well"
   ]
  },
  {
   "cell_type": "code",
   "execution_count": null,
   "metadata": {},
   "outputs": [],
   "source": [
    "\n",
    "\n",
    "def sum_primes_naive(n):\n",
    "    \"\"\"Compute the sum of all prime numbers below n using a naïve approach.\"\"\"\n",
    "    def is_prime(x):\n",
    "        if x < 2:\n",
    "            return False\n",
    "        # Check divisibility from 2 up to sqrt(x)\n",
    "        for i in range(2, int(x**0.5) + 1):\n",
    "            if x % i == 0:\n",
    "                return False\n",
    "        return True\n",
    "\n",
    "    total = 0\n",
    "    for num in range(2, n):\n",
    "        if is_prime(num):\n",
    "            total += num\n",
    "    return total\n",
    "\n",
    "print(\"Naïve Sum of Primes below 10000:\", sum_primes_naive(1000000))\n"
   ]
  },
  {
   "cell_type": "markdown",
   "metadata": {},
   "source": [
    "### Here is a very basic way to test how a code scales:"
   ]
  },
  {
   "cell_type": "code",
   "execution_count": null,
   "metadata": {},
   "outputs": [],
   "source": [
    "import matplotlib.pyplot as plt\n",
    "\n",
    "\n",
    "n_values = [100, 200, 400, 800,1600,3200]\n",
    "\n",
    "times_naive = []\n",
    "runs=20\n",
    "repeats=1000\n",
    "# Use timeit.timeit to measure performance. Using number=1 so that we run the function once per n.\n",
    "for n in n_values:\n",
    "    t=  timeit.repeat('sum_primes_naive(n)', globals=globals(), number=runs, repeat=repeats)\n",
    "    t=min(t)/runs*1e3\n",
    "    times_naive.append(t)\n",
    "    print(f\"n = {n:5d}, time = {t:.4f} ms\")\n",
    "\n"
   ]
  },
  {
   "cell_type": "code",
   "execution_count": null,
   "metadata": {},
   "outputs": [],
   "source": [
    "plt.figure(figsize=(8, 6))\n",
    "plt.loglog(n_values, times_naive, 'o-', label='Measured time')\n",
    "plt.ylabel(\"Time (seconds)\")\n",
    "plt.title(\"Scaling of sum_primes_naive (log-log plot)\")\n",
    "times_naive"
   ]
  },
  {
   "cell_type": "markdown",
   "metadata": {},
   "source": [
    "### Can you propose a new function that performs better? Compare with the previous version"
   ]
  },
  {
   "cell_type": "code",
   "execution_count": null,
   "metadata": {},
   "outputs": [],
   "source": [
    "def sum_primes_improved(n):\n",
    "    #write a function to compute the sum of all prime numbers below n using a more efficient approach\n",
    "\n",
    "times = []\n",
    "runs=20\n",
    "repeats=1000\n",
    "# Use timeit.timeit to measure performance. Using number=1 so that we run the function once per n.\n",
    "for n in n_values:\n",
    "    t=  timeit.repeat('sum_primes_improved(n)', globals=globals(), number=runs, repeat=repeats)\n",
    "    t=min(t)/runs*1e3\n",
    "    times.append(t)\n",
    "    print(f\"n = {n:5d}, time = {t:.4f} ms\")\n",
    "\n"
   ]
  },
  {
   "cell_type": "code",
   "execution_count": null,
   "metadata": {},
   "outputs": [],
   "source": [
    "plt.figure(figsize=(8, 6))\n",
    "plt.loglog(n_values, times_naive, 'o-', label='Measured time Naive')\n",
    "plt.loglog(n_values, times, 'o-', label='Measured time Optimized')\n",
    "plt.ylabel(\"Time (ms)\")\n",
    "plt.title(\"Scaling of sum_primes_naive (log-log plot)\")\n",
    "plt.legend()"
   ]
  },
  {
   "cell_type": "markdown",
   "metadata": {},
   "source": [
    "## Debugging with `pdb` and `breakpoint()`\n",
    "\n",
    "In this cell, we demonstrate how to use Python’s built-in debugger (`pdb`) via the `breakpoint()` function. Run this cell using the notebook-specific debug command (Ctrl+Shift+Alt+Enter) so that execution will pause at the breakpoint, letting you inspect variables and step through the code.\n"
   ]
  },
  {
   "cell_type": "code",
   "execution_count": null,
   "metadata": {},
   "outputs": [],
   "source": [
    "# Simple debugging example using pdb and breakpoint\n",
    "def buggy_function(x):\n",
    "    result = x * 2\n",
    "    # Introduce a deliberate error: division by zero when x is 0\n",
    "    if x == 0:\n",
    "        print('Entering debugger because x is 0')\n",
    "        breakpoint()  # This starts the interactive debugger\n",
    "        result = result / x  \n",
    "    return result\n",
    "\n",
    "# Trigger the debugger by passing 0\n",
    "\n",
    "buggy_function(0)"
   ]
  },
  {
   "cell_type": "code",
   "execution_count": null,
   "metadata": {},
   "outputs": [],
   "source": [
    "# Debugging a recursive Fibonacci function\n",
    "# The Fibonacci sequence is a series of numbers in which each number is the sum of the two preceding ones.\n",
    "# It starts with 0 and 1, and the sequence goes 0, 1, 1, 2, 3, 5, 8, 13, 21, and so on.\n",
    "# The Fibonacci function is often used as an example of recursion.\n",
    "# This implementation has a bug that causes it to return incorrect results for n > 1.\n",
    "# Use the interactive debugger to step through the recursion and find the bug and how many iterations are done\n",
    "\n",
    "def fib(n):\n",
    "    if n < 0:\n",
    "        raise ValueError('Negative arguments not allowed')\n",
    "    if n in (0, 1):\n",
    "\n",
    "        return n\n",
    "    return fib(n - 1) + fib(n - 2)  \n",
    "\n",
    "# Set breakpoints here in VS Code and call fib(5) to step through the recursion\n",
    "print('Fibonacci result:', fib(10))\n",
    "\n",
    "# Use the interactive debugger to examine how the recursion unfolds."
   ]
  },
  {
   "cell_type": "markdown",
   "metadata": {},
   "source": [
    "## Using Conditional Breakpoints\n",
    "\n",
    "Conditional breakpoints pause execution only when a specific condition is met. For example, in the cell below, right-click the red breakpoint (set on the `print` statement) and add the condition `i == 2` so that the debugger stops only when `i` equals 2.\n"
   ]
  },
  {
   "cell_type": "code",
   "execution_count": null,
   "metadata": {},
   "outputs": [],
   "source": [
    "def conditional_breakpoint_demo(n):\n",
    "    total = 0\n",
    "    for i in range(n):\n",
    "        total += i\n",
    "        # Set a mouse breakpoint on the following line and add the condition: i == 50\n",
    "        print(f\"Iteration {i}: total = {total}\")\n",
    "    return total\n",
    "\n",
    "# Run the function\n",
    "result = conditional_breakpoint_demo(100)\n",
    "print(\"Final result:\", result)\n"
   ]
  }
 ],
 "metadata": {
  "kernelspec": {
   "display_name": "base",
   "language": "python",
   "name": "python3"
  },
  "language_info": {
   "codemirror_mode": {
    "name": "ipython",
    "version": 3
   },
   "file_extension": ".py",
   "mimetype": "text/x-python",
   "name": "python",
   "nbconvert_exporter": "python",
   "pygments_lexer": "ipython3",
   "version": "3.12.9"
  }
 },
 "nbformat": 4,
 "nbformat_minor": 2
}
