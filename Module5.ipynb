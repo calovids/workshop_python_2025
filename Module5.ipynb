{
 "cells": [
  {
   "cell_type": "markdown",
   "id": "ef1559fc",
   "metadata": {},
   "source": [
    "## What is Object-Oriented Programming (OOP)?\n",
    "\n",
    "**Object-Oriented Programming (OOP)** is a programming paradigm that organizes code into \"objects\"—each bundling **data** and **functions** that operate on that data. Objects are created from **classes**, which define the structure (attributes) and behaviors (methods) of the objects.\n",
    "\n",
    "Key OOP Concepts:\n",
    "- **Classes:** Templates for creating objects. Define attributes and methods.\n",
    "- **Objects:** Instances of classes. Each contains its own data.\n",
    "- **Attributes:** Variables that hold data (e.g., `name`, `sequence`).\n",
    "- **Methods:** Functions that perform actions on the object’s data (e.g., `length()`, `reverse_complement()`).\n",
    "- **Inheritance:** A way to extend classes; a subclass inherits attributes and methods from its parent.\n",
    "- **Encapsulation:** Grouping related data and methods into a single unit (the class).\n",
    "\n",
    "This design helps create more modular, understandable, and maintainable code—especially useful in scientific coding where similar tasks are repeated.\n",
    "\n",
    "## Creating Classes in Python\n",
    "\n",
    "To create a class in Python, you define it using the `class` keyword. Inside, you define attributes (data) and methods (functions) that operate on the object's data.\n",
    "\n",
    "### Example: A Simple DNASequence Class\n",
    "\n",
    "We will create a `DNASequence` class that:\n",
    "- Stores a DNA sequence and its name.\n",
    "- Has a method `length()` to return the sequence length.\n",
    "- Has a method `gc_content()` to calculate the percentage of guanine (G) and cytosine (C).\n",
    "- Has a method `reverse_complement()` to generate the reverse complement, following the base-pairing rules:\n",
    "  - A ↔ T, C ↔ G\n",
    "\n",
    "This example illustrates how to encapsulate both data (e.g., the actual sequence string) and behaviors (e.g., computing the reverse complement) within one class.\n"
   ]
  },
  {
   "cell_type": "code",
   "execution_count": 1,
   "id": "99b58fde",
   "metadata": {},
   "outputs": [],
   "source": [
    "# Define a class for DNA sequences\n",
    "class DNASequence:\n",
    "    def __init__(self, name, sequence):\n",
    "        \"\"\"Initialize a DNASequence with a name and sequence string.\"\"\"\n",
    "        self.name = name              # save the name (e.g., gene or sequence ID)\n",
    "        self.sequence = sequence      # save the DNA sequence string (e.g., \"ATGC...\")\n",
    "    \n",
    "    def length(self):\n",
    "        \"\"\"Return the length of the DNA sequence.\"\"\"\n",
    "        return len(self.sequence)\n",
    "    \n",
    "    def gc_content(self):\n",
    "        \"\"\"Calculate GC content (%) of the sequence.\"\"\"\n",
    "        # Count G's and C's in the sequence (case-insensitive)\n",
    "        seq_upper = self.sequence.upper()\n",
    "        g_count = seq_upper.count('G')\n",
    "        c_count = seq_upper.count('C')\n",
    "        gc_percent = (g_count + c_count) / len(seq_upper) * 100\n",
    "        return gc_percent\n",
    "    \n",
    "    def reverse_complement(self):\n",
    "        \"\"\"Return the reverse complement of the DNA sequence.\"\"\"\n",
    "        # Define the mapping of each nucleotide to its complement\n",
    "        comp_map = {'A': 'T', 'T': 'A', 'C': 'G', 'G': 'C'}\n",
    "        # Build the complement of the reversed sequence ### \n",
    "        rev_comp = ''.join(comp_map.get(base.upper(), 'N')  # 'N' for any unknown base \n",
    "                            for base in reversed(self.sequence))\n",
    "        return rev_comp\n"
   ]
  },
  {
   "cell_type": "markdown",
   "id": "8dfc0aa3",
   "metadata": {},
   "source": [
    "We've defined three methods in addition to __init__:\n",
    "\n",
    "- .length() – returns the length of the sequence.\n",
    "- .gc_content() – computes the GC content as a percentage.\n",
    "- .reverse_complement() – computes the reverse complement sequence.\n",
    "\n",
    "Notice the use of self in each method definition. self refers to the instance of the class (the specific object created from the class). We use self to access attributes like self.sequence and other methods. In Python, instance methods must have self as their first parameter so that they can operate on the instance's data.\n",
    "Using the Class: Creating Objects (Instances)\n",
    "\n",
    "Now that we have a class, let's use it to create some DNA sequence objects and call their methods. This process of creating an object from a class is called **instantiation**."
   ]
  },
  {
   "cell_type": "code",
   "execution_count": 2,
   "id": "56b273ea",
   "metadata": {},
   "outputs": [
    {
     "name": "stdout",
     "output_type": "stream",
     "text": [
      "Name: Gene1\n",
      "Sequence: ATGCAATGC\n",
      "Length: 9\n",
      "GC Content: 44.4%\n",
      "Reverse Complement: GCATTGCAT\n",
      "\n",
      "Name: RandomSeq\n",
      "Sequence: AAACCCGGGTTT\n",
      "Length: 12\n",
      "GC Content: 50.0%\n",
      "Reverse Complement: AAACCCGGGTTT\n"
     ]
    }
   ],
   "source": [
    "# Create instances of DNASequence\n",
    "dna1 = DNASequence(name=\"Gene1\", sequence=\"ATGCAATGC\")\n",
    "dna2 = DNASequence(name=\"RandomSeq\", sequence=\"AAACCCGGGTTT\")\n",
    "\n",
    "# Use the methods of DNASequence\n",
    "print(\"Name:\", dna1.name)\n",
    "print(\"Sequence:\", dna1.sequence)\n",
    "print(\"Length:\", dna1.length())\n",
    "print(f\"GC Content: {dna1.gc_content():.1f}%\")  # formatted to one decimal place\n",
    "print(\"Reverse Complement:\", dna1.reverse_complement())\n",
    "\n",
    "# Demonstrate the second DNA sequence object\n",
    "print(\"\\nName:\", dna2.name)\n",
    "print(\"Sequence:\", dna2.sequence)\n",
    "print(\"Length:\", dna2.length())\n",
    "print(f\"GC Content: {dna2.gc_content():.1f}%\")\n",
    "print(\"Reverse Complement:\", dna2.reverse_complement())"
   ]
  },
  {
   "cell_type": "markdown",
   "id": "36996aff",
   "metadata": {},
   "source": [
    "As we can see, each instance of DNASequence holds its own data (name and sequence) and the methods operate on that data. For example, dna1.gc_content() computed the GC content of dna1's sequence, and dna2.gc_content() operates on dna2's sequence.\n",
    "\n",
    "### Q: Why dna2 has the Reverse complement equal to the sequence?\n",
    "\n"
   ]
  },
  {
   "cell_type": "markdown",
   "id": "a7b5b983",
   "metadata": {},
   "source": [
    "## Visualizing classes properties\n",
    "\n",
    "To know all descriptors and attributes of a class on can list all structures within with `dir`. In reality a much more useful way to understand the structure of a class is using the `help` functioin"
   ]
  },
  {
   "cell_type": "code",
   "execution_count": 3,
   "id": "019e5dfb",
   "metadata": {},
   "outputs": [
    {
     "name": "stdout",
     "output_type": "stream",
     "text": [
      "['__class__', '__delattr__', '__dict__', '__dir__', '__doc__', '__eq__', '__format__', '__ge__', '__getattribute__', '__getstate__', '__gt__', '__hash__', '__init__', '__init_subclass__', '__le__', '__lt__', '__module__', '__ne__', '__new__', '__reduce__', '__reduce_ex__', '__repr__', '__setattr__', '__sizeof__', '__str__', '__subclasshook__', '__weakref__', 'gc_content', 'length', 'name', 'reverse_complement', 'sequence']\n",
      "Help on DNASequence in module __main__ object:\n",
      "\n",
      "class DNASequence(builtins.object)\n",
      " |  DNASequence(name, sequence)\n",
      " |\n",
      " |  Methods defined here:\n",
      " |\n",
      " |  __init__(self, name, sequence)\n",
      " |      Initialize a DNASequence with a name and sequence string.\n",
      " |\n",
      " |  gc_content(self)\n",
      " |      Calculate GC content (%) of the sequence.\n",
      " |\n",
      " |  length(self)\n",
      " |      Return the length of the DNA sequence.\n",
      " |\n",
      " |  reverse_complement(self)\n",
      " |      Return the reverse complement of the DNA sequence.\n",
      " |\n",
      " |  ----------------------------------------------------------------------\n",
      " |  Data descriptors defined here:\n",
      " |\n",
      " |  __dict__\n",
      " |      dictionary for instance variables\n",
      " |\n",
      " |  __weakref__\n",
      " |      list of weak references to the object\n",
      "\n"
     ]
    }
   ],
   "source": [
    "print(dir(dna1))\n",
    "help(dna1)"
   ]
  },
  {
   "cell_type": "markdown",
   "id": "7894f444",
   "metadata": {},
   "source": [
    "### Attributes of an object/class\n",
    "\n",
    "By default, when you define an attribute in a class—by simply setting it inside the `__init__` method (e.g., `self.name = name`)—that attribute is stored in the object's internal dictionary (`__dict__`). Such plain attributes do not carry any attached documentation. As a result, when you call `help()` on your class or its instances, these attributes appear only as entries in the dictionary, without any descriptive text.\n",
    "\n",
    "To provide meaningful descriptions that are visible with `help()`, you can define attributes as properties using the `@property` decorator along with a corresponding setter (`@<attribute>.setter`). This approach turns a plain attribute into a descriptor, which allows you to:\n",
    "  \n",
    "In summary, while simple attributes defined in the constructor remain undocumented aside from being simple data in `__dict__`, converting them into properties with `@property` and `@<name>.setter` makes them self-documenting descriptors. This is especially useful when you need validation, encapsulation, or simply clearer documentation in your class’s API.\n"
   ]
  },
  {
   "cell_type": "code",
   "execution_count": 4,
   "id": "2965103c",
   "metadata": {},
   "outputs": [
    {
     "name": "stdout",
     "output_type": "stream",
     "text": [
      "Help on class DNASequence in module __main__:\n",
      "\n",
      "class DNASequence(builtins.object)\n",
      " |  DNASequence(name, sequence)\n",
      " |\n",
      " |  Methods defined here:\n",
      " |\n",
      " |  __init__(self, name, sequence)\n",
      " |      Initialize self.  See help(type(self)) for accurate signature.\n",
      " |\n",
      " |  gc_content(self)\n",
      " |      Calculate GC content (%) of the sequence.\n",
      " |\n",
      " |  length(self)\n",
      " |      Return the length of the DNA sequence.\n",
      " |\n",
      " |  reverse_complement(self)\n",
      " |      Return the reverse complement of the DNA sequence.\n",
      " |\n",
      " |  ----------------------------------------------------------------------\n",
      " |  Data descriptors defined here:\n",
      " |\n",
      " |  __dict__\n",
      " |      dictionary for instance variables\n",
      " |\n",
      " |  __weakref__\n",
      " |      list of weak references to the object\n",
      " |\n",
      " |  name\n",
      " |      The name of the DNA sequence.\n",
      " |\n",
      " |  sequence\n",
      " |      The DNA sequence string.\n",
      "\n"
     ]
    }
   ],
   "source": [
    "class DNASequence:\n",
    "    def __init__(self, name, sequence):\n",
    "        # Use private variables for internal storage\n",
    "        self._name = name  \n",
    "        self._sequence = sequence\n",
    "\n",
    "    @property\n",
    "    def name(self):\n",
    "        \"\"\"The name of the DNA sequence.\"\"\"\n",
    "        return self._name\n",
    "\n",
    "    @name.setter\n",
    "    def name(self, value):\n",
    "        self._name = value\n",
    "\n",
    "    @property\n",
    "    def sequence(self):\n",
    "        \"\"\"The DNA sequence string.\"\"\"\n",
    "        return self._sequence\n",
    "\n",
    "    @sequence.setter\n",
    "    def sequence(self, value):\n",
    "        self._sequence = value\n",
    "    \n",
    "    def length(self):\n",
    "        \"\"\"Return the length of the DNA sequence.\"\"\"\n",
    "        return len(self.sequence)\n",
    "\n",
    "\n",
    "    def gc_content(self):\n",
    "        \"\"\"Calculate GC content (%) of the sequence.\"\"\"\n",
    "        seq_upper = self.sequence.upper()\n",
    "        g_count = seq_upper.count('G')\n",
    "        c_count = seq_upper.count('C')\n",
    "        return (g_count + c_count) / len(seq_upper) * 100\n",
    "\n",
    "    def reverse_complement(self):\n",
    "        \"\"\"Return the reverse complement of the DNA sequence.\"\"\"\n",
    "        comp_map = {'A': 'T', 'T': 'A', 'C': 'G', 'G': 'C'}\n",
    "        rev_comp = ''.join(comp_map.get(base.upper(), 'N')\n",
    "                           for base in reversed(self.sequence))\n",
    "        return rev_comp\n",
    "\n",
    "\n",
    "help(DNASequence)"
   ]
  },
  {
   "cell_type": "markdown",
   "id": "47b8f683",
   "metadata": {},
   "source": [
    "### While we are allowed to do some things, these are not the best procedure:"
   ]
  },
  {
   "cell_type": "code",
   "execution_count": 6,
   "id": "5092ac2a",
   "metadata": {},
   "outputs": [
    {
     "name": "stdout",
     "output_type": "stream",
     "text": [
      "Help on DNASequence in module __main__ object:\n",
      "\n",
      "class DNASequence(builtins.object)\n",
      " |  DNASequence(name, sequence)\n",
      " |\n",
      " |  Methods defined here:\n",
      " |\n",
      " |  __init__(self, name, sequence)\n",
      " |      Initialize self.  See help(type(self)) for accurate signature.\n",
      " |\n",
      " |  gc_content(self)\n",
      " |      Calculate GC content (%) of the sequence.\n",
      " |\n",
      " |  length(self)\n",
      " |      Return the length of the DNA sequence.\n",
      " |\n",
      " |  reverse_complement(self)\n",
      " |      Return the reverse complement of the DNA sequence.\n",
      " |\n",
      " |  ----------------------------------------------------------------------\n",
      " |  Data descriptors defined here:\n",
      " |\n",
      " |  __dict__\n",
      " |      dictionary for instance variables\n",
      " |\n",
      " |  __weakref__\n",
      " |      list of weak references to the object\n",
      " |\n",
      " |  name\n",
      " |      The name of the DNA sequence.\n",
      " |\n",
      " |  sequence\n",
      " |      The DNA sequence string.\n",
      "\n",
      "{'name': 'Gene1', 'sequence': 'ATGCAATGC'}\n",
      "{'_name': 'Gene1', '_sequence': 'ATGCAATGC', 'discovered': '2025'}\n",
      "Gene1\n"
     ]
    }
   ],
   "source": [
    "dna1b = DNASequence(name=\"Gene1\", sequence=\"ATGCAATGC\")\n",
    "dna1b.discovered=\"2025\"\n",
    "help(dna1b)\n",
    "\n",
    "print(dna1.__dict__)  # Print the attributes of the object\n",
    "print(dna1b.__dict__)\n",
    "print(dna1b.name)  # Print the class of the object"
   ]
  },
  {
   "cell_type": "markdown",
   "id": "74ecfa56",
   "metadata": {},
   "source": [
    "## Best Practices for Class Design\n",
    "\n",
    "When designing classes, consider these best practices:\n",
    "- **Naming Conventions:** Use descriptive, capitalized names for classes (e.g., `DNASequence`). Use lower case and words separated by underscore (`snake_case`)for attributes and method names.\n",
    "- **Single Responsibility:** Each class should have a clear purpose (e.g., managing DNA sequence data).\n",
    "- **Simple `__init__`:** Keep initialization (in `__init__`) straightforward—set up attributes without lengthy processes.\n",
    "- **Use `self` Correctly:** Always access attributes via `self` (e.g., `self.sequence`).\n",
    "- **Encapsulation:** Only expose what’s necessary. Use helper methods (with an underscore prefix if needed) for internal processes.\n",
    "- **Documentation:** Use docstrings to explain the purpose of the class and its methods.\n",
    "\n",
    "Following these practices makes your code more maintainable and understandable.\n",
    "\n",
    "## Common Misconceptions About Classes\n",
    "\n",
    "Some common pitfalls to watch out for:\n",
    "- **The role of `self`:** It refers to the object instance, and you don't pass it explicitly when calling methods.\n",
    "- **Attribute vs. local variable:** Always use `self` when referring to attributes; omitting it can lead to creating a local variable instead.\n",
    "- **Class vs. instance variables:** Be cautious when using class variables as they are shared across all instances, unlike instance variables.\n",
    "- **Methods vs. Attributes:** Methods are functions and require parentheses to call (e.g., `object.length()`), while attributes are accessed without parentheses (e.g., `object.name`).\n",
    "\n",
    "Understanding these differences is crucial for writing effective and bug-free object-oriented code.\n"
   ]
  },
  {
   "cell_type": "markdown",
   "id": "2d4a33f0",
   "metadata": {},
   "source": [
    "## lists of objects\n",
    "\n",
    "You can create as many DNASequence objects as needed. This is powerful for automating tasks: if you had a list of sequences, you could create a list of DNASequence objects and easily perform analyses on each by calling their methods in a loop. For instance:"
   ]
  },
  {
   "cell_type": "code",
   "execution_count": 7,
   "id": "bcfcb41d",
   "metadata": {},
   "outputs": [
    {
     "name": "stdout",
     "output_type": "stream",
     "text": [
      "Seq1: GC% = 44.4\n",
      "Seq2: GC% = 100.0\n",
      "Seq3: GC% = 0.0\n",
      "Seq4: GC% = 50.0\n",
      "Type of objects: <class 'list'>\n",
      "Type of objects: <class '__main__.DNASequence'>\n",
      "Length of second sequence: 8\n",
      "Name of second sequence: Seq2\n"
     ]
    }
   ],
   "source": [
    "# List of sequence strings (e.g., from a data source)\n",
    "sequences = [\"ATGCAATGC\", \"GGGGCCCC\", \"ATATATAT\", \"ACGTACGT\"]\n",
    "objects = [DNASequence(name=f\"Seq{i+1}\", sequence=seq) for i, seq in enumerate(sequences)]\n",
    "# Calculate GC content for each sequence using the class method\n",
    "for obj in objects:\n",
    "    print(f\"{obj.name}: GC% = {obj.gc_content():.1f}\")\n",
    "    \n",
    "print(\"Type of objects:\", type(objects))\n",
    "print(\"Type of objects:\", type(objects[0]))\n",
    "    \n",
    "\n",
    "# Print the length and name of the second DNASequence (index 1)\n",
    "print(\"Length of second sequence:\", objects[1].length())\n",
    "print(\"Name of second sequence:\", objects[1].name)"
   ]
  },
  {
   "cell_type": "markdown",
   "id": "cd4c1bef",
   "metadata": {},
   "source": [
    "## Automating Tasks Using Classes\n",
    "\n",
    "Classes excel at automating repetitive tasks. For example, when analyzing multiple DNA sequences or simulating data for experimental trials, you can create a class that encapsulates the operations.\n",
    "\n",
    "### Example: Reaction Time Simulator\n",
    "\n",
    "In a psychology experiment, reaction times can be simulated using a class:\n",
    "- The class simulates a number of trials using a random process (e.g., a normal distribution).\n",
    "- It computes statistics like the average reaction time.\n",
    "- It can also include a method to visualize the distribution (with a histogram).\n",
    "\n",
    "This approach abstracts the simulation logic and analysis into reusable and modular components.\n"
   ]
  },
  {
   "cell_type": "code",
   "execution_count": null,
   "id": "27248721",
   "metadata": {},
   "outputs": [],
   "source": [
    "import numpy as np\n",
    "import matplotlib.pyplot as plt\n",
    "\n",
    "class ReactionTimeSimulator:\n",
    "    def __init__(self, n_trials=100):\n",
    "        \"\"\"Simulate reaction times for a number of trials (e.g., experiments).\"\"\"\n",
    "        self.n_trials = n_trials\n",
    "        # Generate reaction times (in seconds) for n_trials, using a normal distribution\n",
    "        # Assume mean reaction time ~0.3s, standard deviation ~0.05s\n",
    "        # Clip to avoid negative times\n",
    "        self.times = np.clip(np.random.normal(loc=0.3, scale=0.05, size=self.n_trials), a_min=0.0, a_max=None)\n",
    "    \n",
    "    def average_time(self):\n",
    "        \"\"\"Return the average reaction time across trials.\"\"\"\n",
    "        return float(np.mean(self.times))\n",
    "    \n",
    "    def plot_histogram(self):\n",
    "        \"\"\"Plot a histogram of the reaction times.\"\"\"\n",
    "        plt.hist(self.times, bins=10, edgecolor='black')\n",
    "        plt.title(\"Reaction Time Distribution\")\n",
    "        plt.xlabel(\"Reaction Time (s)\")\n",
    "        plt.ylabel(\"Frequency\")\n",
    "        plt.show()\n"
   ]
  },
  {
   "cell_type": "code",
   "execution_count": 9,
   "id": "19166cb7",
   "metadata": {},
   "outputs": [
    {
     "name": "stdout",
     "output_type": "stream",
     "text": [
      "Average reaction time: 0.300 seconds\n"
     ]
    },
    {
     "data": {
      "image/png": "[encoded data removed]",
      "text/plain": [
       "<Figure size 640x480 with 1 Axes>"
      ]
     },
     "metadata": {},
     "output_type": "display_data"
    }
   ],
   "source": [
    "# Simulate reaction times for one participant\n",
    "np.random.seed(42)  # set seed for reproducibility\n",
    "sim = ReactionTimeSimulator(n_trials=10000)\n",
    "\n",
    "# Compute the average reaction time\n",
    "avg_time = sim.average_time()\n",
    "print(f\"Average reaction time: {avg_time:.3f} seconds\")\n",
    "\n",
    "# Plot the distribution of reaction times\n",
    "sim.plot_histogram()\n"
   ]
  },
  {
   "cell_type": "markdown",
   "id": "ab92bd47",
   "metadata": {},
   "source": [
    "## Small challenge, change the class so that if you want, you can define the average of the distribution, standard deviation and number of bins"
   ]
  },
  {
   "cell_type": "code",
   "execution_count": 14,
   "id": "d9d661df",
   "metadata": {},
   "outputs": [
    {
     "data": {
      "image/png": "[encoded data removed]",
      "text/plain": [
       "<Figure size 640x480 with 1 Axes>"
      ]
     },
     "metadata": {},
     "output_type": "display_data"
    }
   ],
   "source": [
    "import numpy as np\n",
    "import matplotlib.pyplot as plt\n",
    "\n",
    "class ReactionTimeSimulator:\n",
    "    def __init__(self, n_trials=100, mean=0.3, std=0.05, bins=10):\n",
    "        \"\"\"\n",
    "        Simulate reaction times for a number of trials (e.g., experiments).\n",
    "        \n",
    "        Parameters:\n",
    "            n_trials (int): Number of trials to simulate (default 100)\n",
    "            mean (float): Mean reaction time in seconds (default 0.3)\n",
    "            std (float): Standard deviation of reaction time in seconds (default 0.05)\n",
    "            bins (int): Number of bins to use in the histogram (default 10)\n",
    "        \"\"\"\n",
    "        self.n_trials = n_trials\n",
    "        self.mean = mean\n",
    "        self.std = std\n",
    "        self.bins = bins\n",
    "        \n",
    "        # Generate reaction times using a normal distribution with the specified mean and std,\n",
    "        # clipping to avoid negative times.\n",
    "        self.times = np.clip(np.random.normal(loc=self.mean, scale=self.std, size=n_trials),\n",
    "                             a_min=0.0, a_max=None)\n",
    "    \n",
    "    def average_time(self):\n",
    "        \"\"\"Return the average reaction time across trials.\"\"\"\n",
    "        return float(np.mean(self.times))\n",
    "    \n",
    "    def plot_histogram(self):\n",
    "        \"\"\"Plot a histogram of the reaction times using the specified number of bins.\"\"\"\n",
    "        plt.hist(self.times, bins=self.bins, edgecolor='black')\n",
    "        plt.title(\"Reaction Time Distribution\")\n",
    "        plt.xlabel(\"Reaction Time (s)\")\n",
    "        plt.ylabel(\"Frequency\")\n",
    "        plt.show()\n",
    "\n",
    "\n",
    "sim = ReactionTimeSimulator(n_trials=100000)\n",
    "sim.plot_histogram()\n",
    "\n"
   ]
  },
  {
   "cell_type": "markdown",
   "id": "7617c7b8",
   "metadata": {},
   "source": [
    "## Subclasses and Inheritance\n",
    "\n",
    "Inheritance allows you to create a new class (a subclass) that inherits attributes and methods from an existing class (the parent class), then extend or override functionality as needed.\n",
    "\n",
    "For example:\n",
    "- **Base Class:** `Experiment` with a generic `run()` method.\n",
    "- **Subclasses:** `EEGExperiment` and `MRIExperiment` that override `run()` to provide specific implementations.\n",
    "\n",
    "Inheritance promotes code reuse. You can extend, for instance, a `ReactionTimeSimulator` class to create a `SlowReactionTimeSimulator` that slightly changes the simulation parameters (like adding a delay). \n",
    "\n",
    "This demonstrates the “is-a” relationship: a `SlowReactionTimeSimulator` is a type of `ReactionTimeSimulator`.\n"
   ]
  },
  {
   "cell_type": "code",
   "execution_count": 10,
   "id": "378db837",
   "metadata": {},
   "outputs": [],
   "source": [
    "# Base class\n",
    "class Experiment:\n",
    "    def run(self):\n",
    "        print(\"Running a generic experiment...\")\n",
    "\n",
    "# Subclass inheriting from Experiment\n",
    "class EEGExperiment(Experiment):\n",
    "    def run(self):\n",
    "        print(\"Collecting EEG data for the experiment...\")\n",
    "\n",
    "class MRIExperiment(Experiment):\n",
    "    def run(self):\n",
    "        print(\"Collecting MRI scan data for the experiment...\")\n"
   ]
  },
  {
   "cell_type": "code",
   "execution_count": 11,
   "id": "b185e9d4",
   "metadata": {},
   "outputs": [
    {
     "name": "stdout",
     "output_type": "stream",
     "text": [
      "Collecting EEG data for the experiment...\n",
      "Collecting MRI scan data for the experiment...\n",
      "Collecting EEG data for the experiment...\n",
      "Collecting MRI scan data for the experiment...\n"
     ]
    }
   ],
   "source": [
    "# Using the subclasses\n",
    "exp1 = EEGExperiment()\n",
    "exp2 = MRIExperiment()\n",
    "exp1.run()   # calls the overridden method in EEGExperiment\n",
    "exp2.run()   # calls the overridden method in MRIExperiment\n",
    "\n",
    "# We can treat them as their base class\n",
    "experiments = [exp1, exp2]\n",
    "for exp in experiments:\n",
    "    exp.run()  # each will run its own version of the method\n"
   ]
  },
  {
   "cell_type": "markdown",
   "id": "1542709e",
   "metadata": {},
   "source": [
    "## Challenge 1: Protein Sequence Class\n",
    "\n",
    "**Problem:**\n",
    "- Create a class `ProteinSequence` that:\n",
    "  - Initializes with a name and a protein sequence string (using one-letter codes for amino acids).\n",
    "  - Provides a method `length()` to return the total number of amino acids.\n",
    "  - Provides a method `frequency()` (or `composition()`) that returns a dictionary of amino acid frequencies in the sequence.\n",
    "\n",
    "**Tasks:**\n",
    "1. Implement the `ProteinSequence` class based on the specifications.\n",
    "2. Create an instance with a sample protein sequence.\n",
    "3. Use the `length()` and `frequency()` methods to print and verify the results.\n",
    "\n",
    "*Hint:* Consider using Python’s `collections.Counter` to count the frequency of amino acids.\n",
    "\n",
    "Example usage prompt:\n",
    "```\n",
    "prot = ProteinSequence(name=\"ExampleProtein\", sequence=protein_seq)\n",
    "\n",
    "print(\"Name:\", prot.name)\n",
    "print(\"Sequence:\", prot.sequence)\n",
    "print(\"Length:\", prot.length())\n",
    "print(\"Amino acid frequencies:\", prot.frequency())\n"
   ]
  },
  {
   "cell_type": "code",
   "execution_count": 12,
   "id": "c61c25b1",
   "metadata": {},
   "outputs": [],
   "source": [
    "from collections import Counter\n",
    "\n",
    "class ProteinSequence:\n",
    "    def __init__(self, name, sequence):\n",
    "        \"\"\"Initialize with protein name and sequence string.\"\"\"\n",
    "        self.name = name\n",
    "        self.sequence = sequence.upper()  # store as uppercase for consistency\n",
    "    \n",
    "    def length(self):\n",
    "        \"\"\"Return the length of the protein sequence.\"\"\"\n",
    "        return len(self.sequence)\n",
    "    \n",
    "    def frequency(self):\n",
    "        \"\"\"Return a dictionary of amino acid frequencies (counts) in the sequence.\"\"\"\n",
    "        # We can use collections.Counter for brevity, which counts each character in the string\n",
    "        freq_dict = Counter(self.sequence)\n",
    "        return dict(freq_dict)  # convert Counter object to a regular dictionary\n"
   ]
  },
  {
   "cell_type": "code",
   "execution_count": 15,
   "id": "b3678764",
   "metadata": {},
   "outputs": [
    {
     "name": "stdout",
     "output_type": "stream",
     "text": [
      "Name: ExampleProtein\n",
      "Sequence: MIVLGHFFWG\n",
      "Length: 10\n",
      "Amino acid frequencies: {'M': 1, 'I': 1, 'V': 1, 'L': 1, 'G': 2, 'H': 1, 'F': 2, 'W': 1}\n"
     ]
    }
   ],
   "source": [
    "# Example protein sequence (random short sequence for demonstration)\n",
    "protein_seq = \"MIVLGHFFWG\"  # 10 amino acids (M, I, V, L, G, H, F, F, W, G)\n",
    "prot = ProteinSequence(name=\"ExampleProtein\", sequence=protein_seq)\n",
    "\n",
    "print(\"Name:\", prot.name)\n",
    "print(\"Sequence:\", prot.sequence)\n",
    "print(\"Length:\", prot.length())\n",
    "print(\"Amino acid frequencies:\", prot.frequency())\n"
   ]
  },
  {
   "cell_type": "code",
   "execution_count": 16,
   "id": "bf373f79",
   "metadata": {},
   "outputs": [
    {
     "name": "stdout",
     "output_type": "stream",
     "text": [
      "Frequency table:\n",
      "M    1\n",
      "I    1\n",
      "V    1\n",
      "L    1\n",
      "G    2\n",
      "H    1\n",
      "F    2\n",
      "W    1\n",
      "dtype: int64\n"
     ]
    }
   ],
   "source": [
    "import pandas as pd\n",
    "freq = prot.frequency()\n",
    "freq_series = pd.Series(freq)\n",
    "print(\"Frequency table:\")\n",
    "print(freq_series)\n"
   ]
  },
  {
   "cell_type": "markdown",
   "id": "179f7fbd",
   "metadata": {},
   "source": [
    "## Challenge 2: Inheritance – Very Slow Reaction Time Simulator\n",
    "\n",
    "**Problem:**\n",
    "- Create a subclass `SlowReactionTimeSimulator` of `ReactionTimeSimulator` that simulates a scenario where reaction times are significantly slower (e.g., a mean of 0.6 seconds instead of 0.3 seconds).\n",
    "\n",
    "**Tasks:**\n",
    "1. Implement `SlowReactionTimeSimulator` by overriding the simulation process (for instance, by setting a higher mean in the random number generation).\n",
    "2. Instantiate both a regular `ReactionTimeSimulator` and your `SlowReactionTimeSimulator` with the same number of trials (e.g., 100) and compare their average reaction times by printing the results.\n",
    "3. *(Optional)* Plot histograms for both to visualize the difference in reaction time distributions.\n",
    "\n",
    "*Hint:* How to pass all arguments without having to redefine them?"
   ]
  },
  {
   "cell_type": "code",
   "execution_count": 17,
   "id": "87de0ad2",
   "metadata": {},
   "outputs": [],
   "source": [
    "class VerySlowReactionTimeSimulator(ReactionTimeSimulator):\n",
    "    def __init__(self, delay=0.0, *args, **kwargs):\n",
    "        # Call the parent constructor with whatever additional arguments are provided.\n",
    "        super().__init__(*args, **kwargs)\n",
    "        # Modify the reaction times based on the additional delay.\n",
    "        self.times = self.times + delay"
   ]
  },
  {
   "cell_type": "code",
   "execution_count": 20,
   "id": "9686181b",
   "metadata": {},
   "outputs": [
    {
     "name": "stdout",
     "output_type": "stream",
     "text": [
      "Normal simulator average: 0.301 s\n",
      "Very slow simulator average: 0.801 s\n"
     ]
    }
   ],
   "source": [
    "# Set seed for reproducibility\n",
    "np.random.seed(101)\n",
    "normal_sim = ReactionTimeSimulator(n_trials=10000,mean=0.3,std=0.05,bins=100)\n",
    "np.random.seed(101)\n",
    "slow_sim = VerySlowReactionTimeSimulator(n_trials=10000,delay=0.5)\n",
    "\n",
    "print(f\"Normal simulator average: {normal_sim.average_time():.3f} s\")\n",
    "print(f\"Very slow simulator average: {slow_sim.average_time():.3f} s\")\n"
   ]
  },
  {
   "cell_type": "code",
   "execution_count": 21,
   "id": "46ad2bf9",
   "metadata": {},
   "outputs": [
    {
     "data": {
      "image/png": "[encoded data removed]",
      "text/plain": [
       "<Figure size 600x400 with 1 Axes>"
      ]
     },
     "metadata": {},
     "output_type": "display_data"
    }
   ],
   "source": [
    "# Plotting both histograms to compare (optional)\n",
    "import matplotlib.pyplot as plt\n",
    "plt.figure(figsize=(6,4))\n",
    "plt.hist(normal_sim.times, bins=100, alpha=0.7, label=\"Normal\", color='blue')\n",
    "plt.hist(slow_sim.times, bins=100, alpha=0.7, label=\"Very Slow\", color='red')\n",
    "plt.xlabel(\"Reaction Time (s)\")\n",
    "plt.ylabel(\"Frequency\")\n",
    "plt.title(\"Comparison of Reaction Time Distributions\")\n",
    "plt.legend()\n",
    "plt.show()\n"
   ]
  },
  {
   "cell_type": "markdown",
   "id": "f284fddb",
   "metadata": {},
   "source": [
    "# Explanation: `*args` and `**kwargs` in Python\n",
    "\n",
    "When defining functions in Python, `*args` and `**kwargs` allow you to accept an arbitrary number of extra arguments: *args collects any additional positional arguments into a tuple, while **kwargs collects any extra keyword arguments into a dictionary. This flexibility lets you write functions that can handle varying inputs without having to explicitly list every parameter.\n",
    "\n",
    "## `*args` (Variable-length Positional Arguments)\n",
    "\n",
    "- **Purpose:**  \n",
    "  `*args` is used to collect extra positional arguments passed to a function into a tuple.\n",
    "\n",
    "- **How It Works:**  \n",
    "  When you prefix a parameter with an asterisk (`*`), any additional positional arguments passed to the function are bundled into a tuple.\n",
    "\n",
    "- **Example:**\n",
    "\n",
    "  ```python\n",
    "  def my_function(*args):\n",
    "      for arg in args:\n",
    "          print(arg)\n",
    "\n",
    "  my_function(1, 2, 3)\n",
    "  # Output:\n",
    "  # 1\n",
    "  # 2\n",
    "  # 3\n",
    "\n",
    "\n",
    "## `kwargs` (Variable-length Keyword Arguments)\n",
    "\n",
    "  **Purpose:**\n",
    "  **kwargs allows you to capture extra keyword arguments (arguments passed by name) in a function call into a dictionary.\n",
    "\n",
    "  How It Works:\n",
    "  When you prefix a parameter with two asterisks (**), any additional keyword arguments passed to the function are bundled into a dictionary where the keys are the argument names and the values are the argument values.\n",
    "\n",
    "  ```python\n",
    "  def my_function(**kwargs):\n",
    "    for key, value in kwargs.items():\n",
    "        print(f\"{key}: {value}\")\n",
    "\n",
    "my_function(a=1, b=2, c=3)\n",
    "# Output:\n",
    "# a: 1\n",
    "# b: 2\n",
    "# c: 3\n"
   ]
  }
 ],
 "metadata": {
  "kernelspec": {
   "display_name": "base",
   "language": "python",
   "name": "python3"
  },
  "language_info": {
   "codemirror_mode": {
    "name": "ipython",
    "version": 3
   },
   "file_extension": ".py",
   "mimetype": "text/x-python",
   "name": "python",
   "nbconvert_exporter": "python",
   "pygments_lexer": "ipython3",
   "version": "3.12.10"
  }
 },
 "nbformat": 4,
 "nbformat_minor": 5
}
